{
 "cells": [
  {
   "cell_type": "code",
   "execution_count": 107,
   "metadata": {},
   "outputs": [],
   "source": [
    "#Alumnos:\n",
    "#Bobadilla Catalan, German - 90123\n",
    "#Calvani, Sergio Alejandro - 98588\n",
    "#Valdivia, Josue Giovanni - 93075"
   ]
  },
  {
   "cell_type": "markdown",
   "metadata": {},
   "source": [
    "# Machine Learning"
   ]
  },
  {
   "cell_type": "code",
   "execution_count": 108,
   "metadata": {},
   "outputs": [],
   "source": [
    "#Importamos las librerias\n",
    "import pandas as pd\n",
    "import numpy as np\n",
    "import re\n",
    "import py\n",
    "import category_encoders as ce\n",
    "import matplotlib.pyplot as plt\n",
    "import spacy\n",
    "import en_core_web_sm\n",
    "import nltk\n",
    "import sklearn\n",
    "import textfeatures as tf\n",
    "from langdetect import detect\n",
    "from pandas import DataFrame\n",
    "from spacy import displacy\n",
    "from wordcloud import WordCloud\n",
    "from pandas import DataFrame\n",
    "from nltk.corpus import stopwords\n",
    "from nltk.stem import SnowballStemmer\n",
    "from nltk.tokenize import TweetTokenizer\n",
    "from nltk.stem import WordNetLemmatizer\n",
    "from collections import Counter\n",
    "from sklearn.model_selection import train_test_split\n",
    "from sklearn.ensemble import RandomForestClassifier\n",
    "from sklearn.naive_bayes import GaussianNB\n",
    "from sklearn import svm\n",
    "from sklearn.linear_model import LogisticRegression\n",
    "from sklearn.preprocessing import StandardScaler\n",
    "from sklearn.linear_model import Perceptron\n",
    "from sklearn.metrics import accuracy_score\n",
    "from sklearn.model_selection import GridSearchCV\n",
    "from sklearn.neural_network import MLPClassifier\n",
    "from sklearn.neighbors import KNeighborsClassifier\n",
    "from sklearn.tree import DecisionTreeClassifier\n",
    "from sklearn.ensemble import AdaBoostClassifier\n",
    "from sklearn.linear_model import SGDClassifier\n",
    "from sklearn.feature_extraction.text import CountVectorizer\n",
    "from sklearn.feature_extraction.text import TfidfVectorizer\n",
    "from sklearn.feature_extraction.text import HashingVectorizer\n",
    "from nltk.stem.snowball import EnglishStemmer\n",
    "from catboost import CatBoostClassifier\n",
    "from sklearn.ensemble import BaggingClassifier\n",
    "from sklearn.ensemble import VotingClassifier\n",
    "from sklearn.model_selection import GridSearchCV\n",
    "from sklearn.cluster import KMeans\n",
    "\n",
    "plt.style.use('default')\n",
    "nlp = en_core_web_sm.load()"
   ]
  },
  {
   "cell_type": "markdown",
   "metadata": {},
   "source": [
    "## Funciones"
   ]
  },
  {
   "cell_type": "code",
   "execution_count": 109,
   "metadata": {},
   "outputs": [],
   "source": [
    "#Cargo estas funciones para utilizarlas debajo\n",
    "tknzr = TweetTokenizer()\n",
    "lemmatizer = WordNetLemmatizer()\n",
    "stemmer = SnowballStemmer('english')"
   ]
  },
  {
   "cell_type": "code",
   "execution_count": 110,
   "metadata": {},
   "outputs": [],
   "source": [
    "stemmer_count = EnglishStemmer()\n",
    "analyzer = TfidfVectorizer().build_analyzer()"
   ]
  },
  {
   "cell_type": "code",
   "execution_count": 111,
   "metadata": {},
   "outputs": [],
   "source": [
    "#Funcion para definir la locacion\n",
    "def MeQuedoConLocacion(Primero,Segundo,Tercero,Cuarto):\n",
    "    if(pd.isna(Primero)) & (pd.isna(Segundo)) & (pd.isna(Tercero)):\n",
    "        return 'Sin Locacion'\n",
    "    if(pd.isna(Primero)) & (pd.isna(Segundo)) & (pd.notna(Tercero)):\n",
    "        return Cuarto\n",
    "    if(pd.isna(Primero)):\n",
    "        return Segundo\n",
    "    if(pd.isna(Segundo)):\n",
    "        return Primero"
   ]
  },
  {
   "cell_type": "code",
   "execution_count": 112,
   "metadata": {},
   "outputs": [],
   "source": [
    "#Funcion para hacer One Hot Encoding agregando un sufijo al nombre\n",
    "def oneHotEncoding(df, columna, sufijo):\n",
    "    one_hot = pd.get_dummies(df[columna])\n",
    "    one_hot.columns = [str(col) + sufijo for col in one_hot.columns]\n",
    "    df.drop(columna, axis=1, inplace=True)\n",
    "    df = pd.concat([df, one_hot], axis=1)\n",
    "    return df"
   ]
  },
  {
   "cell_type": "code",
   "execution_count": 113,
   "metadata": {},
   "outputs": [],
   "source": [
    "def stem_tokens(tokens, stemmer):\n",
    "    stemmed = []\n",
    "    for item in tokens:\n",
    "        stemmed.append(stemmer.stem(item))\n",
    "    return stemmed"
   ]
  },
  {
   "cell_type": "code",
   "execution_count": 114,
   "metadata": {},
   "outputs": [],
   "source": [
    "def stemmed_words(doc):\n",
    "    return (stemmer_count.stem(w) for w in analyzer(doc))"
   ]
  },
  {
   "cell_type": "code",
   "execution_count": 115,
   "metadata": {},
   "outputs": [],
   "source": [
    "def MeQuedoEstado(abreviacion,estado):\n",
    "    if(pd.isna(abreviacion)):\n",
    "        return np.nan\n",
    "    if(pd.notna(abreviacion)):\n",
    "        return estado"
   ]
  },
  {
   "cell_type": "code",
   "execution_count": 116,
   "metadata": {},
   "outputs": [],
   "source": [
    "def EstadoFinal(Est_Pri,Abbr_Pri,Est_Seg,Abbr_Seg):\n",
    "    if(pd.isna(Est_Pri)) & (pd.isna(Abbr_Pri)) & (pd.isna(Est_Seg)) & (pd.isna(Abbr_Seg)):\n",
    "        return np.nan\n",
    "    if(pd.notna(Est_Pri)) & (pd.isna(Abbr_Pri)) & (pd.isna(Est_Seg)) & (pd.isna(Abbr_Seg)):\n",
    "        return Est_Pri\n",
    "    if(pd.isna(Est_Pri)) & (pd.notna(Abbr_Pri)) & (pd.isna(Est_Seg)) & (pd.isna(Abbr_Seg)):\n",
    "        return Abbr_Pri\n",
    "    if(pd.isna(Est_Pri)) & (pd.isna(Abbr_Pri)) & (pd.notna(Est_Seg)) & (pd.isna(Abbr_Seg)):\n",
    "        return Est_Seg\n",
    "    if(pd.isna(Est_Pri)) & (pd.isna(Abbr_Pri)) & (pd.isna(Est_Seg)) & (pd.notna(Abbr_Seg)):\n",
    "        return Abbr_Seg"
   ]
  },
  {
   "cell_type": "code",
   "execution_count": 117,
   "metadata": {},
   "outputs": [],
   "source": [
    "def EsNulo(campo):\n",
    "    if(pd.isna(campo)):\n",
    "        return 'EsNulo'\n",
    "    if(pd.notna(campo)):\n",
    "        return 'NoNulo'"
   ]
  },
  {
   "cell_type": "code",
   "execution_count": 118,
   "metadata": {},
   "outputs": [],
   "source": [
    "def idioma(texto):\n",
    "    return detect(texto)"
   ]
  },
  {
   "cell_type": "code",
   "execution_count": 119,
   "metadata": {},
   "outputs": [],
   "source": [
    "def OneHotIdiomas(idioma,idiomaTweet):\n",
    "    if(idioma==idiomaTweet):\n",
    "        return True\n",
    "    if(idioma!=idiomaTweet):\n",
    "        return False"
   ]
  },
  {
   "cell_type": "code",
   "execution_count": 120,
   "metadata": {},
   "outputs": [],
   "source": [
    "def SinContinente(locacion,continente):\n",
    "    if((locacion=='Sin Locacion') & (pd.isna(continente))):\n",
    "        return 'Continente Nulo'\n",
    "    if((locacion=='Sin Locacion') & (pd.notna(continente))):\n",
    "       return 'Contienente Invalido'\n",
    "    if((pd.notna(locacion)) & (pd.notna(continente))):\n",
    "       return continente"
   ]
  },
  {
   "cell_type": "code",
   "execution_count": 121,
   "metadata": {},
   "outputs": [],
   "source": [
    "def EraCiudad(columna):\n",
    "    if(pd.isna(columna)):\n",
    "        return False\n",
    "    if(pd.notna(columna)):\n",
    "        return True"
   ]
  },
  {
   "cell_type": "code",
   "execution_count": 122,
   "metadata": {},
   "outputs": [],
   "source": [
    "def SinEstado(estado,pais):\n",
    "    if(pd.notna(estado)):\n",
    "        return estado\n",
    "    if((pd.isna(estado)) & (pais!='United States')):\n",
    "        return 'Sin_Estado'\n",
    "    if((pd.isna(estado)) & (pais=='United States')):\n",
    "        return 'USA_Sin_Estado'"
   ]
  },
  {
   "cell_type": "markdown",
   "metadata": {},
   "source": [
    "### Carga de los CSVs"
   ]
  },
  {
   "cell_type": "code",
   "execution_count": 123,
   "metadata": {},
   "outputs": [
    {
     "data": {
      "text/html": [
       "<div>\n",
       "<style scoped>\n",
       "    .dataframe tbody tr th:only-of-type {\n",
       "        vertical-align: middle;\n",
       "    }\n",
       "\n",
       "    .dataframe tbody tr th {\n",
       "        vertical-align: top;\n",
       "    }\n",
       "\n",
       "    .dataframe thead th {\n",
       "        text-align: right;\n",
       "    }\n",
       "</style>\n",
       "<table border=\"1\" class=\"dataframe\">\n",
       "  <thead>\n",
       "    <tr style=\"text-align: right;\">\n",
       "      <th></th>\n",
       "      <th>id</th>\n",
       "      <th>keyword</th>\n",
       "      <th>location</th>\n",
       "      <th>text</th>\n",
       "      <th>target</th>\n",
       "    </tr>\n",
       "  </thead>\n",
       "  <tbody>\n",
       "    <tr>\n",
       "      <th>0</th>\n",
       "      <td>1</td>\n",
       "      <td>NaN</td>\n",
       "      <td>NaN</td>\n",
       "      <td>our deeds are the reason of this #earthquake m...</td>\n",
       "      <td>1</td>\n",
       "    </tr>\n",
       "    <tr>\n",
       "      <th>1</th>\n",
       "      <td>4</td>\n",
       "      <td>NaN</td>\n",
       "      <td>NaN</td>\n",
       "      <td>forest fire near la ronge sask. canada</td>\n",
       "      <td>1</td>\n",
       "    </tr>\n",
       "    <tr>\n",
       "      <th>2</th>\n",
       "      <td>5</td>\n",
       "      <td>NaN</td>\n",
       "      <td>NaN</td>\n",
       "      <td>all residents asked to 'shelter in place' are ...</td>\n",
       "      <td>1</td>\n",
       "    </tr>\n",
       "    <tr>\n",
       "      <th>3</th>\n",
       "      <td>6</td>\n",
       "      <td>NaN</td>\n",
       "      <td>NaN</td>\n",
       "      <td>13,000 people receive #wildfires evacuation or...</td>\n",
       "      <td>1</td>\n",
       "    </tr>\n",
       "    <tr>\n",
       "      <th>4</th>\n",
       "      <td>7</td>\n",
       "      <td>NaN</td>\n",
       "      <td>NaN</td>\n",
       "      <td>just got sent this photo from ruby #alaska as ...</td>\n",
       "      <td>1</td>\n",
       "    </tr>\n",
       "  </tbody>\n",
       "</table>\n",
       "</div>"
      ],
      "text/plain": [
       "   id keyword location                                               text  \\\n",
       "0   1     NaN      NaN  our deeds are the reason of this #earthquake m...   \n",
       "1   4     NaN      NaN             forest fire near la ronge sask. canada   \n",
       "2   5     NaN      NaN  all residents asked to 'shelter in place' are ...   \n",
       "3   6     NaN      NaN  13,000 people receive #wildfires evacuation or...   \n",
       "4   7     NaN      NaN  just got sent this photo from ruby #alaska as ...   \n",
       "\n",
       "   target  \n",
       "0       1  \n",
       "1       1  \n",
       "2       1  \n",
       "3       1  \n",
       "4       1  "
      ]
     },
     "execution_count": 123,
     "metadata": {},
     "output_type": "execute_result"
    }
   ],
   "source": [
    "#Cargamos el set de entrenamiento\n",
    "train=pd.read_csv('Data/train.csv')\n",
    "train['text']=train['text'].str.lower()\n",
    "train.head()"
   ]
  },
  {
   "cell_type": "code",
   "execution_count": 124,
   "metadata": {},
   "outputs": [
    {
     "data": {
      "text/html": [
       "<div>\n",
       "<style scoped>\n",
       "    .dataframe tbody tr th:only-of-type {\n",
       "        vertical-align: middle;\n",
       "    }\n",
       "\n",
       "    .dataframe tbody tr th {\n",
       "        vertical-align: top;\n",
       "    }\n",
       "\n",
       "    .dataframe thead th {\n",
       "        text-align: right;\n",
       "    }\n",
       "</style>\n",
       "<table border=\"1\" class=\"dataframe\">\n",
       "  <thead>\n",
       "    <tr style=\"text-align: right;\">\n",
       "      <th></th>\n",
       "      <th>city</th>\n",
       "      <th>country</th>\n",
       "    </tr>\n",
       "  </thead>\n",
       "  <tbody>\n",
       "    <tr>\n",
       "      <th>0</th>\n",
       "      <td>Tokyo</td>\n",
       "      <td>Japan</td>\n",
       "    </tr>\n",
       "    <tr>\n",
       "      <th>1</th>\n",
       "      <td>New York</td>\n",
       "      <td>United States</td>\n",
       "    </tr>\n",
       "    <tr>\n",
       "      <th>2</th>\n",
       "      <td>Mexico City</td>\n",
       "      <td>Mexico</td>\n",
       "    </tr>\n",
       "    <tr>\n",
       "      <th>3</th>\n",
       "      <td>Mumbai</td>\n",
       "      <td>India</td>\n",
       "    </tr>\n",
       "    <tr>\n",
       "      <th>4</th>\n",
       "      <td>São Paulo</td>\n",
       "      <td>Brazil</td>\n",
       "    </tr>\n",
       "  </tbody>\n",
       "</table>\n",
       "</div>"
      ],
      "text/plain": [
       "          city        country\n",
       "0        Tokyo          Japan\n",
       "1     New York  United States\n",
       "2  Mexico City         Mexico\n",
       "3       Mumbai          India\n",
       "4    São Paulo         Brazil"
      ]
     },
     "execution_count": 124,
     "metadata": {},
     "output_type": "execute_result"
    }
   ],
   "source": [
    "#Cargamos el csv de las Ciudades\n",
    "ciudades=pd.read_csv('Data/worldcities.csv')\n",
    "ciudades=ciudades[['city','country']]\n",
    "ciudades.head()"
   ]
  },
  {
   "cell_type": "code",
   "execution_count": 125,
   "metadata": {},
   "outputs": [
    {
     "data": {
      "text/html": [
       "<div>\n",
       "<style scoped>\n",
       "    .dataframe tbody tr th:only-of-type {\n",
       "        vertical-align: middle;\n",
       "    }\n",
       "\n",
       "    .dataframe tbody tr th {\n",
       "        vertical-align: top;\n",
       "    }\n",
       "\n",
       "    .dataframe thead th {\n",
       "        text-align: right;\n",
       "    }\n",
       "</style>\n",
       "<table border=\"1\" class=\"dataframe\">\n",
       "  <thead>\n",
       "    <tr style=\"text-align: right;\">\n",
       "      <th></th>\n",
       "      <th>name</th>\n",
       "      <th>iso_a3</th>\n",
       "    </tr>\n",
       "  </thead>\n",
       "  <tbody>\n",
       "    <tr>\n",
       "      <th>0</th>\n",
       "      <td>Fiji</td>\n",
       "      <td>FJI</td>\n",
       "    </tr>\n",
       "    <tr>\n",
       "      <th>1</th>\n",
       "      <td>Tanzania</td>\n",
       "      <td>TZA</td>\n",
       "    </tr>\n",
       "    <tr>\n",
       "      <th>2</th>\n",
       "      <td>W. Sahara</td>\n",
       "      <td>ESH</td>\n",
       "    </tr>\n",
       "    <tr>\n",
       "      <th>3</th>\n",
       "      <td>Canada</td>\n",
       "      <td>CAN</td>\n",
       "    </tr>\n",
       "    <tr>\n",
       "      <th>4</th>\n",
       "      <td>United States</td>\n",
       "      <td>USA</td>\n",
       "    </tr>\n",
       "  </tbody>\n",
       "</table>\n",
       "</div>"
      ],
      "text/plain": [
       "            name iso_a3\n",
       "0           Fiji    FJI\n",
       "1       Tanzania    TZA\n",
       "2      W. Sahara    ESH\n",
       "3         Canada    CAN\n",
       "4  United States    USA"
      ]
     },
     "execution_count": 125,
     "metadata": {},
     "output_type": "execute_result"
    }
   ],
   "source": [
    "#Cargamos el csv con los Paises del mundo\n",
    "mundo=pd.read_csv('Data/Mundo.csv')\n",
    "mundo=mundo[['name','iso_a3']]\n",
    "mundo.head()"
   ]
  },
  {
   "cell_type": "code",
   "execution_count": 126,
   "metadata": {},
   "outputs": [
    {
     "data": {
      "text/html": [
       "<div>\n",
       "<style scoped>\n",
       "    .dataframe tbody tr th:only-of-type {\n",
       "        vertical-align: middle;\n",
       "    }\n",
       "\n",
       "    .dataframe tbody tr th {\n",
       "        vertical-align: top;\n",
       "    }\n",
       "\n",
       "    .dataframe thead th {\n",
       "        text-align: right;\n",
       "    }\n",
       "</style>\n",
       "<table border=\"1\" class=\"dataframe\">\n",
       "  <thead>\n",
       "    <tr style=\"text-align: right;\">\n",
       "      <th></th>\n",
       "      <th>Locacion</th>\n",
       "      <th>continent</th>\n",
       "    </tr>\n",
       "  </thead>\n",
       "  <tbody>\n",
       "    <tr>\n",
       "      <th>0</th>\n",
       "      <td>Fiji</td>\n",
       "      <td>Oceania</td>\n",
       "    </tr>\n",
       "    <tr>\n",
       "      <th>1</th>\n",
       "      <td>Tanzania</td>\n",
       "      <td>Africa</td>\n",
       "    </tr>\n",
       "    <tr>\n",
       "      <th>2</th>\n",
       "      <td>W. Sahara</td>\n",
       "      <td>Africa</td>\n",
       "    </tr>\n",
       "    <tr>\n",
       "      <th>3</th>\n",
       "      <td>Canada</td>\n",
       "      <td>North America</td>\n",
       "    </tr>\n",
       "    <tr>\n",
       "      <th>4</th>\n",
       "      <td>United States</td>\n",
       "      <td>North America</td>\n",
       "    </tr>\n",
       "  </tbody>\n",
       "</table>\n",
       "</div>"
      ],
      "text/plain": [
       "        Locacion      continent\n",
       "0           Fiji        Oceania\n",
       "1       Tanzania         Africa\n",
       "2      W. Sahara         Africa\n",
       "3         Canada  North America\n",
       "4  United States  North America"
      ]
     },
     "execution_count": 126,
     "metadata": {},
     "output_type": "execute_result"
    }
   ],
   "source": [
    "#Cargamos el csv con los Paises del mundo\n",
    "continentes=pd.read_csv('Data/Mundo.csv')\n",
    "continentes=continentes[['name','continent']]\n",
    "continentes.rename(columns={'name':'Locacion'},inplace=True)\n",
    "continentes.head()"
   ]
  },
  {
   "cell_type": "code",
   "execution_count": 127,
   "metadata": {},
   "outputs": [
    {
     "data": {
      "text/html": [
       "<div>\n",
       "<style scoped>\n",
       "    .dataframe tbody tr th:only-of-type {\n",
       "        vertical-align: middle;\n",
       "    }\n",
       "\n",
       "    .dataframe tbody tr th {\n",
       "        vertical-align: top;\n",
       "    }\n",
       "\n",
       "    .dataframe thead th {\n",
       "        text-align: right;\n",
       "    }\n",
       "</style>\n",
       "<table border=\"1\" class=\"dataframe\">\n",
       "  <thead>\n",
       "    <tr style=\"text-align: right;\">\n",
       "      <th></th>\n",
       "      <th>Nombre_Estado</th>\n",
       "      <th>Abreviacion_Estado</th>\n",
       "    </tr>\n",
       "  </thead>\n",
       "  <tbody>\n",
       "    <tr>\n",
       "      <th>0</th>\n",
       "      <td>Washington</td>\n",
       "      <td>WA</td>\n",
       "    </tr>\n",
       "    <tr>\n",
       "      <th>1</th>\n",
       "      <td>Montana</td>\n",
       "      <td>MT</td>\n",
       "    </tr>\n",
       "    <tr>\n",
       "      <th>2</th>\n",
       "      <td>Maine</td>\n",
       "      <td>ME</td>\n",
       "    </tr>\n",
       "    <tr>\n",
       "      <th>3</th>\n",
       "      <td>North Dakota</td>\n",
       "      <td>ND</td>\n",
       "    </tr>\n",
       "    <tr>\n",
       "      <th>4</th>\n",
       "      <td>South Dakota</td>\n",
       "      <td>SD</td>\n",
       "    </tr>\n",
       "  </tbody>\n",
       "</table>\n",
       "</div>"
      ],
      "text/plain": [
       "  Nombre_Estado Abreviacion_Estado\n",
       "0    Washington                 WA\n",
       "1       Montana                 MT\n",
       "2         Maine                 ME\n",
       "3  North Dakota                 ND\n",
       "4  South Dakota                 SD"
      ]
     },
     "execution_count": 127,
     "metadata": {},
     "output_type": "execute_result"
    }
   ],
   "source": [
    "estados_usa=pd.read_csv('Data/Estados_USA.csv')\n",
    "estados_usa.drop(columns={'Unnamed: 0'},inplace=True)\n",
    "estados_usa.head()"
   ]
  },
  {
   "cell_type": "code",
   "execution_count": 128,
   "metadata": {},
   "outputs": [
    {
     "data": {
      "text/html": [
       "<div>\n",
       "<style scoped>\n",
       "    .dataframe tbody tr th:only-of-type {\n",
       "        vertical-align: middle;\n",
       "    }\n",
       "\n",
       "    .dataframe tbody tr th {\n",
       "        vertical-align: top;\n",
       "    }\n",
       "\n",
       "    .dataframe thead th {\n",
       "        text-align: right;\n",
       "    }\n",
       "</style>\n",
       "<table border=\"1\" class=\"dataframe\">\n",
       "  <thead>\n",
       "    <tr style=\"text-align: right;\">\n",
       "      <th></th>\n",
       "      <th>Unnamed: 0</th>\n",
       "    </tr>\n",
       "    <tr>\n",
       "      <th>Hashtag</th>\n",
       "      <th></th>\n",
       "    </tr>\n",
       "  </thead>\n",
       "  <tbody>\n",
       "    <tr>\n",
       "      <th>news</th>\n",
       "      <td>1</td>\n",
       "    </tr>\n",
       "    <tr>\n",
       "      <th>hot</th>\n",
       "      <td>0</td>\n",
       "    </tr>\n",
       "    <tr>\n",
       "      <th>best</th>\n",
       "      <td>1609</td>\n",
       "    </tr>\n",
       "    <tr>\n",
       "      <th>prebreak</th>\n",
       "      <td>1167</td>\n",
       "    </tr>\n",
       "    <tr>\n",
       "      <th>nowplaying</th>\n",
       "      <td>3</td>\n",
       "    </tr>\n",
       "  </tbody>\n",
       "</table>\n",
       "</div>"
      ],
      "text/plain": [
       "            Unnamed: 0\n",
       "Hashtag               \n",
       "news                 1\n",
       "hot                  0\n",
       "best              1609\n",
       "prebreak          1167\n",
       "nowplaying           3"
      ]
     },
     "execution_count": 128,
     "metadata": {},
     "output_type": "execute_result"
    }
   ],
   "source": [
    "#Cargamos el csv con los hashtags mas utilizados\n",
    "hashtags=pd.read_csv('Data/Hashtags_Total.csv')\n",
    "hashtags['Hashtag']=hashtags['Hashtag'].str.lower()\n",
    "hashtags.set_index('Hashtag',inplace=True)\n",
    "hashtags.head()"
   ]
  },
  {
   "cell_type": "code",
   "execution_count": 129,
   "metadata": {},
   "outputs": [
    {
     "data": {
      "text/html": [
       "<div>\n",
       "<style scoped>\n",
       "    .dataframe tbody tr th:only-of-type {\n",
       "        vertical-align: middle;\n",
       "    }\n",
       "\n",
       "    .dataframe tbody tr th {\n",
       "        vertical-align: top;\n",
       "    }\n",
       "\n",
       "    .dataframe thead th {\n",
       "        text-align: right;\n",
       "    }\n",
       "</style>\n",
       "<table border=\"1\" class=\"dataframe\">\n",
       "  <thead>\n",
       "    <tr style=\"text-align: right;\">\n",
       "      <th></th>\n",
       "      <th>Unnamed: 0</th>\n",
       "    </tr>\n",
       "    <tr>\n",
       "      <th>Mencion</th>\n",
       "      <th></th>\n",
       "    </tr>\n",
       "  </thead>\n",
       "  <tbody>\n",
       "    <tr>\n",
       "      <th>youtube</th>\n",
       "      <td>0</td>\n",
       "    </tr>\n",
       "    <tr>\n",
       "      <th>arianagrande</th>\n",
       "      <td>3</td>\n",
       "    </tr>\n",
       "    <tr>\n",
       "      <th>foxnews</th>\n",
       "      <td>6</td>\n",
       "    </tr>\n",
       "    <tr>\n",
       "      <th>potus</th>\n",
       "      <td>7</td>\n",
       "    </tr>\n",
       "    <tr>\n",
       "      <th>change</th>\n",
       "      <td>1</td>\n",
       "    </tr>\n",
       "  </tbody>\n",
       "</table>\n",
       "</div>"
      ],
      "text/plain": [
       "              Unnamed: 0\n",
       "Mencion                 \n",
       "youtube                0\n",
       "arianagrande           3\n",
       "foxnews                6\n",
       "potus                  7\n",
       "change                 1"
      ]
     },
     "execution_count": 129,
     "metadata": {},
     "output_type": "execute_result"
    }
   ],
   "source": [
    "#Cargamos el csv con las menciones mas utilizados\n",
    "arrobas=pd.read_csv('Data/Arroba_Total.csv')\n",
    "arrobas['Mencion']=arrobas['Mencion'].str.lower()\n",
    "arrobas.set_index('Mencion',inplace=True)\n",
    "arrobas.head()"
   ]
  },
  {
   "cell_type": "markdown",
   "metadata": {},
   "source": [
    " "
   ]
  },
  {
   "cell_type": "markdown",
   "metadata": {},
   "source": [
    "## 1) Set de Entrenamiento"
   ]
  },
  {
   "cell_type": "markdown",
   "metadata": {},
   "source": [
    "### 1.1) Generamos los Features"
   ]
  },
  {
   "cell_type": "markdown",
   "metadata": {},
   "source": [
    "#### 1.1.1) Count Vectorizer"
   ]
  },
  {
   "cell_type": "code",
   "execution_count": 130,
   "metadata": {},
   "outputs": [],
   "source": [
    "vectorizer = CountVectorizer(stop_words='english', analyzer=stemmed_words,min_df=2)"
   ]
  },
  {
   "cell_type": "code",
   "execution_count": 131,
   "metadata": {},
   "outputs": [],
   "source": [
    "X_train = vectorizer.fit_transform(train['text']).toarray()"
   ]
  },
  {
   "cell_type": "code",
   "execution_count": 132,
   "metadata": {},
   "outputs": [
    {
     "data": {
      "text/html": [
       "<div>\n",
       "<style scoped>\n",
       "    .dataframe tbody tr th:only-of-type {\n",
       "        vertical-align: middle;\n",
       "    }\n",
       "\n",
       "    .dataframe tbody tr th {\n",
       "        vertical-align: top;\n",
       "    }\n",
       "\n",
       "    .dataframe thead th {\n",
       "        text-align: right;\n",
       "    }\n",
       "</style>\n",
       "<table border=\"1\" class=\"dataframe\">\n",
       "  <thead>\n",
       "    <tr style=\"text-align: right;\">\n",
       "      <th></th>\n",
       "      <th>0</th>\n",
       "      <th>1</th>\n",
       "      <th>2</th>\n",
       "      <th>3</th>\n",
       "      <th>4</th>\n",
       "      <th>5</th>\n",
       "      <th>6</th>\n",
       "      <th>7</th>\n",
       "      <th>8</th>\n",
       "      <th>9</th>\n",
       "      <th>...</th>\n",
       "      <th>5517</th>\n",
       "      <th>5518</th>\n",
       "      <th>5519</th>\n",
       "      <th>5520</th>\n",
       "      <th>5521</th>\n",
       "      <th>5522</th>\n",
       "      <th>5523</th>\n",
       "      <th>5524</th>\n",
       "      <th>5525</th>\n",
       "      <th>5526</th>\n",
       "    </tr>\n",
       "  </thead>\n",
       "  <tbody>\n",
       "    <tr>\n",
       "      <th>0</th>\n",
       "      <td>0</td>\n",
       "      <td>0</td>\n",
       "      <td>0</td>\n",
       "      <td>0</td>\n",
       "      <td>0</td>\n",
       "      <td>0</td>\n",
       "      <td>0</td>\n",
       "      <td>0</td>\n",
       "      <td>0</td>\n",
       "      <td>0</td>\n",
       "      <td>...</td>\n",
       "      <td>0</td>\n",
       "      <td>0</td>\n",
       "      <td>0</td>\n",
       "      <td>0</td>\n",
       "      <td>0</td>\n",
       "      <td>0</td>\n",
       "      <td>0</td>\n",
       "      <td>0</td>\n",
       "      <td>0</td>\n",
       "      <td>0</td>\n",
       "    </tr>\n",
       "    <tr>\n",
       "      <th>1</th>\n",
       "      <td>0</td>\n",
       "      <td>0</td>\n",
       "      <td>0</td>\n",
       "      <td>0</td>\n",
       "      <td>0</td>\n",
       "      <td>0</td>\n",
       "      <td>0</td>\n",
       "      <td>0</td>\n",
       "      <td>0</td>\n",
       "      <td>0</td>\n",
       "      <td>...</td>\n",
       "      <td>0</td>\n",
       "      <td>0</td>\n",
       "      <td>0</td>\n",
       "      <td>0</td>\n",
       "      <td>0</td>\n",
       "      <td>0</td>\n",
       "      <td>0</td>\n",
       "      <td>0</td>\n",
       "      <td>0</td>\n",
       "      <td>0</td>\n",
       "    </tr>\n",
       "    <tr>\n",
       "      <th>2</th>\n",
       "      <td>0</td>\n",
       "      <td>0</td>\n",
       "      <td>0</td>\n",
       "      <td>0</td>\n",
       "      <td>0</td>\n",
       "      <td>0</td>\n",
       "      <td>0</td>\n",
       "      <td>0</td>\n",
       "      <td>0</td>\n",
       "      <td>0</td>\n",
       "      <td>...</td>\n",
       "      <td>0</td>\n",
       "      <td>0</td>\n",
       "      <td>0</td>\n",
       "      <td>0</td>\n",
       "      <td>0</td>\n",
       "      <td>0</td>\n",
       "      <td>0</td>\n",
       "      <td>0</td>\n",
       "      <td>0</td>\n",
       "      <td>0</td>\n",
       "    </tr>\n",
       "    <tr>\n",
       "      <th>3</th>\n",
       "      <td>0</td>\n",
       "      <td>1</td>\n",
       "      <td>0</td>\n",
       "      <td>0</td>\n",
       "      <td>0</td>\n",
       "      <td>0</td>\n",
       "      <td>0</td>\n",
       "      <td>0</td>\n",
       "      <td>0</td>\n",
       "      <td>0</td>\n",
       "      <td>...</td>\n",
       "      <td>0</td>\n",
       "      <td>0</td>\n",
       "      <td>0</td>\n",
       "      <td>0</td>\n",
       "      <td>0</td>\n",
       "      <td>0</td>\n",
       "      <td>0</td>\n",
       "      <td>0</td>\n",
       "      <td>0</td>\n",
       "      <td>0</td>\n",
       "    </tr>\n",
       "    <tr>\n",
       "      <th>4</th>\n",
       "      <td>0</td>\n",
       "      <td>0</td>\n",
       "      <td>0</td>\n",
       "      <td>0</td>\n",
       "      <td>0</td>\n",
       "      <td>0</td>\n",
       "      <td>0</td>\n",
       "      <td>0</td>\n",
       "      <td>0</td>\n",
       "      <td>0</td>\n",
       "      <td>...</td>\n",
       "      <td>0</td>\n",
       "      <td>0</td>\n",
       "      <td>0</td>\n",
       "      <td>0</td>\n",
       "      <td>0</td>\n",
       "      <td>0</td>\n",
       "      <td>0</td>\n",
       "      <td>0</td>\n",
       "      <td>0</td>\n",
       "      <td>0</td>\n",
       "    </tr>\n",
       "  </tbody>\n",
       "</table>\n",
       "<p>5 rows × 5527 columns</p>\n",
       "</div>"
      ],
      "text/plain": [
       "   0     1     2     3     4     5     6     7     8     9     ...  5517  \\\n",
       "0     0     0     0     0     0     0     0     0     0     0  ...     0   \n",
       "1     0     0     0     0     0     0     0     0     0     0  ...     0   \n",
       "2     0     0     0     0     0     0     0     0     0     0  ...     0   \n",
       "3     0     1     0     0     0     0     0     0     0     0  ...     0   \n",
       "4     0     0     0     0     0     0     0     0     0     0  ...     0   \n",
       "\n",
       "   5518  5519  5520  5521  5522  5523  5524  5525  5526  \n",
       "0     0     0     0     0     0     0     0     0     0  \n",
       "1     0     0     0     0     0     0     0     0     0  \n",
       "2     0     0     0     0     0     0     0     0     0  \n",
       "3     0     0     0     0     0     0     0     0     0  \n",
       "4     0     0     0     0     0     0     0     0     0  \n",
       "\n",
       "[5 rows x 5527 columns]"
      ]
     },
     "execution_count": 132,
     "metadata": {},
     "output_type": "execute_result"
    }
   ],
   "source": [
    "CountVectorizer_train=pd.DataFrame(X_train)\n",
    "CountVectorizer_train.head()"
   ]
  },
  {
   "cell_type": "markdown",
   "metadata": {},
   "source": [
    "#### 1.1.2) Analisis de Locacion"
   ]
  },
  {
   "cell_type": "markdown",
   "metadata": {},
   "source": [
    "##### 1.1.2.1) Por País"
   ]
  },
  {
   "cell_type": "code",
   "execution_count": 133,
   "metadata": {},
   "outputs": [
    {
     "data": {
      "text/html": [
       "<div>\n",
       "<style scoped>\n",
       "    .dataframe tbody tr th:only-of-type {\n",
       "        vertical-align: middle;\n",
       "    }\n",
       "\n",
       "    .dataframe tbody tr th {\n",
       "        vertical-align: top;\n",
       "    }\n",
       "\n",
       "    .dataframe thead th {\n",
       "        text-align: right;\n",
       "    }\n",
       "</style>\n",
       "<table border=\"1\" class=\"dataframe\">\n",
       "  <thead>\n",
       "    <tr style=\"text-align: right;\">\n",
       "      <th></th>\n",
       "      <th>id</th>\n",
       "      <th>keyword</th>\n",
       "      <th>text</th>\n",
       "      <th>target</th>\n",
       "      <th>Primero</th>\n",
       "      <th>Segundo</th>\n",
       "      <th>Tercero</th>\n",
       "    </tr>\n",
       "  </thead>\n",
       "  <tbody>\n",
       "    <tr>\n",
       "      <th>0</th>\n",
       "      <td>1</td>\n",
       "      <td>NaN</td>\n",
       "      <td>our deeds are the reason of this #earthquake m...</td>\n",
       "      <td>1</td>\n",
       "      <td>NaN</td>\n",
       "      <td>NaN</td>\n",
       "      <td>NaN</td>\n",
       "    </tr>\n",
       "    <tr>\n",
       "      <th>1</th>\n",
       "      <td>4</td>\n",
       "      <td>NaN</td>\n",
       "      <td>forest fire near la ronge sask. canada</td>\n",
       "      <td>1</td>\n",
       "      <td>NaN</td>\n",
       "      <td>NaN</td>\n",
       "      <td>NaN</td>\n",
       "    </tr>\n",
       "    <tr>\n",
       "      <th>2</th>\n",
       "      <td>5</td>\n",
       "      <td>NaN</td>\n",
       "      <td>all residents asked to 'shelter in place' are ...</td>\n",
       "      <td>1</td>\n",
       "      <td>NaN</td>\n",
       "      <td>NaN</td>\n",
       "      <td>NaN</td>\n",
       "    </tr>\n",
       "    <tr>\n",
       "      <th>3</th>\n",
       "      <td>6</td>\n",
       "      <td>NaN</td>\n",
       "      <td>13,000 people receive #wildfires evacuation or...</td>\n",
       "      <td>1</td>\n",
       "      <td>NaN</td>\n",
       "      <td>NaN</td>\n",
       "      <td>NaN</td>\n",
       "    </tr>\n",
       "    <tr>\n",
       "      <th>4</th>\n",
       "      <td>7</td>\n",
       "      <td>NaN</td>\n",
       "      <td>just got sent this photo from ruby #alaska as ...</td>\n",
       "      <td>1</td>\n",
       "      <td>NaN</td>\n",
       "      <td>NaN</td>\n",
       "      <td>NaN</td>\n",
       "    </tr>\n",
       "  </tbody>\n",
       "</table>\n",
       "</div>"
      ],
      "text/plain": [
       "   id keyword                                               text  target  \\\n",
       "0   1     NaN  our deeds are the reason of this #earthquake m...       1   \n",
       "1   4     NaN             forest fire near la ronge sask. canada       1   \n",
       "2   5     NaN  all residents asked to 'shelter in place' are ...       1   \n",
       "3   6     NaN  13,000 people receive #wildfires evacuation or...       1   \n",
       "4   7     NaN  just got sent this photo from ruby #alaska as ...       1   \n",
       "\n",
       "  Primero Segundo Tercero  \n",
       "0     NaN     NaN     NaN  \n",
       "1     NaN     NaN     NaN  \n",
       "2     NaN     NaN     NaN  \n",
       "3     NaN     NaN     NaN  \n",
       "4     NaN     NaN     NaN  "
      ]
     },
     "execution_count": 133,
     "metadata": {},
     "output_type": "execute_result"
    }
   ],
   "source": [
    "#Separo la locacion por las comas\n",
    "separacion_coma=pd.concat([train, train['location'].str.split(',', expand=True)], axis=1)\n",
    "separacion_coma.rename(columns={0:'Primero',1:'Segundo',2:'Tercero'},inplace=True)\n",
    "separacion_coma.drop(columns={'location',3},inplace=True)\n",
    "separacion_coma.head()"
   ]
  },
  {
   "cell_type": "code",
   "execution_count": 134,
   "metadata": {},
   "outputs": [],
   "source": [
    "#Me quedo con la primer parte de la separación ya que vimos que es la más importante\n",
    "#Mapeo para cada ciudad, su pais\n",
    "primera_ciudad=separacion_coma[['id','Primero']].copy()\n",
    "primera_ciudad.rename(columns={'Primero':'city'},inplace=True)\n",
    "ciudad_pais=pd.merge(primera_ciudad,ciudades,on='city',how='left')\n",
    "ciudad_pais.drop_duplicates(subset=\"id\",keep=\"first\",inplace=True)"
   ]
  },
  {
   "cell_type": "code",
   "execution_count": 135,
   "metadata": {},
   "outputs": [],
   "source": [
    "#Mapeo para cada abreviacion, su pais\n",
    "primera_abreviacion=separacion_coma[['id','Primero']].copy()\n",
    "primera_abreviacion.rename(columns={'Primero':'iso_a3'},inplace=True)\n",
    "abreviacion_pais=pd.merge(primera_abreviacion,mundo,on='iso_a3',how='left')\n",
    "abreviacion_pais.drop_duplicates(subset=\"id\",keep=\"first\",inplace=True)"
   ]
  },
  {
   "cell_type": "code",
   "execution_count": 136,
   "metadata": {},
   "outputs": [],
   "source": [
    "#Verifico si en la primer coma esta bien la locacion\n",
    "primera_pais=separacion_coma[['id','Primero']].copy()\n",
    "primera_pais.rename(columns={'Primero':'name'},inplace=True)\n",
    "pais=pd.merge(primera_pais,mundo,on='name',how='left')\n",
    "pais.drop_duplicates(subset=\"id\",keep=\"first\",inplace=True)\n",
    "pais.rename(columns={'iso_a3':'abreviacion'},inplace=True)\n",
    "pais.drop(columns={'name'},inplace=True)"
   ]
  },
  {
   "cell_type": "code",
   "execution_count": 137,
   "metadata": {
    "scrolled": true
   },
   "outputs": [
    {
     "data": {
      "text/html": [
       "<div>\n",
       "<style scoped>\n",
       "    .dataframe tbody tr th:only-of-type {\n",
       "        vertical-align: middle;\n",
       "    }\n",
       "\n",
       "    .dataframe tbody tr th {\n",
       "        vertical-align: top;\n",
       "    }\n",
       "\n",
       "    .dataframe thead th {\n",
       "        text-align: right;\n",
       "    }\n",
       "</style>\n",
       "<table border=\"1\" class=\"dataframe\">\n",
       "  <thead>\n",
       "    <tr style=\"text-align: right;\">\n",
       "      <th></th>\n",
       "      <th>id</th>\n",
       "      <th>keyword</th>\n",
       "      <th>location</th>\n",
       "      <th>text</th>\n",
       "      <th>target</th>\n",
       "      <th>Locacion</th>\n",
       "      <th>Es_Ciudad</th>\n",
       "    </tr>\n",
       "  </thead>\n",
       "  <tbody>\n",
       "    <tr>\n",
       "      <th>0</th>\n",
       "      <td>1</td>\n",
       "      <td>NaN</td>\n",
       "      <td>NaN</td>\n",
       "      <td>our deeds are the reason of this #earthquake m...</td>\n",
       "      <td>1</td>\n",
       "      <td>Sin Locacion</td>\n",
       "      <td>False</td>\n",
       "    </tr>\n",
       "    <tr>\n",
       "      <th>1</th>\n",
       "      <td>4</td>\n",
       "      <td>NaN</td>\n",
       "      <td>NaN</td>\n",
       "      <td>forest fire near la ronge sask. canada</td>\n",
       "      <td>1</td>\n",
       "      <td>Sin Locacion</td>\n",
       "      <td>False</td>\n",
       "    </tr>\n",
       "    <tr>\n",
       "      <th>2</th>\n",
       "      <td>5</td>\n",
       "      <td>NaN</td>\n",
       "      <td>NaN</td>\n",
       "      <td>all residents asked to 'shelter in place' are ...</td>\n",
       "      <td>1</td>\n",
       "      <td>Sin Locacion</td>\n",
       "      <td>False</td>\n",
       "    </tr>\n",
       "    <tr>\n",
       "      <th>3</th>\n",
       "      <td>6</td>\n",
       "      <td>NaN</td>\n",
       "      <td>NaN</td>\n",
       "      <td>13,000 people receive #wildfires evacuation or...</td>\n",
       "      <td>1</td>\n",
       "      <td>Sin Locacion</td>\n",
       "      <td>False</td>\n",
       "    </tr>\n",
       "    <tr>\n",
       "      <th>4</th>\n",
       "      <td>7</td>\n",
       "      <td>NaN</td>\n",
       "      <td>NaN</td>\n",
       "      <td>just got sent this photo from ruby #alaska as ...</td>\n",
       "      <td>1</td>\n",
       "      <td>Sin Locacion</td>\n",
       "      <td>False</td>\n",
       "    </tr>\n",
       "  </tbody>\n",
       "</table>\n",
       "</div>"
      ],
      "text/plain": [
       "   id keyword location                                               text  \\\n",
       "0   1     NaN      NaN  our deeds are the reason of this #earthquake m...   \n",
       "1   4     NaN      NaN             forest fire near la ronge sask. canada   \n",
       "2   5     NaN      NaN  all residents asked to 'shelter in place' are ...   \n",
       "3   6     NaN      NaN  13,000 people receive #wildfires evacuation or...   \n",
       "4   7     NaN      NaN  just got sent this photo from ruby #alaska as ...   \n",
       "\n",
       "   target      Locacion  Es_Ciudad  \n",
       "0       1  Sin Locacion      False  \n",
       "1       1  Sin Locacion      False  \n",
       "2       1  Sin Locacion      False  \n",
       "3       1  Sin Locacion      False  \n",
       "4       1  Sin Locacion      False  "
      ]
     },
     "execution_count": 137,
     "metadata": {},
     "output_type": "execute_result"
    }
   ],
   "source": [
    "#Junto todo en un solo DataFrame para quedarme con el Pais\n",
    "junto=pd.merge(abreviacion_pais,ciudad_pais,on='id',how='inner')\n",
    "junto=pd.merge(junto,pais,on='id',how='inner')\n",
    "junto['Locacion']=junto.apply(lambda x: MeQuedoConLocacion(x['name'],x['country'],x['abreviacion'],x['iso_a3']),axis=1)\n",
    "junto['Es_Ciudad']=junto.apply(lambda x: EraCiudad(x['country']),axis=1)\n",
    "junto_final=junto[['id','Locacion','Es_Ciudad']]\n",
    "\n",
    "#Lo Joineo con el set de entrenamiento\n",
    "train=pd.merge(train,junto_final,on='id',how='inner')\n",
    "train.head()"
   ]
  },
  {
   "cell_type": "markdown",
   "metadata": {},
   "source": [
    "##### 1.1.2.1) Por Estado"
   ]
  },
  {
   "cell_type": "code",
   "execution_count": 138,
   "metadata": {},
   "outputs": [],
   "source": [
    "#Me quedo con la primer parte de la separación ya que vimos que es la más importante\n",
    "#Mapeo para cada estado, su abreviación\n",
    "primera_estado=separacion_coma[['id','Primero']].copy()\n",
    "primera_estado.rename(columns={'Primero':'Nombre_Estado'},inplace=True)\n",
    "primera_estado_nombre=pd.merge(primera_estado,estados_usa,on='Nombre_Estado',how='left')\n",
    "primera_estado_nombre.drop_duplicates(subset=\"id\",keep=\"first\",inplace=True)\n",
    "primera_estado_nombre['Estado_Nombre_Primero']=primera_estado_nombre.apply(lambda x: MeQuedoEstado(x['Abreviacion_Estado'],x['Nombre_Estado']),axis=1)\n",
    "primera_estado_nombre.drop(columns={'Nombre_Estado','Abreviacion_Estado'},inplace=True)"
   ]
  },
  {
   "cell_type": "code",
   "execution_count": 139,
   "metadata": {},
   "outputs": [],
   "source": [
    "#Mapeo para cada abreviación, su estado\n",
    "primera_abreviacion=separacion_coma[['id','Primero']].copy()\n",
    "primera_abreviacion.rename(columns={'Primero':'Abreviacion_Estado'},inplace=True)\n",
    "primera_estado_abreviacion=pd.merge(primera_abreviacion,estados_usa,on='Abreviacion_Estado',how='left')\n",
    "primera_estado_abreviacion.drop_duplicates(subset=\"id\",keep=\"first\",inplace=True)\n",
    "primera_estado_abreviacion['Estado_Abreviacion_Primero']=primera_estado_abreviacion.apply(lambda x: MeQuedoEstado(x['Abreviacion_Estado'],x['Nombre_Estado']),axis=1)\n",
    "primera_estado_abreviacion.drop(columns={'Nombre_Estado','Abreviacion_Estado'},inplace=True)"
   ]
  },
  {
   "cell_type": "code",
   "execution_count": 140,
   "metadata": {},
   "outputs": [],
   "source": [
    "#lo mismo que antes pero con la segunda parte de la coma\n",
    "#Mapeo para cada estado, su abreviación\n",
    "segunda_estado=separacion_coma[['id','Segundo']].copy()\n",
    "segunda_estado.rename(columns={'Segundo':'Nombre_Estado'},inplace=True)\n",
    "segunda_estado_nombre=pd.merge(segunda_estado,estados_usa,on='Nombre_Estado',how='left')\n",
    "segunda_estado_nombre.drop_duplicates(subset=\"id\",keep=\"first\",inplace=True)\n",
    "segunda_estado_nombre['Estado_Nombre_Segunda']=segunda_estado_nombre.apply(lambda x: MeQuedoEstado(x['Abreviacion_Estado'],x['Nombre_Estado']),axis=1)\n",
    "segunda_estado_nombre.drop(columns={'Nombre_Estado','Abreviacion_Estado'},inplace=True)"
   ]
  },
  {
   "cell_type": "code",
   "execution_count": 141,
   "metadata": {},
   "outputs": [],
   "source": [
    "#Mapeo para cada abreviación, su estado\n",
    "segunda_abreviacion=separacion_coma[['id','Segundo']].copy()\n",
    "segunda_abreviacion.rename(columns={'Segundo':'Abreviacion_Estado'},inplace=True)\n",
    "segunda_estado_abreviacion=pd.merge(segunda_abreviacion,estados_usa,on='Abreviacion_Estado',how='left')\n",
    "segunda_estado_abreviacion.drop_duplicates(subset=\"id\",keep=\"first\",inplace=True)\n",
    "segunda_estado_abreviacion['Estado_Abreviacion_Segunda']=segunda_estado_abreviacion.apply(lambda x: MeQuedoEstado(x['Abreviacion_Estado'],x['Nombre_Estado']),axis=1)\n",
    "segunda_estado_abreviacion.drop(columns={'Nombre_Estado','Abreviacion_Estado'},inplace=True)"
   ]
  },
  {
   "cell_type": "code",
   "execution_count": 142,
   "metadata": {},
   "outputs": [
    {
     "data": {
      "text/html": [
       "<div>\n",
       "<style scoped>\n",
       "    .dataframe tbody tr th:only-of-type {\n",
       "        vertical-align: middle;\n",
       "    }\n",
       "\n",
       "    .dataframe tbody tr th {\n",
       "        vertical-align: top;\n",
       "    }\n",
       "\n",
       "    .dataframe thead th {\n",
       "        text-align: right;\n",
       "    }\n",
       "</style>\n",
       "<table border=\"1\" class=\"dataframe\">\n",
       "  <thead>\n",
       "    <tr style=\"text-align: right;\">\n",
       "      <th></th>\n",
       "      <th>id</th>\n",
       "      <th>keyword</th>\n",
       "      <th>location</th>\n",
       "      <th>text</th>\n",
       "      <th>target</th>\n",
       "      <th>Locacion</th>\n",
       "      <th>Es_Ciudad</th>\n",
       "      <th>Estado</th>\n",
       "    </tr>\n",
       "  </thead>\n",
       "  <tbody>\n",
       "    <tr>\n",
       "      <th>0</th>\n",
       "      <td>1</td>\n",
       "      <td>NaN</td>\n",
       "      <td>NaN</td>\n",
       "      <td>our deeds are the reason of this #earthquake m...</td>\n",
       "      <td>1</td>\n",
       "      <td>Sin Locacion</td>\n",
       "      <td>False</td>\n",
       "      <td>Sin_Estado</td>\n",
       "    </tr>\n",
       "    <tr>\n",
       "      <th>1</th>\n",
       "      <td>4</td>\n",
       "      <td>NaN</td>\n",
       "      <td>NaN</td>\n",
       "      <td>forest fire near la ronge sask. canada</td>\n",
       "      <td>1</td>\n",
       "      <td>Sin Locacion</td>\n",
       "      <td>False</td>\n",
       "      <td>Sin_Estado</td>\n",
       "    </tr>\n",
       "    <tr>\n",
       "      <th>2</th>\n",
       "      <td>5</td>\n",
       "      <td>NaN</td>\n",
       "      <td>NaN</td>\n",
       "      <td>all residents asked to 'shelter in place' are ...</td>\n",
       "      <td>1</td>\n",
       "      <td>Sin Locacion</td>\n",
       "      <td>False</td>\n",
       "      <td>Sin_Estado</td>\n",
       "    </tr>\n",
       "    <tr>\n",
       "      <th>3</th>\n",
       "      <td>6</td>\n",
       "      <td>NaN</td>\n",
       "      <td>NaN</td>\n",
       "      <td>13,000 people receive #wildfires evacuation or...</td>\n",
       "      <td>1</td>\n",
       "      <td>Sin Locacion</td>\n",
       "      <td>False</td>\n",
       "      <td>Sin_Estado</td>\n",
       "    </tr>\n",
       "    <tr>\n",
       "      <th>4</th>\n",
       "      <td>7</td>\n",
       "      <td>NaN</td>\n",
       "      <td>NaN</td>\n",
       "      <td>just got sent this photo from ruby #alaska as ...</td>\n",
       "      <td>1</td>\n",
       "      <td>Sin Locacion</td>\n",
       "      <td>False</td>\n",
       "      <td>Sin_Estado</td>\n",
       "    </tr>\n",
       "  </tbody>\n",
       "</table>\n",
       "</div>"
      ],
      "text/plain": [
       "   id keyword location                                               text  \\\n",
       "0   1     NaN      NaN  our deeds are the reason of this #earthquake m...   \n",
       "1   4     NaN      NaN             forest fire near la ronge sask. canada   \n",
       "2   5     NaN      NaN  all residents asked to 'shelter in place' are ...   \n",
       "3   6     NaN      NaN  13,000 people receive #wildfires evacuation or...   \n",
       "4   7     NaN      NaN  just got sent this photo from ruby #alaska as ...   \n",
       "\n",
       "   target      Locacion  Es_Ciudad      Estado  \n",
       "0       1  Sin Locacion      False  Sin_Estado  \n",
       "1       1  Sin Locacion      False  Sin_Estado  \n",
       "2       1  Sin Locacion      False  Sin_Estado  \n",
       "3       1  Sin Locacion      False  Sin_Estado  \n",
       "4       1  Sin Locacion      False  Sin_Estado  "
      ]
     },
     "execution_count": 142,
     "metadata": {},
     "output_type": "execute_result"
    }
   ],
   "source": [
    "#Junto todo en un solo DataFrame para quedarme con el Estado\n",
    "estados_final=pd.merge(primera_estado_nombre,primera_estado_abreviacion,on='id',how='inner')\n",
    "estados_final=pd.merge(estados_final,segunda_estado_nombre,on='id',how='inner')\n",
    "estados_final=pd.merge(estados_final,segunda_estado_abreviacion,on='id',how='inner')\n",
    "estados_final['Estado_TMP']=estados_final.apply(lambda x: EstadoFinal(x['Estado_Nombre_Primero'],x['Estado_Abreviacion_Primero'],x['Estado_Nombre_Segunda'],x['Estado_Abreviacion_Segunda']),axis=1)\n",
    "estados_final.drop(columns={'Estado_Nombre_Primero','Estado_Abreviacion_Primero','Estado_Nombre_Segunda','Estado_Abreviacion_Segunda'},inplace=True)\n",
    "\n",
    "#Lo Joineo con el set de entrenamiento\n",
    "train=pd.merge(train,estados_final,on='id',how='inner')\n",
    "train['Estado']=train.apply(lambda x: SinEstado(x['Estado_TMP'],x['Locacion']),axis=1) \n",
    "train.drop(columns={'Estado_TMP'},inplace=True)\n",
    "train.head()"
   ]
  },
  {
   "cell_type": "markdown",
   "metadata": {},
   "source": [
    "##### 1.1.2.3) Continente"
   ]
  },
  {
   "cell_type": "code",
   "execution_count": 143,
   "metadata": {},
   "outputs": [
    {
     "data": {
      "text/html": [
       "<div>\n",
       "<style scoped>\n",
       "    .dataframe tbody tr th:only-of-type {\n",
       "        vertical-align: middle;\n",
       "    }\n",
       "\n",
       "    .dataframe tbody tr th {\n",
       "        vertical-align: top;\n",
       "    }\n",
       "\n",
       "    .dataframe thead th {\n",
       "        text-align: right;\n",
       "    }\n",
       "</style>\n",
       "<table border=\"1\" class=\"dataframe\">\n",
       "  <thead>\n",
       "    <tr style=\"text-align: right;\">\n",
       "      <th></th>\n",
       "      <th>id</th>\n",
       "      <th>keyword</th>\n",
       "      <th>location</th>\n",
       "      <th>text</th>\n",
       "      <th>target</th>\n",
       "      <th>Locacion</th>\n",
       "      <th>Es_Ciudad</th>\n",
       "      <th>Estado</th>\n",
       "      <th>Continente</th>\n",
       "    </tr>\n",
       "  </thead>\n",
       "  <tbody>\n",
       "    <tr>\n",
       "      <th>0</th>\n",
       "      <td>1</td>\n",
       "      <td>NaN</td>\n",
       "      <td>NaN</td>\n",
       "      <td>our deeds are the reason of this #earthquake m...</td>\n",
       "      <td>1</td>\n",
       "      <td>Sin Locacion</td>\n",
       "      <td>False</td>\n",
       "      <td>Sin_Estado</td>\n",
       "      <td>Continente Nulo</td>\n",
       "    </tr>\n",
       "    <tr>\n",
       "      <th>1</th>\n",
       "      <td>4</td>\n",
       "      <td>NaN</td>\n",
       "      <td>NaN</td>\n",
       "      <td>forest fire near la ronge sask. canada</td>\n",
       "      <td>1</td>\n",
       "      <td>Sin Locacion</td>\n",
       "      <td>False</td>\n",
       "      <td>Sin_Estado</td>\n",
       "      <td>Continente Nulo</td>\n",
       "    </tr>\n",
       "    <tr>\n",
       "      <th>2</th>\n",
       "      <td>5</td>\n",
       "      <td>NaN</td>\n",
       "      <td>NaN</td>\n",
       "      <td>all residents asked to 'shelter in place' are ...</td>\n",
       "      <td>1</td>\n",
       "      <td>Sin Locacion</td>\n",
       "      <td>False</td>\n",
       "      <td>Sin_Estado</td>\n",
       "      <td>Continente Nulo</td>\n",
       "    </tr>\n",
       "    <tr>\n",
       "      <th>3</th>\n",
       "      <td>6</td>\n",
       "      <td>NaN</td>\n",
       "      <td>NaN</td>\n",
       "      <td>13,000 people receive #wildfires evacuation or...</td>\n",
       "      <td>1</td>\n",
       "      <td>Sin Locacion</td>\n",
       "      <td>False</td>\n",
       "      <td>Sin_Estado</td>\n",
       "      <td>Continente Nulo</td>\n",
       "    </tr>\n",
       "    <tr>\n",
       "      <th>4</th>\n",
       "      <td>7</td>\n",
       "      <td>NaN</td>\n",
       "      <td>NaN</td>\n",
       "      <td>just got sent this photo from ruby #alaska as ...</td>\n",
       "      <td>1</td>\n",
       "      <td>Sin Locacion</td>\n",
       "      <td>False</td>\n",
       "      <td>Sin_Estado</td>\n",
       "      <td>Continente Nulo</td>\n",
       "    </tr>\n",
       "  </tbody>\n",
       "</table>\n",
       "</div>"
      ],
      "text/plain": [
       "   id keyword location                                               text  \\\n",
       "0   1     NaN      NaN  our deeds are the reason of this #earthquake m...   \n",
       "1   4     NaN      NaN             forest fire near la ronge sask. canada   \n",
       "2   5     NaN      NaN  all residents asked to 'shelter in place' are ...   \n",
       "3   6     NaN      NaN  13,000 people receive #wildfires evacuation or...   \n",
       "4   7     NaN      NaN  just got sent this photo from ruby #alaska as ...   \n",
       "\n",
       "   target      Locacion  Es_Ciudad      Estado       Continente  \n",
       "0       1  Sin Locacion      False  Sin_Estado  Continente Nulo  \n",
       "1       1  Sin Locacion      False  Sin_Estado  Continente Nulo  \n",
       "2       1  Sin Locacion      False  Sin_Estado  Continente Nulo  \n",
       "3       1  Sin Locacion      False  Sin_Estado  Continente Nulo  \n",
       "4       1  Sin Locacion      False  Sin_Estado  Continente Nulo  "
      ]
     },
     "execution_count": 143,
     "metadata": {},
     "output_type": "execute_result"
    }
   ],
   "source": [
    "train=pd.merge(train,continentes,on='Locacion',how='left')\n",
    "train['Continente']=train.apply(lambda x: SinContinente(x['Locacion'],x['continent']),axis=1)\n",
    "train.drop(columns={'continent'},inplace=True)\n",
    "train.head()"
   ]
  },
  {
   "cell_type": "markdown",
   "metadata": {},
   "source": [
    "#### 1.1.3) Analisis Sintáctico"
   ]
  },
  {
   "cell_type": "code",
   "execution_count": 144,
   "metadata": {},
   "outputs": [],
   "source": [
    "train['idioma']=train.apply(lambda x: idioma(x['text']),axis=1)"
   ]
  },
  {
   "cell_type": "code",
   "execution_count": 145,
   "metadata": {
    "scrolled": true
   },
   "outputs": [
    {
     "name": "stdout",
     "output_type": "stream",
     "text": [
      "Completado\n"
     ]
    }
   ],
   "source": [
    "#Parse del texto , donde cada token es una palabra\n",
    "\n",
    "for i, row in train.iterrows():\n",
    "  \n",
    "    if(row[\"text\"] and len(str(row[\"text\"])) < 300):\n",
    "        doc = nlp(str(row[\"text\"]))\n",
    "        \n",
    "        adjectives = []\n",
    "        nouns = []\n",
    "        verbs = []\n",
    "        lemmas = []\n",
    "        simbolos = []\n",
    "        alfanumericos = []\n",
    "\n",
    "        for token in doc:\n",
    "            \n",
    "            lemmas.append(token.lemma_)\n",
    "            \n",
    "            if not token.text.isalpha():\n",
    "                alfanumericos.append(token.lemma_)\n",
    "            if token.pos_ == \"ADJ\":\n",
    "                adjectives.append(token.lemma_)\n",
    "            if token.pos_ == \"NOUN\" or token.pos_ == \"PROPN\":\n",
    "                nouns.append(token.lemma_)\n",
    "            if token.pos_ == \"VERB\":\n",
    "                verbs.append(token.lemma_)\n",
    "            if token.pos_ == \"SYM\":\n",
    "                simbolos.append(token.lemma_)\n",
    "         \n",
    "        train.at[i, \"adjetivos\"] = \" \".join(adjectives)\n",
    "        train.at[i, \"verbos\"] = \" \".join(verbs)\n",
    "        train.at[i, \"sustantivos\"] = \" \".join(nouns)\n",
    "        train.at[i, \"longitud\"] = len(row[\"text\"])\n",
    "        train.at[i, \"cant_tokens\"] = len(lemmas)\n",
    "        \n",
    "print('Completado')"
   ]
  },
  {
   "cell_type": "code",
   "execution_count": 146,
   "metadata": {},
   "outputs": [],
   "source": [
    "train['rango_longitud']=pd.cut(train['longitud'],[0,10,20,30,40,50,60,70,80,90,100,110,120,130,140,150,160,170,180,190,200])\n",
    "train['rango_palabras']=pd.cut(train['cant_tokens'],[0,10,20,30,40,50,60,70,80,90,100])"
   ]
  },
  {
   "cell_type": "code",
   "execution_count": 147,
   "metadata": {},
   "outputs": [],
   "source": [
    "train_reales = train.loc[ train['target'] == 1]\n",
    "train_fake = train.loc[ train['target'] == 0]\n",
    "\n",
    "verbos_reales = train_reales['verbos'].astype('str').str.lower().value_counts()\n",
    "verbos_fake = train_fake['verbos'].astype('str').str.upper().value_counts()\n",
    "\n",
    "adjetivos_reales = train_reales['adjetivos'].astype('str').str.lower().value_counts()\n",
    "adjetivos_fake = train_fake['adjetivos'].astype('str').str.lower().value_counts()\n",
    "\n",
    "sustantivos_reales = train_reales['sustantivos'].astype('str').str.lower().value_counts()\n",
    "sustantivos_fake = train_fake['sustantivos'].astype('str').str.lower().value_counts()"
   ]
  },
  {
   "cell_type": "code",
   "execution_count": 148,
   "metadata": {},
   "outputs": [],
   "source": [
    "#Me quedo con la cantidad que considere necesario\n",
    "top_20_keywords = train['keyword'].value_counts().index\n",
    "top_20_verbos = train['verbos'].astype('str').value_counts().head(300).index\n",
    "top_20_verbos_reales = verbos_reales.head(50).index\n",
    "top_20_verbos_fake = verbos_fake.head(300).index\n",
    "top_20_adjetivos = train['adjetivos'].astype('str').value_counts().head(300).index\n",
    "top_20_adjetivos_reales = adjetivos_reales.head(50).index\n",
    "top_20_adjetivos_fake =  adjetivos_fake.head(300).index\n",
    "top_20_sustantivos = train['sustantivos'].astype('str').value_counts().head(300).index\n",
    "top_20_sustantivos_reales = sustantivos_reales.head(50).index\n",
    "top_20_sustantivos_fake =  sustantivos_fake.head(300).index\n",
    "top_50_locaciones = train['Locacion'].astype('str').value_counts().index\n",
    "top_10_hashtags = hashtags.head(50).index\n",
    "top_10_arrobas = arrobas.head(100).index\n",
    "top_estados = train['Estado'].astype('str').value_counts().index\n",
    "top_idiomas = train['idioma'].astype('str').value_counts().index\n",
    "top_continentes = train['Continente'].astype('str').value_counts().index"
   ]
  },
  {
   "cell_type": "code",
   "execution_count": 149,
   "metadata": {},
   "outputs": [],
   "source": [
    "#Agrego un booleano con respecto a si tienen los simbolos enunciados\n",
    "train['Tiene_arroba']=train['text'].str.contains('@')\n",
    "train['Tiene_hashtag']=train['text'].str.contains('#')\n",
    "train['Tiene_signo_pregunta']=train['text'].str.contains('\\?|¿')\n",
    "train['Tiene_signo_exclamacion']=train['text'].str.contains('!|¡')"
   ]
  },
  {
   "cell_type": "code",
   "execution_count": 150,
   "metadata": {},
   "outputs": [],
   "source": [
    "#Veo si los campos keyword y location son nulos\n",
    "train['Keyword_Nula']=train.apply(lambda x: EsNulo(x['keyword']),axis=1)\n",
    "train['Locacion_Nula']=train.apply(lambda x: EsNulo(x['location']),axis=1)"
   ]
  },
  {
   "cell_type": "code",
   "execution_count": 151,
   "metadata": {},
   "outputs": [],
   "source": [
    "english_stopwords = stopwords.words('english')\n",
    "stemmer = SnowballStemmer('english')\n",
    "\n",
    "aQuitar = ['http','https','&amp']\n",
    "english_stopwords.extend(aQuitar)"
   ]
  },
  {
   "cell_type": "code",
   "execution_count": 152,
   "metadata": {},
   "outputs": [],
   "source": [
    "texto = train[\"text\"]\n",
    "\n",
    "textoVeridico = train[(train['target']==1)]\n",
    "textoVeridico = textoVeridico[\"text\"]\n",
    "\n",
    "textoFalso = train[(train['target']==0)]\n",
    "textoFalso = textoFalso[\"text\"]"
   ]
  },
  {
   "cell_type": "code",
   "execution_count": 153,
   "metadata": {},
   "outputs": [],
   "source": [
    "palabrasVeridicas=[]\n",
    "for row in textoVeridico:\n",
    "    row =row.lower()\n",
    "    row=filter(None, re.split(\"[, \\-!?:._¡¿'`<>;()+]\", row))\n",
    "    for palabra in row:\n",
    "        if len(palabra)<4: #saco conectores\n",
    "            continue\n",
    "        if palabra not in english_stopwords:\n",
    "            palabrasVeridicas.append(palabra)"
   ]
  },
  {
   "cell_type": "code",
   "execution_count": 154,
   "metadata": {},
   "outputs": [],
   "source": [
    "palabrasFalsas=[]\n",
    "for row in textoFalso:\n",
    "    row =row.lower()\n",
    "    row=filter(None, re.split(\"[, \\-!?:._¡¿'`<>;()+]\", row))\n",
    "    for palabra in row:\n",
    "        if len(palabra)<4: #saco conectores\n",
    "            continue\n",
    "        if palabra not in english_stopwords:\n",
    "            palabrasFalsas.append(palabra)"
   ]
  },
  {
   "cell_type": "code",
   "execution_count": 157,
   "metadata": {},
   "outputs": [],
   "source": [
    "contador = Counter(palabrasVeridicas)\n",
    "palabrasComunesVeridicas = contador.most_common(300)\n",
    "dfPalabrasComunesV = DataFrame(palabrasComunesVeridicas,columns=['Palabra','Cantidad'])"
   ]
  },
  {
   "cell_type": "code",
   "execution_count": 158,
   "metadata": {},
   "outputs": [],
   "source": [
    "contador = Counter(palabrasFalsas)\n",
    "palabrasComunesFalsas = contador.most_common(300)\n",
    "dfPalabrasComunesF = DataFrame(palabrasComunesFalsas,columns=['Palabra','Cantidad'])"
   ]
  },
  {
   "cell_type": "code",
   "execution_count": 159,
   "metadata": {},
   "outputs": [],
   "source": [
    "popularesEnComun = dfPalabrasComunesV.merge(dfPalabrasComunesF,left_on='Palabra',right_on='Palabra',how='inner')"
   ]
  },
  {
   "cell_type": "code",
   "execution_count": 160,
   "metadata": {},
   "outputs": [],
   "source": [
    "popularesExclusivamenteV = dfPalabrasComunesV[(~dfPalabrasComunesV.Palabra.isin(popularesEnComun.Palabra))]\n",
    "popularesExclusivamenteF = dfPalabrasComunesF[(~dfPalabrasComunesF.Palabra.isin(popularesEnComun.Palabra))]"
   ]
  },
  {
   "cell_type": "code",
   "execution_count": 162,
   "metadata": {},
   "outputs": [],
   "source": [
    "TopPopularesExclusivamenteV = popularesExclusivamenteV.nlargest(50, 'Cantidad')\n",
    "TopPopularesExclusivamenteV.sort_values('Cantidad',inplace=True)"
   ]
  },
  {
   "cell_type": "markdown",
   "metadata": {},
   "source": [
    "#### 1.1.4) Aplicación de los procesamientos"
   ]
  },
  {
   "cell_type": "code",
   "execution_count": 164,
   "metadata": {},
   "outputs": [],
   "source": [
    "train = oneHotEncoding(train,'rango_longitud','_longiud')\n",
    "train = oneHotEncoding(train,'rango_palabras','_palabras')\n",
    "train = oneHotEncoding(train,'Keyword_Nula','_Keyword')\n",
    "train = oneHotEncoding(train,'Locacion_Nula','_Locacion')\n",
    "train = oneHotEncoding(train,'Es_Ciudad','_Es_Ciudad')"
   ]
  },
  {
   "cell_type": "code",
   "execution_count": 165,
   "metadata": {},
   "outputs": [],
   "source": [
    "for columna in TopPopularesExclusivamenteV['Palabra']:\n",
    "    train[columna+'_palabra_Verdadera']=train.text.str.contains(columna,case=False)"
   ]
  },
  {
   "cell_type": "code",
   "execution_count": 166,
   "metadata": {},
   "outputs": [],
   "source": [
    "for est in top_estados:\n",
    "    train[est]=train['Estado'].str.contains(est,case=False)"
   ]
  },
  {
   "cell_type": "code",
   "execution_count": 167,
   "metadata": {},
   "outputs": [],
   "source": [
    "for cont in top_continentes:\n",
    "    train[cont]=train['Continente'].str.contains(cont,case=False)"
   ]
  },
  {
   "cell_type": "code",
   "execution_count": 168,
   "metadata": {},
   "outputs": [],
   "source": [
    "for key_top in top_20_keywords:\n",
    "    train[key_top]=train['keyword'].str.contains(key_top,case=False)"
   ]
  },
  {
   "cell_type": "code",
   "execution_count": 169,
   "metadata": {},
   "outputs": [],
   "source": [
    "for verbo_real in top_20_verbos_reales:\n",
    "    train[verbo_real+'_verbo_real']=train['verbos'].str.contains(verbo_real,case=False)"
   ]
  },
  {
   "cell_type": "code",
   "execution_count": 170,
   "metadata": {},
   "outputs": [],
   "source": [
    "for adjetivos_real in top_20_adjetivos_reales:\n",
    "    train[adjetivos_real+'_adjetivo_real']=train['adjetivos'].str.contains(adjetivos_real,case=False)"
   ]
  },
  {
   "cell_type": "code",
   "execution_count": 171,
   "metadata": {},
   "outputs": [],
   "source": [
    "for sustantivos_real in top_20_sustantivos_reales:\n",
    "    train[sustantivos_real+'_sustantivo_real']=train['sustantivos'].str.contains(sustantivos_real,case=False)"
   ]
  },
  {
   "cell_type": "code",
   "execution_count": 172,
   "metadata": {},
   "outputs": [],
   "source": [
    "for locacion_top in top_50_locaciones:\n",
    "    train[locacion_top]=train['Locacion'].str.contains(locacion_top,case=False)"
   ]
  },
  {
   "cell_type": "code",
   "execution_count": 173,
   "metadata": {},
   "outputs": [],
   "source": [
    "for hastag_top in top_10_hashtags:\n",
    "    train['#' + hastag_top]=train['text'].str.contains('#'+hastag_top,case=False)"
   ]
  },
  {
   "cell_type": "code",
   "execution_count": 174,
   "metadata": {},
   "outputs": [],
   "source": [
    "for arroba_top in top_10_arrobas:\n",
    "    train['@' + arroba_top]=train['text'].str.contains('@'+arroba_top,case=False)"
   ]
  },
  {
   "cell_type": "code",
   "execution_count": 175,
   "metadata": {},
   "outputs": [],
   "source": [
    "for idi in top_idiomas:\n",
    "    train[idi+'_idioma']=train.apply(lambda x: OneHotIdiomas(x['idioma'],idi),axis=1)"
   ]
  },
  {
   "cell_type": "code",
   "execution_count": 176,
   "metadata": {
    "scrolled": true
   },
   "outputs": [
    {
     "data": {
      "text/html": [
       "<div>\n",
       "<style scoped>\n",
       "    .dataframe tbody tr th:only-of-type {\n",
       "        vertical-align: middle;\n",
       "    }\n",
       "\n",
       "    .dataframe tbody tr th {\n",
       "        vertical-align: top;\n",
       "    }\n",
       "\n",
       "    .dataframe thead th {\n",
       "        text-align: right;\n",
       "    }\n",
       "</style>\n",
       "<table border=\"1\" class=\"dataframe\">\n",
       "  <thead>\n",
       "    <tr style=\"text-align: right;\">\n",
       "      <th></th>\n",
       "      <th>0</th>\n",
       "      <th>1</th>\n",
       "      <th>2</th>\n",
       "      <th>3</th>\n",
       "      <th>4</th>\n",
       "      <th>5</th>\n",
       "      <th>6</th>\n",
       "      <th>7</th>\n",
       "      <th>8</th>\n",
       "      <th>9</th>\n",
       "      <th>...</th>\n",
       "      <th>hr_idioma</th>\n",
       "      <th>pl_idioma</th>\n",
       "      <th>sl_idioma</th>\n",
       "      <th>pt_idioma</th>\n",
       "      <th>sk_idioma</th>\n",
       "      <th>fi_idioma</th>\n",
       "      <th>sq_idioma</th>\n",
       "      <th>sw_idioma</th>\n",
       "      <th>cs_idioma</th>\n",
       "      <th>lt_idioma</th>\n",
       "    </tr>\n",
       "  </thead>\n",
       "  <tbody>\n",
       "    <tr>\n",
       "      <th>0</th>\n",
       "      <td>0</td>\n",
       "      <td>0</td>\n",
       "      <td>0</td>\n",
       "      <td>0</td>\n",
       "      <td>0</td>\n",
       "      <td>0</td>\n",
       "      <td>0</td>\n",
       "      <td>0</td>\n",
       "      <td>0</td>\n",
       "      <td>0</td>\n",
       "      <td>...</td>\n",
       "      <td>False</td>\n",
       "      <td>False</td>\n",
       "      <td>False</td>\n",
       "      <td>False</td>\n",
       "      <td>False</td>\n",
       "      <td>False</td>\n",
       "      <td>False</td>\n",
       "      <td>False</td>\n",
       "      <td>False</td>\n",
       "      <td>False</td>\n",
       "    </tr>\n",
       "    <tr>\n",
       "      <th>1</th>\n",
       "      <td>0</td>\n",
       "      <td>0</td>\n",
       "      <td>0</td>\n",
       "      <td>0</td>\n",
       "      <td>0</td>\n",
       "      <td>0</td>\n",
       "      <td>0</td>\n",
       "      <td>0</td>\n",
       "      <td>0</td>\n",
       "      <td>0</td>\n",
       "      <td>...</td>\n",
       "      <td>False</td>\n",
       "      <td>False</td>\n",
       "      <td>False</td>\n",
       "      <td>False</td>\n",
       "      <td>False</td>\n",
       "      <td>False</td>\n",
       "      <td>False</td>\n",
       "      <td>False</td>\n",
       "      <td>False</td>\n",
       "      <td>False</td>\n",
       "    </tr>\n",
       "    <tr>\n",
       "      <th>2</th>\n",
       "      <td>0</td>\n",
       "      <td>0</td>\n",
       "      <td>0</td>\n",
       "      <td>0</td>\n",
       "      <td>0</td>\n",
       "      <td>0</td>\n",
       "      <td>0</td>\n",
       "      <td>0</td>\n",
       "      <td>0</td>\n",
       "      <td>0</td>\n",
       "      <td>...</td>\n",
       "      <td>False</td>\n",
       "      <td>False</td>\n",
       "      <td>False</td>\n",
       "      <td>False</td>\n",
       "      <td>False</td>\n",
       "      <td>False</td>\n",
       "      <td>False</td>\n",
       "      <td>False</td>\n",
       "      <td>False</td>\n",
       "      <td>False</td>\n",
       "    </tr>\n",
       "    <tr>\n",
       "      <th>3</th>\n",
       "      <td>0</td>\n",
       "      <td>1</td>\n",
       "      <td>0</td>\n",
       "      <td>0</td>\n",
       "      <td>0</td>\n",
       "      <td>0</td>\n",
       "      <td>0</td>\n",
       "      <td>0</td>\n",
       "      <td>0</td>\n",
       "      <td>0</td>\n",
       "      <td>...</td>\n",
       "      <td>False</td>\n",
       "      <td>False</td>\n",
       "      <td>False</td>\n",
       "      <td>False</td>\n",
       "      <td>False</td>\n",
       "      <td>False</td>\n",
       "      <td>False</td>\n",
       "      <td>False</td>\n",
       "      <td>False</td>\n",
       "      <td>False</td>\n",
       "    </tr>\n",
       "    <tr>\n",
       "      <th>4</th>\n",
       "      <td>0</td>\n",
       "      <td>0</td>\n",
       "      <td>0</td>\n",
       "      <td>0</td>\n",
       "      <td>0</td>\n",
       "      <td>0</td>\n",
       "      <td>0</td>\n",
       "      <td>0</td>\n",
       "      <td>0</td>\n",
       "      <td>0</td>\n",
       "      <td>...</td>\n",
       "      <td>False</td>\n",
       "      <td>False</td>\n",
       "      <td>False</td>\n",
       "      <td>False</td>\n",
       "      <td>False</td>\n",
       "      <td>False</td>\n",
       "      <td>False</td>\n",
       "      <td>False</td>\n",
       "      <td>False</td>\n",
       "      <td>False</td>\n",
       "    </tr>\n",
       "  </tbody>\n",
       "</table>\n",
       "<p>5 rows × 6307 columns</p>\n",
       "</div>"
      ],
      "text/plain": [
       "   0  1  2  3  4  5  6  7  8  9  ...  hr_idioma  pl_idioma  sl_idioma  \\\n",
       "0  0  0  0  0  0  0  0  0  0  0  ...      False      False      False   \n",
       "1  0  0  0  0  0  0  0  0  0  0  ...      False      False      False   \n",
       "2  0  0  0  0  0  0  0  0  0  0  ...      False      False      False   \n",
       "3  0  1  0  0  0  0  0  0  0  0  ...      False      False      False   \n",
       "4  0  0  0  0  0  0  0  0  0  0  ...      False      False      False   \n",
       "\n",
       "   pt_idioma  sk_idioma  fi_idioma  sq_idioma  sw_idioma  cs_idioma  lt_idioma  \n",
       "0      False      False      False      False      False      False      False  \n",
       "1      False      False      False      False      False      False      False  \n",
       "2      False      False      False      False      False      False      False  \n",
       "3      False      False      False      False      False      False      False  \n",
       "4      False      False      False      False      False      False      False  \n",
       "\n",
       "[5 rows x 6307 columns]"
      ]
     },
     "execution_count": 176,
     "metadata": {},
     "output_type": "execute_result"
    }
   ],
   "source": [
    "#Quito las columnas que no necesito y relleno los NaNs con False\n",
    "train.drop(columns={'Continente','Estado','cant_tokens','location','Locacion','keyword','text','adjetivos','verbos','sustantivos','longitud','idioma'},inplace=True)\n",
    "train.fillna(False,inplace=True)\n",
    "train_final=pd.concat((CountVectorizer_train,train),axis=1)\n",
    "train_final.head()"
   ]
  },
  {
   "cell_type": "markdown",
   "metadata": {},
   "source": [
    " "
   ]
  },
  {
   "cell_type": "markdown",
   "metadata": {},
   "source": [
    "## 2) Set de Test"
   ]
  },
  {
   "cell_type": "markdown",
   "metadata": {},
   "source": [
    "Lo mismo que se realizo para el set de entrenamiento se hace para el de test"
   ]
  },
  {
   "cell_type": "code",
   "execution_count": 177,
   "metadata": {
    "scrolled": true
   },
   "outputs": [
    {
     "data": {
      "text/html": [
       "<div>\n",
       "<style scoped>\n",
       "    .dataframe tbody tr th:only-of-type {\n",
       "        vertical-align: middle;\n",
       "    }\n",
       "\n",
       "    .dataframe tbody tr th {\n",
       "        vertical-align: top;\n",
       "    }\n",
       "\n",
       "    .dataframe thead th {\n",
       "        text-align: right;\n",
       "    }\n",
       "</style>\n",
       "<table border=\"1\" class=\"dataframe\">\n",
       "  <thead>\n",
       "    <tr style=\"text-align: right;\">\n",
       "      <th></th>\n",
       "      <th>id</th>\n",
       "      <th>keyword</th>\n",
       "      <th>location</th>\n",
       "      <th>text</th>\n",
       "    </tr>\n",
       "  </thead>\n",
       "  <tbody>\n",
       "    <tr>\n",
       "      <th>0</th>\n",
       "      <td>0</td>\n",
       "      <td>NaN</td>\n",
       "      <td>NaN</td>\n",
       "      <td>just happened a terrible car crash</td>\n",
       "    </tr>\n",
       "    <tr>\n",
       "      <th>1</th>\n",
       "      <td>2</td>\n",
       "      <td>NaN</td>\n",
       "      <td>NaN</td>\n",
       "      <td>heard about #earthquake is different cities, s...</td>\n",
       "    </tr>\n",
       "    <tr>\n",
       "      <th>2</th>\n",
       "      <td>3</td>\n",
       "      <td>NaN</td>\n",
       "      <td>NaN</td>\n",
       "      <td>there is a forest fire at spot pond, geese are...</td>\n",
       "    </tr>\n",
       "    <tr>\n",
       "      <th>3</th>\n",
       "      <td>9</td>\n",
       "      <td>NaN</td>\n",
       "      <td>NaN</td>\n",
       "      <td>apocalypse lighting. #spokane #wildfires</td>\n",
       "    </tr>\n",
       "    <tr>\n",
       "      <th>4</th>\n",
       "      <td>11</td>\n",
       "      <td>NaN</td>\n",
       "      <td>NaN</td>\n",
       "      <td>typhoon soudelor kills 28 in china and taiwan</td>\n",
       "    </tr>\n",
       "  </tbody>\n",
       "</table>\n",
       "</div>"
      ],
      "text/plain": [
       "   id keyword location                                               text\n",
       "0   0     NaN      NaN                 just happened a terrible car crash\n",
       "1   2     NaN      NaN  heard about #earthquake is different cities, s...\n",
       "2   3     NaN      NaN  there is a forest fire at spot pond, geese are...\n",
       "3   9     NaN      NaN           apocalypse lighting. #spokane #wildfires\n",
       "4  11     NaN      NaN      typhoon soudelor kills 28 in china and taiwan"
      ]
     },
     "execution_count": 177,
     "metadata": {},
     "output_type": "execute_result"
    }
   ],
   "source": [
    "#Cargo el csv\n",
    "test=pd.read_csv('Data/test.csv')\n",
    "test['text']=test['text'].str.lower()\n",
    "test.head()"
   ]
  },
  {
   "cell_type": "markdown",
   "metadata": {},
   "source": [
    "### 2.1) Generamos los Features"
   ]
  },
  {
   "cell_type": "markdown",
   "metadata": {},
   "source": [
    "#### 2.1.1) Count Vectorizer"
   ]
  },
  {
   "cell_type": "code",
   "execution_count": 178,
   "metadata": {},
   "outputs": [],
   "source": [
    "XTest = vectorizer.transform(test['text']).toarray()"
   ]
  },
  {
   "cell_type": "code",
   "execution_count": 179,
   "metadata": {},
   "outputs": [
    {
     "data": {
      "text/plain": [
       "(3263, 5527)"
      ]
     },
     "execution_count": 179,
     "metadata": {},
     "output_type": "execute_result"
    }
   ],
   "source": [
    "XTest.shape"
   ]
  },
  {
   "cell_type": "code",
   "execution_count": 180,
   "metadata": {},
   "outputs": [
    {
     "data": {
      "text/html": [
       "<div>\n",
       "<style scoped>\n",
       "    .dataframe tbody tr th:only-of-type {\n",
       "        vertical-align: middle;\n",
       "    }\n",
       "\n",
       "    .dataframe tbody tr th {\n",
       "        vertical-align: top;\n",
       "    }\n",
       "\n",
       "    .dataframe thead th {\n",
       "        text-align: right;\n",
       "    }\n",
       "</style>\n",
       "<table border=\"1\" class=\"dataframe\">\n",
       "  <thead>\n",
       "    <tr style=\"text-align: right;\">\n",
       "      <th></th>\n",
       "      <th>0</th>\n",
       "      <th>1</th>\n",
       "      <th>2</th>\n",
       "      <th>3</th>\n",
       "      <th>4</th>\n",
       "      <th>5</th>\n",
       "      <th>6</th>\n",
       "      <th>7</th>\n",
       "      <th>8</th>\n",
       "      <th>9</th>\n",
       "      <th>...</th>\n",
       "      <th>5517</th>\n",
       "      <th>5518</th>\n",
       "      <th>5519</th>\n",
       "      <th>5520</th>\n",
       "      <th>5521</th>\n",
       "      <th>5522</th>\n",
       "      <th>5523</th>\n",
       "      <th>5524</th>\n",
       "      <th>5525</th>\n",
       "      <th>5526</th>\n",
       "    </tr>\n",
       "  </thead>\n",
       "  <tbody>\n",
       "    <tr>\n",
       "      <th>0</th>\n",
       "      <td>0</td>\n",
       "      <td>0</td>\n",
       "      <td>0</td>\n",
       "      <td>0</td>\n",
       "      <td>0</td>\n",
       "      <td>0</td>\n",
       "      <td>0</td>\n",
       "      <td>0</td>\n",
       "      <td>0</td>\n",
       "      <td>0</td>\n",
       "      <td>...</td>\n",
       "      <td>0</td>\n",
       "      <td>0</td>\n",
       "      <td>0</td>\n",
       "      <td>0</td>\n",
       "      <td>0</td>\n",
       "      <td>0</td>\n",
       "      <td>0</td>\n",
       "      <td>0</td>\n",
       "      <td>0</td>\n",
       "      <td>0</td>\n",
       "    </tr>\n",
       "    <tr>\n",
       "      <th>1</th>\n",
       "      <td>0</td>\n",
       "      <td>0</td>\n",
       "      <td>0</td>\n",
       "      <td>0</td>\n",
       "      <td>0</td>\n",
       "      <td>0</td>\n",
       "      <td>0</td>\n",
       "      <td>0</td>\n",
       "      <td>0</td>\n",
       "      <td>0</td>\n",
       "      <td>...</td>\n",
       "      <td>0</td>\n",
       "      <td>0</td>\n",
       "      <td>0</td>\n",
       "      <td>0</td>\n",
       "      <td>0</td>\n",
       "      <td>0</td>\n",
       "      <td>0</td>\n",
       "      <td>0</td>\n",
       "      <td>0</td>\n",
       "      <td>0</td>\n",
       "    </tr>\n",
       "    <tr>\n",
       "      <th>2</th>\n",
       "      <td>0</td>\n",
       "      <td>0</td>\n",
       "      <td>0</td>\n",
       "      <td>0</td>\n",
       "      <td>0</td>\n",
       "      <td>0</td>\n",
       "      <td>0</td>\n",
       "      <td>0</td>\n",
       "      <td>0</td>\n",
       "      <td>0</td>\n",
       "      <td>...</td>\n",
       "      <td>0</td>\n",
       "      <td>0</td>\n",
       "      <td>0</td>\n",
       "      <td>0</td>\n",
       "      <td>0</td>\n",
       "      <td>0</td>\n",
       "      <td>0</td>\n",
       "      <td>0</td>\n",
       "      <td>0</td>\n",
       "      <td>0</td>\n",
       "    </tr>\n",
       "    <tr>\n",
       "      <th>3</th>\n",
       "      <td>0</td>\n",
       "      <td>0</td>\n",
       "      <td>0</td>\n",
       "      <td>0</td>\n",
       "      <td>0</td>\n",
       "      <td>0</td>\n",
       "      <td>0</td>\n",
       "      <td>0</td>\n",
       "      <td>0</td>\n",
       "      <td>0</td>\n",
       "      <td>...</td>\n",
       "      <td>0</td>\n",
       "      <td>0</td>\n",
       "      <td>0</td>\n",
       "      <td>0</td>\n",
       "      <td>0</td>\n",
       "      <td>0</td>\n",
       "      <td>0</td>\n",
       "      <td>0</td>\n",
       "      <td>0</td>\n",
       "      <td>0</td>\n",
       "    </tr>\n",
       "    <tr>\n",
       "      <th>4</th>\n",
       "      <td>0</td>\n",
       "      <td>0</td>\n",
       "      <td>0</td>\n",
       "      <td>0</td>\n",
       "      <td>0</td>\n",
       "      <td>0</td>\n",
       "      <td>0</td>\n",
       "      <td>0</td>\n",
       "      <td>0</td>\n",
       "      <td>0</td>\n",
       "      <td>...</td>\n",
       "      <td>0</td>\n",
       "      <td>0</td>\n",
       "      <td>0</td>\n",
       "      <td>0</td>\n",
       "      <td>0</td>\n",
       "      <td>0</td>\n",
       "      <td>0</td>\n",
       "      <td>0</td>\n",
       "      <td>0</td>\n",
       "      <td>0</td>\n",
       "    </tr>\n",
       "  </tbody>\n",
       "</table>\n",
       "<p>5 rows × 5527 columns</p>\n",
       "</div>"
      ],
      "text/plain": [
       "   0     1     2     3     4     5     6     7     8     9     ...  5517  \\\n",
       "0     0     0     0     0     0     0     0     0     0     0  ...     0   \n",
       "1     0     0     0     0     0     0     0     0     0     0  ...     0   \n",
       "2     0     0     0     0     0     0     0     0     0     0  ...     0   \n",
       "3     0     0     0     0     0     0     0     0     0     0  ...     0   \n",
       "4     0     0     0     0     0     0     0     0     0     0  ...     0   \n",
       "\n",
       "   5518  5519  5520  5521  5522  5523  5524  5525  5526  \n",
       "0     0     0     0     0     0     0     0     0     0  \n",
       "1     0     0     0     0     0     0     0     0     0  \n",
       "2     0     0     0     0     0     0     0     0     0  \n",
       "3     0     0     0     0     0     0     0     0     0  \n",
       "4     0     0     0     0     0     0     0     0     0  \n",
       "\n",
       "[5 rows x 5527 columns]"
      ]
     },
     "execution_count": 180,
     "metadata": {},
     "output_type": "execute_result"
    }
   ],
   "source": [
    "CountVectorizer_test = pd.DataFrame(XTest)\n",
    "CountVectorizer_test.head()"
   ]
  },
  {
   "cell_type": "markdown",
   "metadata": {},
   "source": [
    "#### 2.1.2) Analisis de Locacion"
   ]
  },
  {
   "cell_type": "markdown",
   "metadata": {},
   "source": [
    "##### 2.1.2.1) Por País"
   ]
  },
  {
   "cell_type": "code",
   "execution_count": 181,
   "metadata": {},
   "outputs": [
    {
     "data": {
      "text/html": [
       "<div>\n",
       "<style scoped>\n",
       "    .dataframe tbody tr th:only-of-type {\n",
       "        vertical-align: middle;\n",
       "    }\n",
       "\n",
       "    .dataframe tbody tr th {\n",
       "        vertical-align: top;\n",
       "    }\n",
       "\n",
       "    .dataframe thead th {\n",
       "        text-align: right;\n",
       "    }\n",
       "</style>\n",
       "<table border=\"1\" class=\"dataframe\">\n",
       "  <thead>\n",
       "    <tr style=\"text-align: right;\">\n",
       "      <th></th>\n",
       "      <th>id</th>\n",
       "      <th>keyword</th>\n",
       "      <th>text</th>\n",
       "      <th>Primero</th>\n",
       "      <th>Segundo</th>\n",
       "      <th>Tercero</th>\n",
       "    </tr>\n",
       "  </thead>\n",
       "  <tbody>\n",
       "    <tr>\n",
       "      <th>0</th>\n",
       "      <td>0</td>\n",
       "      <td>NaN</td>\n",
       "      <td>just happened a terrible car crash</td>\n",
       "      <td>NaN</td>\n",
       "      <td>NaN</td>\n",
       "      <td>NaN</td>\n",
       "    </tr>\n",
       "    <tr>\n",
       "      <th>1</th>\n",
       "      <td>2</td>\n",
       "      <td>NaN</td>\n",
       "      <td>heard about #earthquake is different cities, s...</td>\n",
       "      <td>NaN</td>\n",
       "      <td>NaN</td>\n",
       "      <td>NaN</td>\n",
       "    </tr>\n",
       "    <tr>\n",
       "      <th>2</th>\n",
       "      <td>3</td>\n",
       "      <td>NaN</td>\n",
       "      <td>there is a forest fire at spot pond, geese are...</td>\n",
       "      <td>NaN</td>\n",
       "      <td>NaN</td>\n",
       "      <td>NaN</td>\n",
       "    </tr>\n",
       "    <tr>\n",
       "      <th>3</th>\n",
       "      <td>9</td>\n",
       "      <td>NaN</td>\n",
       "      <td>apocalypse lighting. #spokane #wildfires</td>\n",
       "      <td>NaN</td>\n",
       "      <td>NaN</td>\n",
       "      <td>NaN</td>\n",
       "    </tr>\n",
       "    <tr>\n",
       "      <th>4</th>\n",
       "      <td>11</td>\n",
       "      <td>NaN</td>\n",
       "      <td>typhoon soudelor kills 28 in china and taiwan</td>\n",
       "      <td>NaN</td>\n",
       "      <td>NaN</td>\n",
       "      <td>NaN</td>\n",
       "    </tr>\n",
       "  </tbody>\n",
       "</table>\n",
       "</div>"
      ],
      "text/plain": [
       "   id keyword                                               text Primero  \\\n",
       "0   0     NaN                 just happened a terrible car crash     NaN   \n",
       "1   2     NaN  heard about #earthquake is different cities, s...     NaN   \n",
       "2   3     NaN  there is a forest fire at spot pond, geese are...     NaN   \n",
       "3   9     NaN           apocalypse lighting. #spokane #wildfires     NaN   \n",
       "4  11     NaN      typhoon soudelor kills 28 in china and taiwan     NaN   \n",
       "\n",
       "  Segundo Tercero  \n",
       "0     NaN     NaN  \n",
       "1     NaN     NaN  \n",
       "2     NaN     NaN  \n",
       "3     NaN     NaN  \n",
       "4     NaN     NaN  "
      ]
     },
     "execution_count": 181,
     "metadata": {},
     "output_type": "execute_result"
    }
   ],
   "source": [
    "#Mismo procedimiento que en el set de entrenamiento\n",
    "separacion_coma_test=pd.concat([test, test['location'].str.split(',', expand=True)], axis=1)\n",
    "separacion_coma_test.rename(columns={0:'Primero',1:'Segundo',2:'Tercero'},inplace=True)\n",
    "separacion_coma_test.drop(columns={'location',3},inplace=True)\n",
    "separacion_coma_test.head()"
   ]
  },
  {
   "cell_type": "code",
   "execution_count": 182,
   "metadata": {},
   "outputs": [],
   "source": [
    "primera_ciudad_test=separacion_coma_test[['id','Primero']].copy()\n",
    "primera_ciudad_test.rename(columns={'Primero':'city'},inplace=True)\n",
    "ciudad_pais_test=pd.merge(primera_ciudad_test,ciudades,on='city',how='left')\n",
    "ciudad_pais_test.drop_duplicates(subset=\"id\",keep=\"first\",inplace=True)"
   ]
  },
  {
   "cell_type": "code",
   "execution_count": 183,
   "metadata": {},
   "outputs": [],
   "source": [
    "primera_abreviacion_test=separacion_coma_test[['id','Primero']].copy()\n",
    "primera_abreviacion_test.rename(columns={'Primero':'iso_a3'},inplace=True)\n",
    "abreviacion_pais_test=pd.merge(primera_abreviacion_test,mundo,on='iso_a3',how='left')\n",
    "abreviacion_pais_test.drop_duplicates(subset=\"id\",keep=\"first\",inplace=True)"
   ]
  },
  {
   "cell_type": "code",
   "execution_count": 184,
   "metadata": {},
   "outputs": [],
   "source": [
    "primera_pais_test=separacion_coma_test[['id','Primero']].copy()\n",
    "primera_pais_test.rename(columns={'Primero':'name'},inplace=True)\n",
    "pais_test=pd.merge(primera_pais_test,mundo,on='name',how='left')\n",
    "pais_test.drop_duplicates(subset=\"id\",keep=\"first\",inplace=True)\n",
    "pais_test.rename(columns={'iso_a3':'abreviacion'},inplace=True)\n",
    "pais_test.drop(columns={'name'},inplace=True)"
   ]
  },
  {
   "cell_type": "code",
   "execution_count": 185,
   "metadata": {},
   "outputs": [
    {
     "data": {
      "text/html": [
       "<div>\n",
       "<style scoped>\n",
       "    .dataframe tbody tr th:only-of-type {\n",
       "        vertical-align: middle;\n",
       "    }\n",
       "\n",
       "    .dataframe tbody tr th {\n",
       "        vertical-align: top;\n",
       "    }\n",
       "\n",
       "    .dataframe thead th {\n",
       "        text-align: right;\n",
       "    }\n",
       "</style>\n",
       "<table border=\"1\" class=\"dataframe\">\n",
       "  <thead>\n",
       "    <tr style=\"text-align: right;\">\n",
       "      <th></th>\n",
       "      <th>id</th>\n",
       "      <th>target</th>\n",
       "      <th>Tiene_arroba</th>\n",
       "      <th>Tiene_hashtag</th>\n",
       "      <th>Tiene_signo_pregunta</th>\n",
       "      <th>Tiene_signo_exclamacion</th>\n",
       "      <th>(0, 10]_longiud</th>\n",
       "      <th>(10, 20]_longiud</th>\n",
       "      <th>(20, 30]_longiud</th>\n",
       "      <th>(30, 40]_longiud</th>\n",
       "      <th>...</th>\n",
       "      <th>sl_idioma</th>\n",
       "      <th>pt_idioma</th>\n",
       "      <th>sk_idioma</th>\n",
       "      <th>fi_idioma</th>\n",
       "      <th>sq_idioma</th>\n",
       "      <th>sw_idioma</th>\n",
       "      <th>cs_idioma</th>\n",
       "      <th>lt_idioma</th>\n",
       "      <th>Locacion</th>\n",
       "      <th>Es_Ciudad</th>\n",
       "    </tr>\n",
       "  </thead>\n",
       "  <tbody>\n",
       "    <tr>\n",
       "      <th>0</th>\n",
       "      <td>1</td>\n",
       "      <td>1</td>\n",
       "      <td>False</td>\n",
       "      <td>True</td>\n",
       "      <td>False</td>\n",
       "      <td>False</td>\n",
       "      <td>0</td>\n",
       "      <td>0</td>\n",
       "      <td>0</td>\n",
       "      <td>0</td>\n",
       "      <td>...</td>\n",
       "      <td>False</td>\n",
       "      <td>False</td>\n",
       "      <td>False</td>\n",
       "      <td>False</td>\n",
       "      <td>False</td>\n",
       "      <td>False</td>\n",
       "      <td>False</td>\n",
       "      <td>False</td>\n",
       "      <td>Sin Locacion</td>\n",
       "      <td>False</td>\n",
       "    </tr>\n",
       "    <tr>\n",
       "      <th>1</th>\n",
       "      <td>4</td>\n",
       "      <td>1</td>\n",
       "      <td>False</td>\n",
       "      <td>False</td>\n",
       "      <td>False</td>\n",
       "      <td>False</td>\n",
       "      <td>0</td>\n",
       "      <td>0</td>\n",
       "      <td>0</td>\n",
       "      <td>1</td>\n",
       "      <td>...</td>\n",
       "      <td>False</td>\n",
       "      <td>False</td>\n",
       "      <td>False</td>\n",
       "      <td>False</td>\n",
       "      <td>False</td>\n",
       "      <td>False</td>\n",
       "      <td>False</td>\n",
       "      <td>False</td>\n",
       "      <td>Sin Locacion</td>\n",
       "      <td>False</td>\n",
       "    </tr>\n",
       "    <tr>\n",
       "      <th>2</th>\n",
       "      <td>5</td>\n",
       "      <td>1</td>\n",
       "      <td>False</td>\n",
       "      <td>False</td>\n",
       "      <td>False</td>\n",
       "      <td>False</td>\n",
       "      <td>0</td>\n",
       "      <td>0</td>\n",
       "      <td>0</td>\n",
       "      <td>0</td>\n",
       "      <td>...</td>\n",
       "      <td>False</td>\n",
       "      <td>False</td>\n",
       "      <td>False</td>\n",
       "      <td>False</td>\n",
       "      <td>False</td>\n",
       "      <td>False</td>\n",
       "      <td>False</td>\n",
       "      <td>False</td>\n",
       "      <td>Sin Locacion</td>\n",
       "      <td>False</td>\n",
       "    </tr>\n",
       "    <tr>\n",
       "      <th>3</th>\n",
       "      <td>6</td>\n",
       "      <td>1</td>\n",
       "      <td>False</td>\n",
       "      <td>True</td>\n",
       "      <td>False</td>\n",
       "      <td>False</td>\n",
       "      <td>0</td>\n",
       "      <td>0</td>\n",
       "      <td>0</td>\n",
       "      <td>0</td>\n",
       "      <td>...</td>\n",
       "      <td>False</td>\n",
       "      <td>False</td>\n",
       "      <td>False</td>\n",
       "      <td>False</td>\n",
       "      <td>False</td>\n",
       "      <td>False</td>\n",
       "      <td>False</td>\n",
       "      <td>False</td>\n",
       "      <td>Sin Locacion</td>\n",
       "      <td>False</td>\n",
       "    </tr>\n",
       "    <tr>\n",
       "      <th>4</th>\n",
       "      <td>7</td>\n",
       "      <td>1</td>\n",
       "      <td>False</td>\n",
       "      <td>True</td>\n",
       "      <td>False</td>\n",
       "      <td>False</td>\n",
       "      <td>0</td>\n",
       "      <td>0</td>\n",
       "      <td>0</td>\n",
       "      <td>0</td>\n",
       "      <td>...</td>\n",
       "      <td>False</td>\n",
       "      <td>False</td>\n",
       "      <td>False</td>\n",
       "      <td>False</td>\n",
       "      <td>False</td>\n",
       "      <td>False</td>\n",
       "      <td>False</td>\n",
       "      <td>False</td>\n",
       "      <td>Sin Locacion</td>\n",
       "      <td>False</td>\n",
       "    </tr>\n",
       "  </tbody>\n",
       "</table>\n",
       "<p>5 rows × 782 columns</p>\n",
       "</div>"
      ],
      "text/plain": [
       "   id  target  Tiene_arroba  Tiene_hashtag  Tiene_signo_pregunta  \\\n",
       "0   1       1         False           True                 False   \n",
       "1   4       1         False          False                 False   \n",
       "2   5       1         False          False                 False   \n",
       "3   6       1         False           True                 False   \n",
       "4   7       1         False           True                 False   \n",
       "\n",
       "   Tiene_signo_exclamacion  (0, 10]_longiud  (10, 20]_longiud  \\\n",
       "0                    False                0                 0   \n",
       "1                    False                0                 0   \n",
       "2                    False                0                 0   \n",
       "3                    False                0                 0   \n",
       "4                    False                0                 0   \n",
       "\n",
       "   (20, 30]_longiud  (30, 40]_longiud  ...  sl_idioma  pt_idioma  sk_idioma  \\\n",
       "0                 0                 0  ...      False      False      False   \n",
       "1                 0                 1  ...      False      False      False   \n",
       "2                 0                 0  ...      False      False      False   \n",
       "3                 0                 0  ...      False      False      False   \n",
       "4                 0                 0  ...      False      False      False   \n",
       "\n",
       "   fi_idioma  sq_idioma  sw_idioma  cs_idioma  lt_idioma      Locacion  \\\n",
       "0      False      False      False      False      False  Sin Locacion   \n",
       "1      False      False      False      False      False  Sin Locacion   \n",
       "2      False      False      False      False      False  Sin Locacion   \n",
       "3      False      False      False      False      False  Sin Locacion   \n",
       "4      False      False      False      False      False  Sin Locacion   \n",
       "\n",
       "   Es_Ciudad  \n",
       "0      False  \n",
       "1      False  \n",
       "2      False  \n",
       "3      False  \n",
       "4      False  \n",
       "\n",
       "[5 rows x 782 columns]"
      ]
     },
     "execution_count": 185,
     "metadata": {},
     "output_type": "execute_result"
    }
   ],
   "source": [
    "#Junto todo en un solo DataFrame para quedarme con el Pais\n",
    "junto=pd.merge(abreviacion_pais,ciudad_pais,on='id',how='inner')\n",
    "junto=pd.merge(junto,pais,on='id',how='inner')\n",
    "junto['Locacion']=junto.apply(lambda x: MeQuedoConLocacion(x['name'],x['country'],x['abreviacion'],x['iso_a3']),axis=1)\n",
    "junto['Es_Ciudad']=junto.apply(lambda x: EraCiudad(x['country']),axis=1)\n",
    "junto_final=junto[['id','Locacion','Es_Ciudad']]\n",
    "\n",
    "#Lo Joineo con el set de entrenamiento\n",
    "train=pd.merge(train,junto_final,on='id',how='inner')\n",
    "train.head()"
   ]
  },
  {
   "cell_type": "code",
   "execution_count": 186,
   "metadata": {
    "scrolled": true
   },
   "outputs": [
    {
     "data": {
      "text/html": [
       "<div>\n",
       "<style scoped>\n",
       "    .dataframe tbody tr th:only-of-type {\n",
       "        vertical-align: middle;\n",
       "    }\n",
       "\n",
       "    .dataframe tbody tr th {\n",
       "        vertical-align: top;\n",
       "    }\n",
       "\n",
       "    .dataframe thead th {\n",
       "        text-align: right;\n",
       "    }\n",
       "</style>\n",
       "<table border=\"1\" class=\"dataframe\">\n",
       "  <thead>\n",
       "    <tr style=\"text-align: right;\">\n",
       "      <th></th>\n",
       "      <th>id</th>\n",
       "      <th>keyword</th>\n",
       "      <th>location</th>\n",
       "      <th>text</th>\n",
       "      <th>Locacion</th>\n",
       "      <th>Es_Ciudad</th>\n",
       "    </tr>\n",
       "  </thead>\n",
       "  <tbody>\n",
       "    <tr>\n",
       "      <th>0</th>\n",
       "      <td>0</td>\n",
       "      <td>NaN</td>\n",
       "      <td>NaN</td>\n",
       "      <td>just happened a terrible car crash</td>\n",
       "      <td>Sin Locacion</td>\n",
       "      <td>False</td>\n",
       "    </tr>\n",
       "    <tr>\n",
       "      <th>1</th>\n",
       "      <td>2</td>\n",
       "      <td>NaN</td>\n",
       "      <td>NaN</td>\n",
       "      <td>heard about #earthquake is different cities, s...</td>\n",
       "      <td>Sin Locacion</td>\n",
       "      <td>False</td>\n",
       "    </tr>\n",
       "    <tr>\n",
       "      <th>2</th>\n",
       "      <td>3</td>\n",
       "      <td>NaN</td>\n",
       "      <td>NaN</td>\n",
       "      <td>there is a forest fire at spot pond, geese are...</td>\n",
       "      <td>Sin Locacion</td>\n",
       "      <td>False</td>\n",
       "    </tr>\n",
       "    <tr>\n",
       "      <th>3</th>\n",
       "      <td>9</td>\n",
       "      <td>NaN</td>\n",
       "      <td>NaN</td>\n",
       "      <td>apocalypse lighting. #spokane #wildfires</td>\n",
       "      <td>Sin Locacion</td>\n",
       "      <td>False</td>\n",
       "    </tr>\n",
       "    <tr>\n",
       "      <th>4</th>\n",
       "      <td>11</td>\n",
       "      <td>NaN</td>\n",
       "      <td>NaN</td>\n",
       "      <td>typhoon soudelor kills 28 in china and taiwan</td>\n",
       "      <td>Sin Locacion</td>\n",
       "      <td>False</td>\n",
       "    </tr>\n",
       "  </tbody>\n",
       "</table>\n",
       "</div>"
      ],
      "text/plain": [
       "   id keyword location                                               text  \\\n",
       "0   0     NaN      NaN                 just happened a terrible car crash   \n",
       "1   2     NaN      NaN  heard about #earthquake is different cities, s...   \n",
       "2   3     NaN      NaN  there is a forest fire at spot pond, geese are...   \n",
       "3   9     NaN      NaN           apocalypse lighting. #spokane #wildfires   \n",
       "4  11     NaN      NaN      typhoon soudelor kills 28 in china and taiwan   \n",
       "\n",
       "       Locacion  Es_Ciudad  \n",
       "0  Sin Locacion      False  \n",
       "1  Sin Locacion      False  \n",
       "2  Sin Locacion      False  \n",
       "3  Sin Locacion      False  \n",
       "4  Sin Locacion      False  "
      ]
     },
     "execution_count": 186,
     "metadata": {},
     "output_type": "execute_result"
    }
   ],
   "source": [
    "junto_test=pd.merge(abreviacion_pais_test,ciudad_pais_test,on='id',how='inner')\n",
    "junto_test=pd.merge(junto_test,pais_test,on='id',how='inner')\n",
    "junto_test['Locacion']=junto_test.apply(lambda x: MeQuedoConLocacion(x['name'],x['country'],x['abreviacion'],x['iso_a3']),axis=1)\n",
    "junto_test['Es_Ciudad']=junto_test.apply(lambda x: EraCiudad(x['country']),axis=1)\n",
    "junto_final_test=junto_test[['id','Locacion','Es_Ciudad']]\n",
    "\n",
    "#Lo Joineo con el set de Test\n",
    "test=pd.merge(test,junto_final_test,on='id',how='inner')\n",
    "test.head()"
   ]
  },
  {
   "cell_type": "markdown",
   "metadata": {},
   "source": [
    "##### 2.1.2.2) Por Estado"
   ]
  },
  {
   "cell_type": "code",
   "execution_count": 187,
   "metadata": {},
   "outputs": [],
   "source": [
    "primera_estado_test=separacion_coma_test[['id','Primero']].copy()\n",
    "primera_estado_test.rename(columns={'Primero':'Nombre_Estado'},inplace=True)\n",
    "primera_estado_nombre_test=pd.merge(primera_estado_test,estados_usa,on='Nombre_Estado',how='left')\n",
    "primera_estado_nombre_test.drop_duplicates(subset=\"id\",keep=\"first\",inplace=True)\n",
    "primera_estado_nombre_test['Estado_Nombre_Primero']=primera_estado_nombre_test.apply(lambda x: MeQuedoEstado(x['Abreviacion_Estado'],x['Nombre_Estado']),axis=1)\n",
    "primera_estado_nombre_test.drop(columns={'Nombre_Estado','Abreviacion_Estado'},inplace=True)"
   ]
  },
  {
   "cell_type": "code",
   "execution_count": 188,
   "metadata": {},
   "outputs": [],
   "source": [
    "primera_abreviacion_test=separacion_coma_test[['id','Primero']].copy()\n",
    "primera_abreviacion_test.rename(columns={'Primero':'Abreviacion_Estado'},inplace=True)\n",
    "primera_estado_abreviacion_test=pd.merge(primera_abreviacion_test,estados_usa,on='Abreviacion_Estado',how='left')\n",
    "primera_estado_abreviacion_test.drop_duplicates(subset=\"id\",keep=\"first\",inplace=True)\n",
    "primera_estado_abreviacion_test['Estado_Abreviacion_Primero']=primera_estado_abreviacion_test.apply(lambda x: MeQuedoEstado(x['Abreviacion_Estado'],x['Nombre_Estado']),axis=1)\n",
    "primera_estado_abreviacion_test.drop(columns={'Nombre_Estado','Abreviacion_Estado'},inplace=True)"
   ]
  },
  {
   "cell_type": "code",
   "execution_count": 189,
   "metadata": {},
   "outputs": [],
   "source": [
    "segunda_estado_test=separacion_coma_test[['id','Segundo']].copy()\n",
    "segunda_estado_test.rename(columns={'Segundo':'Nombre_Estado'},inplace=True)\n",
    "segunda_estado_nombre_test=pd.merge(segunda_estado_test,estados_usa,on='Nombre_Estado',how='left')\n",
    "segunda_estado_nombre_test.drop_duplicates(subset=\"id\",keep=\"first\",inplace=True)\n",
    "segunda_estado_nombre_test['Estado_Nombre_Segunda']=segunda_estado_nombre_test.apply(lambda x: MeQuedoEstado(x['Abreviacion_Estado'],x['Nombre_Estado']),axis=1)\n",
    "segunda_estado_nombre_test.drop(columns={'Nombre_Estado','Abreviacion_Estado'},inplace=True)"
   ]
  },
  {
   "cell_type": "code",
   "execution_count": 190,
   "metadata": {},
   "outputs": [],
   "source": [
    "segunda_abreviacion_test=separacion_coma_test[['id','Segundo']].copy()\n",
    "segunda_abreviacion_test.rename(columns={'Segundo':'Abreviacion_Estado'},inplace=True)\n",
    "segunda_estado_abreviacion_test=pd.merge(segunda_abreviacion_test,estados_usa,on='Abreviacion_Estado',how='left')\n",
    "segunda_estado_abreviacion_test.drop_duplicates(subset=\"id\",keep=\"first\",inplace=True)\n",
    "segunda_estado_abreviacion_test['Estado_Abreviacion_Segunda']=segunda_estado_abreviacion_test.apply(lambda x: MeQuedoEstado(x['Abreviacion_Estado'],x['Nombre_Estado']),axis=1)\n",
    "segunda_estado_abreviacion_test.drop(columns={'Nombre_Estado','Abreviacion_Estado'},inplace=True)"
   ]
  },
  {
   "cell_type": "code",
   "execution_count": 191,
   "metadata": {},
   "outputs": [
    {
     "data": {
      "text/html": [
       "<div>\n",
       "<style scoped>\n",
       "    .dataframe tbody tr th:only-of-type {\n",
       "        vertical-align: middle;\n",
       "    }\n",
       "\n",
       "    .dataframe tbody tr th {\n",
       "        vertical-align: top;\n",
       "    }\n",
       "\n",
       "    .dataframe thead th {\n",
       "        text-align: right;\n",
       "    }\n",
       "</style>\n",
       "<table border=\"1\" class=\"dataframe\">\n",
       "  <thead>\n",
       "    <tr style=\"text-align: right;\">\n",
       "      <th></th>\n",
       "      <th>id</th>\n",
       "      <th>keyword</th>\n",
       "      <th>location</th>\n",
       "      <th>text</th>\n",
       "      <th>Locacion</th>\n",
       "      <th>Es_Ciudad</th>\n",
       "      <th>Estado</th>\n",
       "    </tr>\n",
       "  </thead>\n",
       "  <tbody>\n",
       "    <tr>\n",
       "      <th>0</th>\n",
       "      <td>0</td>\n",
       "      <td>NaN</td>\n",
       "      <td>NaN</td>\n",
       "      <td>just happened a terrible car crash</td>\n",
       "      <td>Sin Locacion</td>\n",
       "      <td>False</td>\n",
       "      <td>Sin_Estado</td>\n",
       "    </tr>\n",
       "    <tr>\n",
       "      <th>1</th>\n",
       "      <td>2</td>\n",
       "      <td>NaN</td>\n",
       "      <td>NaN</td>\n",
       "      <td>heard about #earthquake is different cities, s...</td>\n",
       "      <td>Sin Locacion</td>\n",
       "      <td>False</td>\n",
       "      <td>Sin_Estado</td>\n",
       "    </tr>\n",
       "    <tr>\n",
       "      <th>2</th>\n",
       "      <td>3</td>\n",
       "      <td>NaN</td>\n",
       "      <td>NaN</td>\n",
       "      <td>there is a forest fire at spot pond, geese are...</td>\n",
       "      <td>Sin Locacion</td>\n",
       "      <td>False</td>\n",
       "      <td>Sin_Estado</td>\n",
       "    </tr>\n",
       "    <tr>\n",
       "      <th>3</th>\n",
       "      <td>9</td>\n",
       "      <td>NaN</td>\n",
       "      <td>NaN</td>\n",
       "      <td>apocalypse lighting. #spokane #wildfires</td>\n",
       "      <td>Sin Locacion</td>\n",
       "      <td>False</td>\n",
       "      <td>Sin_Estado</td>\n",
       "    </tr>\n",
       "    <tr>\n",
       "      <th>4</th>\n",
       "      <td>11</td>\n",
       "      <td>NaN</td>\n",
       "      <td>NaN</td>\n",
       "      <td>typhoon soudelor kills 28 in china and taiwan</td>\n",
       "      <td>Sin Locacion</td>\n",
       "      <td>False</td>\n",
       "      <td>Sin_Estado</td>\n",
       "    </tr>\n",
       "  </tbody>\n",
       "</table>\n",
       "</div>"
      ],
      "text/plain": [
       "   id keyword location                                               text  \\\n",
       "0   0     NaN      NaN                 just happened a terrible car crash   \n",
       "1   2     NaN      NaN  heard about #earthquake is different cities, s...   \n",
       "2   3     NaN      NaN  there is a forest fire at spot pond, geese are...   \n",
       "3   9     NaN      NaN           apocalypse lighting. #spokane #wildfires   \n",
       "4  11     NaN      NaN      typhoon soudelor kills 28 in china and taiwan   \n",
       "\n",
       "       Locacion  Es_Ciudad      Estado  \n",
       "0  Sin Locacion      False  Sin_Estado  \n",
       "1  Sin Locacion      False  Sin_Estado  \n",
       "2  Sin Locacion      False  Sin_Estado  \n",
       "3  Sin Locacion      False  Sin_Estado  \n",
       "4  Sin Locacion      False  Sin_Estado  "
      ]
     },
     "execution_count": 191,
     "metadata": {},
     "output_type": "execute_result"
    }
   ],
   "source": [
    "estados_final_test=pd.merge(primera_estado_nombre_test,primera_estado_abreviacion_test,on='id',how='inner')\n",
    "estados_final_test=pd.merge(estados_final_test,segunda_estado_nombre_test,on='id',how='inner')\n",
    "estados_final_test=pd.merge(estados_final_test,segunda_estado_abreviacion_test,on='id',how='inner')\n",
    "estados_final_test['Estado_TMP']=estados_final_test.apply(lambda x: EstadoFinal(x['Estado_Nombre_Primero'],x['Estado_Abreviacion_Primero'],x['Estado_Nombre_Segunda'],x['Estado_Abreviacion_Segunda']),axis=1)\n",
    "estados_final_test.drop(columns={'Estado_Nombre_Primero','Estado_Abreviacion_Primero','Estado_Nombre_Segunda','Estado_Abreviacion_Segunda'},inplace=True)\n",
    "\n",
    "#Lo Joineo con el set de Test\n",
    "test=pd.merge(test,estados_final_test,on='id',how='inner')\n",
    "test['Estado']=test.apply(lambda x: SinEstado(x['Estado_TMP'],x['Locacion']),axis=1) \n",
    "test.drop(columns={'Estado_TMP'},inplace=True)\n",
    "test.head()"
   ]
  },
  {
   "cell_type": "markdown",
   "metadata": {},
   "source": []
  },
  {
   "cell_type": "code",
   "execution_count": 192,
   "metadata": {},
   "outputs": [
    {
     "data": {
      "text/html": [
       "<div>\n",
       "<style scoped>\n",
       "    .dataframe tbody tr th:only-of-type {\n",
       "        vertical-align: middle;\n",
       "    }\n",
       "\n",
       "    .dataframe tbody tr th {\n",
       "        vertical-align: top;\n",
       "    }\n",
       "\n",
       "    .dataframe thead th {\n",
       "        text-align: right;\n",
       "    }\n",
       "</style>\n",
       "<table border=\"1\" class=\"dataframe\">\n",
       "  <thead>\n",
       "    <tr style=\"text-align: right;\">\n",
       "      <th></th>\n",
       "      <th>id</th>\n",
       "      <th>keyword</th>\n",
       "      <th>location</th>\n",
       "      <th>text</th>\n",
       "      <th>Locacion</th>\n",
       "      <th>Es_Ciudad</th>\n",
       "      <th>Estado</th>\n",
       "      <th>Continente</th>\n",
       "    </tr>\n",
       "  </thead>\n",
       "  <tbody>\n",
       "    <tr>\n",
       "      <th>0</th>\n",
       "      <td>0</td>\n",
       "      <td>NaN</td>\n",
       "      <td>NaN</td>\n",
       "      <td>just happened a terrible car crash</td>\n",
       "      <td>Sin Locacion</td>\n",
       "      <td>False</td>\n",
       "      <td>Sin_Estado</td>\n",
       "      <td>Continente Nulo</td>\n",
       "    </tr>\n",
       "    <tr>\n",
       "      <th>1</th>\n",
       "      <td>2</td>\n",
       "      <td>NaN</td>\n",
       "      <td>NaN</td>\n",
       "      <td>heard about #earthquake is different cities, s...</td>\n",
       "      <td>Sin Locacion</td>\n",
       "      <td>False</td>\n",
       "      <td>Sin_Estado</td>\n",
       "      <td>Continente Nulo</td>\n",
       "    </tr>\n",
       "    <tr>\n",
       "      <th>2</th>\n",
       "      <td>3</td>\n",
       "      <td>NaN</td>\n",
       "      <td>NaN</td>\n",
       "      <td>there is a forest fire at spot pond, geese are...</td>\n",
       "      <td>Sin Locacion</td>\n",
       "      <td>False</td>\n",
       "      <td>Sin_Estado</td>\n",
       "      <td>Continente Nulo</td>\n",
       "    </tr>\n",
       "    <tr>\n",
       "      <th>3</th>\n",
       "      <td>9</td>\n",
       "      <td>NaN</td>\n",
       "      <td>NaN</td>\n",
       "      <td>apocalypse lighting. #spokane #wildfires</td>\n",
       "      <td>Sin Locacion</td>\n",
       "      <td>False</td>\n",
       "      <td>Sin_Estado</td>\n",
       "      <td>Continente Nulo</td>\n",
       "    </tr>\n",
       "    <tr>\n",
       "      <th>4</th>\n",
       "      <td>11</td>\n",
       "      <td>NaN</td>\n",
       "      <td>NaN</td>\n",
       "      <td>typhoon soudelor kills 28 in china and taiwan</td>\n",
       "      <td>Sin Locacion</td>\n",
       "      <td>False</td>\n",
       "      <td>Sin_Estado</td>\n",
       "      <td>Continente Nulo</td>\n",
       "    </tr>\n",
       "  </tbody>\n",
       "</table>\n",
       "</div>"
      ],
      "text/plain": [
       "   id keyword location                                               text  \\\n",
       "0   0     NaN      NaN                 just happened a terrible car crash   \n",
       "1   2     NaN      NaN  heard about #earthquake is different cities, s...   \n",
       "2   3     NaN      NaN  there is a forest fire at spot pond, geese are...   \n",
       "3   9     NaN      NaN           apocalypse lighting. #spokane #wildfires   \n",
       "4  11     NaN      NaN      typhoon soudelor kills 28 in china and taiwan   \n",
       "\n",
       "       Locacion  Es_Ciudad      Estado       Continente  \n",
       "0  Sin Locacion      False  Sin_Estado  Continente Nulo  \n",
       "1  Sin Locacion      False  Sin_Estado  Continente Nulo  \n",
       "2  Sin Locacion      False  Sin_Estado  Continente Nulo  \n",
       "3  Sin Locacion      False  Sin_Estado  Continente Nulo  \n",
       "4  Sin Locacion      False  Sin_Estado  Continente Nulo  "
      ]
     },
     "execution_count": 192,
     "metadata": {},
     "output_type": "execute_result"
    }
   ],
   "source": [
    "test=pd.merge(test,continentes,on='Locacion',how='left')\n",
    "test['Continente']=test.apply(lambda x: SinContinente(x['Locacion'],x['continent']),axis=1)\n",
    "test.drop(columns={'continent'},inplace=True)\n",
    "test.head()"
   ]
  },
  {
   "cell_type": "markdown",
   "metadata": {},
   "source": [
    "#### 2.1.3) Analisis Sintactico"
   ]
  },
  {
   "cell_type": "code",
   "execution_count": 193,
   "metadata": {},
   "outputs": [],
   "source": [
    "test['idioma']=test.apply(lambda x: idioma(x['text']),axis=1)"
   ]
  },
  {
   "cell_type": "code",
   "execution_count": 194,
   "metadata": {},
   "outputs": [
    {
     "name": "stdout",
     "output_type": "stream",
     "text": [
      "Completado\n"
     ]
    }
   ],
   "source": [
    "#Parse del texto , donde cada token es una palabra\n",
    "\n",
    "for i, row in test.iterrows():\n",
    "  \n",
    "    if(row[\"text\"] and len(str(row[\"text\"])) < 300):\n",
    "        doc = nlp(str(row[\"text\"]))\n",
    "        \n",
    "        adjectives = []\n",
    "        nouns = []\n",
    "        verbs = []\n",
    "        lemmas = []\n",
    "        simbolos = []\n",
    "        alfanumericos = []\n",
    "\n",
    "        for token in doc:\n",
    "            \n",
    "            lemmas.append(token.lemma_)\n",
    "            \n",
    "            if not token.text.isalpha():\n",
    "                alfanumericos.append(token.lemma_)\n",
    "            if token.pos_ == \"ADJ\":\n",
    "                adjectives.append(token.lemma_)\n",
    "            if token.pos_ == \"NOUN\" or token.pos_ == \"PROPN\":\n",
    "                nouns.append(token.lemma_)\n",
    "            if token.pos_ == \"VERB\":\n",
    "                verbs.append(token.lemma_)\n",
    "            if token.pos_ == \"SYM\":\n",
    "                simbolos.append(token.lemma_)\n",
    "         \n",
    "        test.at[i, \"adjetivos\"] = \" \".join(adjectives)\n",
    "        test.at[i, \"verbos\"] = \" \".join(verbs)\n",
    "        test.at[i, \"sustantivos\"] = \" \".join(nouns)\n",
    "        test.at[i, \"longitud\"] = len(row[\"text\"])\n",
    "        test.at[i, \"cant_tokens\"] = len(lemmas)\n",
    "        \n",
    "print('Completado')"
   ]
  },
  {
   "cell_type": "code",
   "execution_count": 195,
   "metadata": {},
   "outputs": [],
   "source": [
    "test['rango_longitud']=pd.cut(test['longitud'],[0,10,20,30,40,50,60,70,80,90,100,110,120,130,140,150,160,170,180,190,200])\n",
    "test['rango_palabras']=pd.cut(test['cant_tokens'],[0,10,20,30,40,50,60,70,80,90,100])"
   ]
  },
  {
   "cell_type": "code",
   "execution_count": 196,
   "metadata": {},
   "outputs": [],
   "source": [
    "#Agrego un booleano con respecto a si tienen los simbolos enunciados\n",
    "test['Tiene_arroba']=test['text'].str.contains('@')\n",
    "test['Tiene_hashtag']=test['text'].str.contains('#')\n",
    "test['Tiene_signo_pregunta']=test['text'].str.contains('\\?|¿')\n",
    "test['Tiene_signo_exclamacion']=test['text'].str.contains('!|¡')"
   ]
  },
  {
   "cell_type": "code",
   "execution_count": 197,
   "metadata": {},
   "outputs": [],
   "source": [
    "#Veo si los campos keyword y location son nulos\n",
    "test['Keyword_Nula']=test.apply(lambda x: EsNulo(x['keyword']),axis=1)\n",
    "test['Locacion_Nula']=test.apply(lambda x: EsNulo(x['location']),axis=1)"
   ]
  },
  {
   "cell_type": "markdown",
   "metadata": {},
   "source": [
    "#### 2.1.4) Aplicación de los procesamientos"
   ]
  },
  {
   "cell_type": "code",
   "execution_count": 198,
   "metadata": {},
   "outputs": [],
   "source": [
    "test = oneHotEncoding(test,'rango_longitud','_longiud')\n",
    "test = oneHotEncoding(test,'rango_palabras','_palabras')\n",
    "test = oneHotEncoding(test,'Keyword_Nula','_Keyword')\n",
    "test = oneHotEncoding(test,'Locacion_Nula','_Locacion')\n",
    "test = oneHotEncoding(test,'Es_Ciudad','_Es_Ciudad')"
   ]
  },
  {
   "cell_type": "code",
   "execution_count": 199,
   "metadata": {},
   "outputs": [],
   "source": [
    "for columna in TopPopularesExclusivamenteV['Palabra']:\n",
    "    test[columna+'_palabra_Verdadera']=test.text.str.contains(columna,case=False)"
   ]
  },
  {
   "cell_type": "code",
   "execution_count": 200,
   "metadata": {},
   "outputs": [],
   "source": [
    "for est in top_estados:\n",
    "    test[est]=test['Estado'].str.contains(est,case=False)"
   ]
  },
  {
   "cell_type": "code",
   "execution_count": 201,
   "metadata": {},
   "outputs": [],
   "source": [
    "for cont in top_continentes:\n",
    "    test[cont]=test['Continente'].str.contains(cont,case=False)"
   ]
  },
  {
   "cell_type": "code",
   "execution_count": 202,
   "metadata": {},
   "outputs": [],
   "source": [
    "for key_top in top_20_keywords:\n",
    "    test[key_top]=test['keyword'].str.contains(key_top,case=False)"
   ]
  },
  {
   "cell_type": "code",
   "execution_count": 203,
   "metadata": {},
   "outputs": [],
   "source": [
    "for verbo_real in top_20_verbos_reales:\n",
    "    test[verbo_real+'_verbo_real']=test['verbos'].str.contains(verbo_real,case=False)"
   ]
  },
  {
   "cell_type": "code",
   "execution_count": 204,
   "metadata": {},
   "outputs": [],
   "source": [
    "for adjetivos_real in top_20_adjetivos_reales:\n",
    "    test[adjetivos_real+'_adjetivo_real']=test['adjetivos'].str.contains(adjetivos_real,case=False)"
   ]
  },
  {
   "cell_type": "code",
   "execution_count": 205,
   "metadata": {},
   "outputs": [],
   "source": [
    "for sustantivos_real in top_20_sustantivos_reales:\n",
    "    test[sustantivos_real+'_sustantivo_real']=test['sustantivos'].str.contains(sustantivos_real,case=False)"
   ]
  },
  {
   "cell_type": "code",
   "execution_count": 206,
   "metadata": {},
   "outputs": [],
   "source": [
    "for locacion_top in top_50_locaciones:\n",
    "    test[locacion_top]=test['location'].str.contains(locacion_top,case=False)"
   ]
  },
  {
   "cell_type": "code",
   "execution_count": 207,
   "metadata": {},
   "outputs": [],
   "source": [
    "for hastag_top in top_10_hashtags:\n",
    "    test['#'+hastag_top]=test['text'].str.contains('#'+hastag_top,case=False)"
   ]
  },
  {
   "cell_type": "code",
   "execution_count": 208,
   "metadata": {},
   "outputs": [],
   "source": [
    "for arroba_top in top_10_arrobas:\n",
    "    test['@'+arroba_top]=test['text'].str.contains('@'+arroba_top,case=False)"
   ]
  },
  {
   "cell_type": "code",
   "execution_count": 209,
   "metadata": {},
   "outputs": [],
   "source": [
    "for idi in top_idiomas:\n",
    "    test[idi+'_idioma']=test.apply(lambda x: OneHotIdiomas(x['idioma'],idi),axis=1)"
   ]
  },
  {
   "cell_type": "code",
   "execution_count": 210,
   "metadata": {},
   "outputs": [
    {
     "data": {
      "text/html": [
       "<div>\n",
       "<style scoped>\n",
       "    .dataframe tbody tr th:only-of-type {\n",
       "        vertical-align: middle;\n",
       "    }\n",
       "\n",
       "    .dataframe tbody tr th {\n",
       "        vertical-align: top;\n",
       "    }\n",
       "\n",
       "    .dataframe thead th {\n",
       "        text-align: right;\n",
       "    }\n",
       "</style>\n",
       "<table border=\"1\" class=\"dataframe\">\n",
       "  <thead>\n",
       "    <tr style=\"text-align: right;\">\n",
       "      <th></th>\n",
       "      <th>0</th>\n",
       "      <th>1</th>\n",
       "      <th>2</th>\n",
       "      <th>3</th>\n",
       "      <th>4</th>\n",
       "      <th>5</th>\n",
       "      <th>6</th>\n",
       "      <th>7</th>\n",
       "      <th>8</th>\n",
       "      <th>9</th>\n",
       "      <th>...</th>\n",
       "      <th>hr_idioma</th>\n",
       "      <th>pl_idioma</th>\n",
       "      <th>sl_idioma</th>\n",
       "      <th>pt_idioma</th>\n",
       "      <th>sk_idioma</th>\n",
       "      <th>fi_idioma</th>\n",
       "      <th>sq_idioma</th>\n",
       "      <th>sw_idioma</th>\n",
       "      <th>cs_idioma</th>\n",
       "      <th>lt_idioma</th>\n",
       "    </tr>\n",
       "  </thead>\n",
       "  <tbody>\n",
       "    <tr>\n",
       "      <th>0</th>\n",
       "      <td>0</td>\n",
       "      <td>0</td>\n",
       "      <td>0</td>\n",
       "      <td>0</td>\n",
       "      <td>0</td>\n",
       "      <td>0</td>\n",
       "      <td>0</td>\n",
       "      <td>0</td>\n",
       "      <td>0</td>\n",
       "      <td>0</td>\n",
       "      <td>...</td>\n",
       "      <td>False</td>\n",
       "      <td>False</td>\n",
       "      <td>False</td>\n",
       "      <td>False</td>\n",
       "      <td>False</td>\n",
       "      <td>False</td>\n",
       "      <td>False</td>\n",
       "      <td>False</td>\n",
       "      <td>False</td>\n",
       "      <td>False</td>\n",
       "    </tr>\n",
       "    <tr>\n",
       "      <th>1</th>\n",
       "      <td>0</td>\n",
       "      <td>0</td>\n",
       "      <td>0</td>\n",
       "      <td>0</td>\n",
       "      <td>0</td>\n",
       "      <td>0</td>\n",
       "      <td>0</td>\n",
       "      <td>0</td>\n",
       "      <td>0</td>\n",
       "      <td>0</td>\n",
       "      <td>...</td>\n",
       "      <td>False</td>\n",
       "      <td>False</td>\n",
       "      <td>False</td>\n",
       "      <td>False</td>\n",
       "      <td>False</td>\n",
       "      <td>False</td>\n",
       "      <td>False</td>\n",
       "      <td>False</td>\n",
       "      <td>False</td>\n",
       "      <td>False</td>\n",
       "    </tr>\n",
       "    <tr>\n",
       "      <th>2</th>\n",
       "      <td>0</td>\n",
       "      <td>0</td>\n",
       "      <td>0</td>\n",
       "      <td>0</td>\n",
       "      <td>0</td>\n",
       "      <td>0</td>\n",
       "      <td>0</td>\n",
       "      <td>0</td>\n",
       "      <td>0</td>\n",
       "      <td>0</td>\n",
       "      <td>...</td>\n",
       "      <td>False</td>\n",
       "      <td>False</td>\n",
       "      <td>False</td>\n",
       "      <td>False</td>\n",
       "      <td>False</td>\n",
       "      <td>False</td>\n",
       "      <td>False</td>\n",
       "      <td>False</td>\n",
       "      <td>False</td>\n",
       "      <td>False</td>\n",
       "    </tr>\n",
       "    <tr>\n",
       "      <th>3</th>\n",
       "      <td>0</td>\n",
       "      <td>0</td>\n",
       "      <td>0</td>\n",
       "      <td>0</td>\n",
       "      <td>0</td>\n",
       "      <td>0</td>\n",
       "      <td>0</td>\n",
       "      <td>0</td>\n",
       "      <td>0</td>\n",
       "      <td>0</td>\n",
       "      <td>...</td>\n",
       "      <td>False</td>\n",
       "      <td>False</td>\n",
       "      <td>False</td>\n",
       "      <td>False</td>\n",
       "      <td>False</td>\n",
       "      <td>False</td>\n",
       "      <td>False</td>\n",
       "      <td>False</td>\n",
       "      <td>False</td>\n",
       "      <td>False</td>\n",
       "    </tr>\n",
       "    <tr>\n",
       "      <th>4</th>\n",
       "      <td>0</td>\n",
       "      <td>0</td>\n",
       "      <td>0</td>\n",
       "      <td>0</td>\n",
       "      <td>0</td>\n",
       "      <td>0</td>\n",
       "      <td>0</td>\n",
       "      <td>0</td>\n",
       "      <td>0</td>\n",
       "      <td>0</td>\n",
       "      <td>...</td>\n",
       "      <td>False</td>\n",
       "      <td>False</td>\n",
       "      <td>False</td>\n",
       "      <td>False</td>\n",
       "      <td>False</td>\n",
       "      <td>False</td>\n",
       "      <td>False</td>\n",
       "      <td>False</td>\n",
       "      <td>False</td>\n",
       "      <td>False</td>\n",
       "    </tr>\n",
       "  </tbody>\n",
       "</table>\n",
       "<p>5 rows × 6305 columns</p>\n",
       "</div>"
      ],
      "text/plain": [
       "   0  1  2  3  4  5  6  7  8  9  ...  hr_idioma  pl_idioma  sl_idioma  \\\n",
       "0  0  0  0  0  0  0  0  0  0  0  ...      False      False      False   \n",
       "1  0  0  0  0  0  0  0  0  0  0  ...      False      False      False   \n",
       "2  0  0  0  0  0  0  0  0  0  0  ...      False      False      False   \n",
       "3  0  0  0  0  0  0  0  0  0  0  ...      False      False      False   \n",
       "4  0  0  0  0  0  0  0  0  0  0  ...      False      False      False   \n",
       "\n",
       "   pt_idioma  sk_idioma  fi_idioma  sq_idioma  sw_idioma  cs_idioma  lt_idioma  \n",
       "0      False      False      False      False      False      False      False  \n",
       "1      False      False      False      False      False      False      False  \n",
       "2      False      False      False      False      False      False      False  \n",
       "3      False      False      False      False      False      False      False  \n",
       "4      False      False      False      False      False      False      False  \n",
       "\n",
       "[5 rows x 6305 columns]"
      ]
     },
     "execution_count": 210,
     "metadata": {},
     "output_type": "execute_result"
    }
   ],
   "source": [
    "test.drop(columns={'Continente','Estado','cant_tokens','location','Locacion','keyword','text','adjetivos','verbos','sustantivos','longitud','idioma'},inplace=True)\n",
    "test.fillna(False,inplace=True)\n",
    "test_final=pd.concat((CountVectorizer_test,test),axis=1)\n",
    "IDS=test_final[['id']].copy()\n",
    "test_final.drop(columns={'id'},inplace=True)\n",
    "test_final.head()"
   ]
  },
  {
   "cell_type": "markdown",
   "metadata": {},
   "source": [
    " "
   ]
  },
  {
   "cell_type": "markdown",
   "metadata": {},
   "source": [
    "  "
   ]
  },
  {
   "cell_type": "markdown",
   "metadata": {},
   "source": [
    "## 3) Aplicacion de Algoritmos"
   ]
  },
  {
   "cell_type": "markdown",
   "metadata": {},
   "source": [
    "### Dividimos el set de entrenamiento en Entrenamiento y Validación"
   ]
  },
  {
   "cell_type": "code",
   "execution_count": 211,
   "metadata": {},
   "outputs": [
    {
     "data": {
      "text/html": [
       "<div>\n",
       "<style scoped>\n",
       "    .dataframe tbody tr th:only-of-type {\n",
       "        vertical-align: middle;\n",
       "    }\n",
       "\n",
       "    .dataframe tbody tr th {\n",
       "        vertical-align: top;\n",
       "    }\n",
       "\n",
       "    .dataframe thead th {\n",
       "        text-align: right;\n",
       "    }\n",
       "</style>\n",
       "<table border=\"1\" class=\"dataframe\">\n",
       "  <thead>\n",
       "    <tr style=\"text-align: right;\">\n",
       "      <th></th>\n",
       "      <th>0</th>\n",
       "      <th>1</th>\n",
       "      <th>2</th>\n",
       "      <th>3</th>\n",
       "      <th>4</th>\n",
       "      <th>5</th>\n",
       "      <th>6</th>\n",
       "      <th>7</th>\n",
       "      <th>8</th>\n",
       "      <th>9</th>\n",
       "      <th>...</th>\n",
       "      <th>hr_idioma</th>\n",
       "      <th>pl_idioma</th>\n",
       "      <th>sl_idioma</th>\n",
       "      <th>pt_idioma</th>\n",
       "      <th>sk_idioma</th>\n",
       "      <th>fi_idioma</th>\n",
       "      <th>sq_idioma</th>\n",
       "      <th>sw_idioma</th>\n",
       "      <th>cs_idioma</th>\n",
       "      <th>lt_idioma</th>\n",
       "    </tr>\n",
       "  </thead>\n",
       "  <tbody>\n",
       "    <tr>\n",
       "      <th>0</th>\n",
       "      <td>0</td>\n",
       "      <td>0</td>\n",
       "      <td>0</td>\n",
       "      <td>0</td>\n",
       "      <td>0</td>\n",
       "      <td>0</td>\n",
       "      <td>0</td>\n",
       "      <td>0</td>\n",
       "      <td>0</td>\n",
       "      <td>0</td>\n",
       "      <td>...</td>\n",
       "      <td>False</td>\n",
       "      <td>False</td>\n",
       "      <td>False</td>\n",
       "      <td>False</td>\n",
       "      <td>False</td>\n",
       "      <td>False</td>\n",
       "      <td>False</td>\n",
       "      <td>False</td>\n",
       "      <td>False</td>\n",
       "      <td>False</td>\n",
       "    </tr>\n",
       "    <tr>\n",
       "      <th>1</th>\n",
       "      <td>0</td>\n",
       "      <td>0</td>\n",
       "      <td>0</td>\n",
       "      <td>0</td>\n",
       "      <td>0</td>\n",
       "      <td>0</td>\n",
       "      <td>0</td>\n",
       "      <td>0</td>\n",
       "      <td>0</td>\n",
       "      <td>0</td>\n",
       "      <td>...</td>\n",
       "      <td>False</td>\n",
       "      <td>False</td>\n",
       "      <td>False</td>\n",
       "      <td>False</td>\n",
       "      <td>False</td>\n",
       "      <td>False</td>\n",
       "      <td>False</td>\n",
       "      <td>False</td>\n",
       "      <td>False</td>\n",
       "      <td>False</td>\n",
       "    </tr>\n",
       "    <tr>\n",
       "      <th>2</th>\n",
       "      <td>0</td>\n",
       "      <td>0</td>\n",
       "      <td>0</td>\n",
       "      <td>0</td>\n",
       "      <td>0</td>\n",
       "      <td>0</td>\n",
       "      <td>0</td>\n",
       "      <td>0</td>\n",
       "      <td>0</td>\n",
       "      <td>0</td>\n",
       "      <td>...</td>\n",
       "      <td>False</td>\n",
       "      <td>False</td>\n",
       "      <td>False</td>\n",
       "      <td>False</td>\n",
       "      <td>False</td>\n",
       "      <td>False</td>\n",
       "      <td>False</td>\n",
       "      <td>False</td>\n",
       "      <td>False</td>\n",
       "      <td>False</td>\n",
       "    </tr>\n",
       "    <tr>\n",
       "      <th>3</th>\n",
       "      <td>0</td>\n",
       "      <td>1</td>\n",
       "      <td>0</td>\n",
       "      <td>0</td>\n",
       "      <td>0</td>\n",
       "      <td>0</td>\n",
       "      <td>0</td>\n",
       "      <td>0</td>\n",
       "      <td>0</td>\n",
       "      <td>0</td>\n",
       "      <td>...</td>\n",
       "      <td>False</td>\n",
       "      <td>False</td>\n",
       "      <td>False</td>\n",
       "      <td>False</td>\n",
       "      <td>False</td>\n",
       "      <td>False</td>\n",
       "      <td>False</td>\n",
       "      <td>False</td>\n",
       "      <td>False</td>\n",
       "      <td>False</td>\n",
       "    </tr>\n",
       "    <tr>\n",
       "      <th>4</th>\n",
       "      <td>0</td>\n",
       "      <td>0</td>\n",
       "      <td>0</td>\n",
       "      <td>0</td>\n",
       "      <td>0</td>\n",
       "      <td>0</td>\n",
       "      <td>0</td>\n",
       "      <td>0</td>\n",
       "      <td>0</td>\n",
       "      <td>0</td>\n",
       "      <td>...</td>\n",
       "      <td>False</td>\n",
       "      <td>False</td>\n",
       "      <td>False</td>\n",
       "      <td>False</td>\n",
       "      <td>False</td>\n",
       "      <td>False</td>\n",
       "      <td>False</td>\n",
       "      <td>False</td>\n",
       "      <td>False</td>\n",
       "      <td>False</td>\n",
       "    </tr>\n",
       "  </tbody>\n",
       "</table>\n",
       "<p>5 rows × 6305 columns</p>\n",
       "</div>"
      ],
      "text/plain": [
       "   0  1  2  3  4  5  6  7  8  9  ...  hr_idioma  pl_idioma  sl_idioma  \\\n",
       "0  0  0  0  0  0  0  0  0  0  0  ...      False      False      False   \n",
       "1  0  0  0  0  0  0  0  0  0  0  ...      False      False      False   \n",
       "2  0  0  0  0  0  0  0  0  0  0  ...      False      False      False   \n",
       "3  0  1  0  0  0  0  0  0  0  0  ...      False      False      False   \n",
       "4  0  0  0  0  0  0  0  0  0  0  ...      False      False      False   \n",
       "\n",
       "   pt_idioma  sk_idioma  fi_idioma  sq_idioma  sw_idioma  cs_idioma  lt_idioma  \n",
       "0      False      False      False      False      False      False      False  \n",
       "1      False      False      False      False      False      False      False  \n",
       "2      False      False      False      False      False      False      False  \n",
       "3      False      False      False      False      False      False      False  \n",
       "4      False      False      False      False      False      False      False  \n",
       "\n",
       "[5 rows x 6305 columns]"
      ]
     },
     "execution_count": 211,
     "metadata": {},
     "output_type": "execute_result"
    }
   ],
   "source": [
    "datos=train_final.drop(columns={'target','id'})\n",
    "precio=train_final['target']\n",
    "datos.head()"
   ]
  },
  {
   "cell_type": "code",
   "execution_count": 236,
   "metadata": {},
   "outputs": [],
   "source": [
    "#Separamos el set de entrenamiento en set de entrenamiento y de validacion\n",
    "test_size = 0.33\n",
    "random_state = 0\n",
    "datos_train , datos_test, target_train, target_test = train_test_split(datos,precio,test_size = test_size,random_state = random_state)"
   ]
  },
  {
   "cell_type": "code",
   "execution_count": 237,
   "metadata": {},
   "outputs": [],
   "source": [
    "sc = StandardScaler()\n",
    "sc.fit(datos_train)\n",
    "\n",
    "datos_train_std = sc.transform(datos_train)\n",
    "datos_test_std = sc.transform(datos_test)"
   ]
  },
  {
   "cell_type": "code",
   "execution_count": 238,
   "metadata": {},
   "outputs": [],
   "source": [
    "#Normalizo el set de test\n",
    "test_std = sc.transform(test_final)"
   ]
  },
  {
   "cell_type": "markdown",
   "metadata": {},
   "source": [
    " "
   ]
  },
  {
   "cell_type": "markdown",
   "metadata": {},
   "source": [
    " "
   ]
  },
  {
   "cell_type": "markdown",
   "metadata": {},
   "source": [
    "## Grid Search de Random Forest"
   ]
  },
  {
   "cell_type": "code",
   "execution_count": 234,
   "metadata": {},
   "outputs": [],
   "source": [
    "RF = RandomForestClassifier(random_state=0,n_jobs=-1)"
   ]
  },
  {
   "cell_type": "code",
   "execution_count": 235,
   "metadata": {},
   "outputs": [],
   "source": [
    "param_grid = { \n",
    "    'n_estimators': [100, 250],\n",
    "    'max_features': ['auto', 'sqrt', 'log2'],\n",
    "    'max_depth' : [500,1500],\n",
    "    'criterion' :['gini', 'entropy'],\n",
    "    'oob_score':[True,False],\n",
    "    'min_samples_split':[50,100],\n",
    "    'class_weight':['balanced','balanced_subsample']\n",
    "}"
   ]
  },
  {
   "cell_type": "code",
   "execution_count": 236,
   "metadata": {},
   "outputs": [
    {
     "data": {
      "text/plain": [
       "GridSearchCV(cv=5, estimator=RandomForestClassifier(n_jobs=-1, random_state=0),\n",
       "             param_grid={'class_weight': ['balanced', 'balanced_subsample'],\n",
       "                         'criterion': ['gini', 'entropy'],\n",
       "                         'max_depth': [500, 1500],\n",
       "                         'max_features': ['auto', 'sqrt', 'log2'],\n",
       "                         'min_samples_split': [50, 100],\n",
       "                         'n_estimators': [100, 250],\n",
       "                         'oob_score': [True, False]})"
      ]
     },
     "execution_count": 236,
     "metadata": {},
     "output_type": "execute_result"
    }
   ],
   "source": [
    "CV_rfc = GridSearchCV(estimator = RF, param_grid=param_grid, cv= 5)\n",
    "CV_rfc.fit(datos_train,target_train)"
   ]
  },
  {
   "cell_type": "code",
   "execution_count": 237,
   "metadata": {},
   "outputs": [
    {
     "data": {
      "text/plain": [
       "{'class_weight': 'balanced_subsample',\n",
       " 'criterion': 'gini',\n",
       " 'max_depth': 500,\n",
       " 'max_features': 'log2',\n",
       " 'min_samples_split': 50,\n",
       " 'n_estimators': 250,\n",
       " 'oob_score': True}"
      ]
     },
     "execution_count": 237,
     "metadata": {},
     "output_type": "execute_result"
    }
   ],
   "source": [
    "CV_rfc.best_params_"
   ]
  },
  {
   "cell_type": "code",
   "execution_count": 238,
   "metadata": {},
   "outputs": [],
   "source": [
    "RF = RandomForestClassifier(random_state=0,n_jobs=-1,class_weight= 'balanced_subsample',criterion= 'gini',max_depth= 500,max_features= 'log2',min_samples_split= 50,n_estimators= 250,oob_score= True)"
   ]
  },
  {
   "cell_type": "code",
   "execution_count": 239,
   "metadata": {},
   "outputs": [
    {
     "data": {
      "text/plain": [
       "RandomForestClassifier(class_weight='balanced_subsample', max_depth=500,\n",
       "                       max_features='log2', min_samples_split=50,\n",
       "                       n_estimators=250, n_jobs=-1, oob_score=True,\n",
       "                       random_state=0)"
      ]
     },
     "execution_count": 239,
     "metadata": {},
     "output_type": "execute_result"
    }
   ],
   "source": [
    "RF.fit(datos_train,target_train)"
   ]
  },
  {
   "cell_type": "code",
   "execution_count": 240,
   "metadata": {},
   "outputs": [
    {
     "name": "stdout",
     "output_type": "stream",
     "text": [
      "Porcentaje: 81.09%\n"
     ]
    }
   ],
   "source": [
    "prediccion_RF_validacion=RF.predict(datos_test)\n",
    "porcentaje_RF=(accuracy_score(target_test,prediccion_RF_validacion)*100)\n",
    "\n",
    "print('Porcentaje: {0:.2f}%'.format(porcentaje_RF))"
   ]
  },
  {
   "cell_type": "code",
   "execution_count": 241,
   "metadata": {},
   "outputs": [],
   "source": [
    "prediccion_test_RF = RF.predict(test_final)"
   ]
  },
  {
   "cell_type": "code",
   "execution_count": 242,
   "metadata": {},
   "outputs": [
    {
     "data": {
      "text/html": [
       "<div>\n",
       "<style scoped>\n",
       "    .dataframe tbody tr th:only-of-type {\n",
       "        vertical-align: middle;\n",
       "    }\n",
       "\n",
       "    .dataframe tbody tr th {\n",
       "        vertical-align: top;\n",
       "    }\n",
       "\n",
       "    .dataframe thead th {\n",
       "        text-align: right;\n",
       "    }\n",
       "</style>\n",
       "<table border=\"1\" class=\"dataframe\">\n",
       "  <thead>\n",
       "    <tr style=\"text-align: right;\">\n",
       "      <th></th>\n",
       "      <th>target</th>\n",
       "    </tr>\n",
       "    <tr>\n",
       "      <th>id</th>\n",
       "      <th></th>\n",
       "    </tr>\n",
       "  </thead>\n",
       "  <tbody>\n",
       "    <tr>\n",
       "      <th>0</th>\n",
       "      <td>0</td>\n",
       "    </tr>\n",
       "    <tr>\n",
       "      <th>2</th>\n",
       "      <td>1</td>\n",
       "    </tr>\n",
       "    <tr>\n",
       "      <th>3</th>\n",
       "      <td>1</td>\n",
       "    </tr>\n",
       "    <tr>\n",
       "      <th>9</th>\n",
       "      <td>1</td>\n",
       "    </tr>\n",
       "    <tr>\n",
       "      <th>11</th>\n",
       "      <td>1</td>\n",
       "    </tr>\n",
       "  </tbody>\n",
       "</table>\n",
       "</div>"
      ],
      "text/plain": [
       "    target\n",
       "id        \n",
       "0        0\n",
       "2        1\n",
       "3        1\n",
       "9        1\n",
       "11       1"
      ]
     },
     "execution_count": 242,
     "metadata": {},
     "output_type": "execute_result"
    }
   ],
   "source": [
    "entregable_RF=IDS.copy()\n",
    "entregable_RF['target']=prediccion_test_RF\n",
    "entregable_RF.set_index('id',inplace=True)\n",
    "entregable_RF.head()"
   ]
  },
  {
   "cell_type": "code",
   "execution_count": 243,
   "metadata": {},
   "outputs": [],
   "source": [
    "entregable_RF.to_csv('D:\\Grid_RF.csv')"
   ]
  },
  {
   "cell_type": "markdown",
   "metadata": {},
   "source": [
    " "
   ]
  },
  {
   "cell_type": "markdown",
   "metadata": {},
   "source": [
    " "
   ]
  },
  {
   "cell_type": "markdown",
   "metadata": {},
   "source": [
    "### 3.1) Perceptron"
   ]
  },
  {
   "cell_type": "markdown",
   "metadata": {},
   "source": [
    "#### 3.1.1) Penalty"
   ]
  },
  {
   "cell_type": "markdown",
   "metadata": {},
   "source": [
    "##### 3.1.1.1) L1"
   ]
  },
  {
   "cell_type": "code",
   "execution_count": 215,
   "metadata": {},
   "outputs": [
    {
     "name": "stdout",
     "output_type": "stream",
     "text": [
      "Porcentaje: 74.09%\n"
     ]
    }
   ],
   "source": [
    "perceptron_l1 = Perceptron(eta0 = 0.1,random_state = random_state,shuffle=True,penalty='l1')\n",
    "perceptron_l1.fit(datos_train_std,target_train)\n",
    "\n",
    "prediccion_perceptron_l1 = perceptron_l1.predict(datos_test_std)\n",
    "\n",
    "print('Porcentaje: {0:.2f}%'.format(accuracy_score(target_test,prediccion_perceptron_l1)*100))"
   ]
  },
  {
   "cell_type": "markdown",
   "metadata": {},
   "source": [
    "##### 3.1.1.2) L2"
   ]
  },
  {
   "cell_type": "code",
   "execution_count": 216,
   "metadata": {},
   "outputs": [
    {
     "name": "stdout",
     "output_type": "stream",
     "text": [
      "Porcentaje: 75.13%\n"
     ]
    }
   ],
   "source": [
    "perceptron_l2 = Perceptron(eta0 = 0.1,random_state = random_state,shuffle=True,penalty='l2')\n",
    "perceptron_l2.fit(datos_train_std,target_train)\n",
    "\n",
    "prediccion_perceptron_l2 = perceptron_l2.predict(datos_test_std)\n",
    "\n",
    "print('Porcentaje: {0:.2f}%'.format(accuracy_score(target_test,prediccion_perceptron_l2)*100))"
   ]
  },
  {
   "cell_type": "markdown",
   "metadata": {},
   "source": [
    "##### 3.1.1.3) Elasticnet"
   ]
  },
  {
   "cell_type": "code",
   "execution_count": 217,
   "metadata": {},
   "outputs": [
    {
     "name": "stdout",
     "output_type": "stream",
     "text": [
      "Porcentaje: 75.13%\n"
     ]
    }
   ],
   "source": [
    "perceptron_elasticnet = Perceptron(eta0 = 0.1,random_state = random_state,shuffle=True,penalty='elasticnet')\n",
    "perceptron_elasticnet.fit(datos_train_std,target_train)\n",
    "\n",
    "prediccion_perceptron_elasticnet = perceptron_elasticnet.predict(datos_test_std)\n",
    "\n",
    "print('Porcentaje: {0:.2f}%'.format(accuracy_score(target_test,prediccion_perceptron_elasticnet)*100))"
   ]
  },
  {
   "cell_type": "markdown",
   "metadata": {},
   "source": [
    "#### 3.1.2) Prediccion Final"
   ]
  },
  {
   "cell_type": "code",
   "execution_count": 218,
   "metadata": {},
   "outputs": [],
   "source": [
    "perceptron = Perceptron(eta0 = 0.1,random_state = random_state,shuffle=True,penalty='l1')"
   ]
  },
  {
   "cell_type": "code",
   "execution_count": 219,
   "metadata": {},
   "outputs": [
    {
     "data": {
      "text/plain": [
       "Perceptron(eta0=0.1, penalty='l1')"
      ]
     },
     "execution_count": 219,
     "metadata": {},
     "output_type": "execute_result"
    }
   ],
   "source": [
    "perceptron.fit(datos_train_std,target_train)"
   ]
  },
  {
   "cell_type": "code",
   "execution_count": 220,
   "metadata": {},
   "outputs": [],
   "source": [
    "prediccion_test_perceptron = perceptron.predict(test_std)"
   ]
  },
  {
   "cell_type": "code",
   "execution_count": 221,
   "metadata": {},
   "outputs": [
    {
     "data": {
      "text/html": [
       "<div>\n",
       "<style scoped>\n",
       "    .dataframe tbody tr th:only-of-type {\n",
       "        vertical-align: middle;\n",
       "    }\n",
       "\n",
       "    .dataframe tbody tr th {\n",
       "        vertical-align: top;\n",
       "    }\n",
       "\n",
       "    .dataframe thead th {\n",
       "        text-align: right;\n",
       "    }\n",
       "</style>\n",
       "<table border=\"1\" class=\"dataframe\">\n",
       "  <thead>\n",
       "    <tr style=\"text-align: right;\">\n",
       "      <th></th>\n",
       "      <th>target</th>\n",
       "    </tr>\n",
       "    <tr>\n",
       "      <th>id</th>\n",
       "      <th></th>\n",
       "    </tr>\n",
       "  </thead>\n",
       "  <tbody>\n",
       "    <tr>\n",
       "      <th>0</th>\n",
       "      <td>0</td>\n",
       "    </tr>\n",
       "    <tr>\n",
       "      <th>2</th>\n",
       "      <td>0</td>\n",
       "    </tr>\n",
       "    <tr>\n",
       "      <th>3</th>\n",
       "      <td>1</td>\n",
       "    </tr>\n",
       "    <tr>\n",
       "      <th>9</th>\n",
       "      <td>1</td>\n",
       "    </tr>\n",
       "    <tr>\n",
       "      <th>11</th>\n",
       "      <td>1</td>\n",
       "    </tr>\n",
       "  </tbody>\n",
       "</table>\n",
       "</div>"
      ],
      "text/plain": [
       "    target\n",
       "id        \n",
       "0        0\n",
       "2        0\n",
       "3        1\n",
       "9        1\n",
       "11       1"
      ]
     },
     "execution_count": 221,
     "metadata": {},
     "output_type": "execute_result"
    }
   ],
   "source": [
    "entregable_perceptron=IDS.copy()\n",
    "entregable_perceptron['target']=prediccion_test_perceptron\n",
    "entregable_perceptron.set_index('id',inplace=True)\n",
    "entregable_perceptron.head()"
   ]
  },
  {
   "cell_type": "code",
   "execution_count": 222,
   "metadata": {},
   "outputs": [],
   "source": [
    "entregable_perceptron.to_csv('Resultados/Perceptron_Count_2.csv')"
   ]
  },
  {
   "cell_type": "markdown",
   "metadata": {},
   "source": [
    " "
   ]
  },
  {
   "cell_type": "markdown",
   "metadata": {},
   "source": [
    " "
   ]
  },
  {
   "cell_type": "markdown",
   "metadata": {},
   "source": [
    "### 3.2) Random Forest"
   ]
  },
  {
   "cell_type": "code",
   "execution_count": 223,
   "metadata": {},
   "outputs": [
    {
     "name": "stdout",
     "output_type": "stream",
     "text": [
      "Nro. Estimadores = 100 - Porcentaje: 81.10%\n",
      "Nro. Estimadores = 150 - Porcentaje: 81.54%\n",
      "Nro. Estimadores = 200 - Porcentaje: 81.89%\n",
      "Nro. Estimadores = 250 - Porcentaje: 82.17%\n",
      "Nro. Estimadores = 300 - Porcentaje: 82.37%\n",
      "Nro. Estimadores = 350 - Porcentaje: 82.17%\n",
      "Nro. Estimadores = 400 - Porcentaje: 82.41%\n",
      "Nro. Estimadores = 450 - Porcentaje: 82.69%\n",
      "Nro. Estimadores = 500 - Porcentaje: 82.53%\n",
      "Nro. Estimadores = 550 - Porcentaje: 82.69%\n",
      "Nro. Estimadores = 600 - Porcentaje: 82.49%\n",
      "Nro. Estimadores = 650 - Porcentaje: 82.57%\n",
      "Nro. Estimadores = 700 - Porcentaje: 82.49%\n",
      "Nro. Estimadores = 750 - Porcentaje: 82.41%\n",
      "Nro. Estimadores = 800 - Porcentaje: 82.53%\n",
      "Nro. Estimadores = 850 - Porcentaje: 82.45%\n",
      "Nro. Estimadores = 900 - Porcentaje: 82.49%\n",
      "Nro. Estimadores = 950 - Porcentaje: 82.53%\n",
      "Nro. Estimadores = 1000 - Porcentaje: 82.37%\n",
      "Nro. Estimadores = 1050 - Porcentaje: 82.37%\n",
      "Nro. Estimadores = 1100 - Porcentaje: 82.33%\n",
      "Nro. Estimadores = 1150 - Porcentaje: 82.25%\n"
     ]
    }
   ],
   "source": [
    "#Busco el Nro. Estimadores que nos de el mejor porcentaje\n",
    "rango_n = range(100, 1200, 50)\n",
    "porcentajes_RF=[]\n",
    "\n",
    "for n in rango_n:\n",
    "    RF = RandomForestClassifier(random_state=0, n_jobs=-1, n_estimators=n, oob_score=True,max_features='log2',min_samples_split=50,criterion='entropy',class_weight='balanced_subsample')\n",
    "    RF.fit(datos_train,target_train)\n",
    "    prediccion_RF_validacion=RF.predict(datos_test)\n",
    "    porcentaje_RF=(accuracy_score(target_test,prediccion_RF_validacion)*100)\n",
    "\n",
    "    print('Nro. Estimadores =',n,'- Porcentaje: {0:.2f}%'.format(porcentaje_RF))\n",
    "    porcentajes_RF.append(porcentaje_RF)"
   ]
  },
  {
   "cell_type": "code",
   "execution_count": 224,
   "metadata": {},
   "outputs": [
    {
     "data": {
      "text/plain": [
       "Text(0, 0.5, 'Porcentaje')"
      ]
     },
     "execution_count": 224,
     "metadata": {},
     "output_type": "execute_result"
    },
    {
     "data": {
      "image/png": "[encoded data removed]",
      "text/plain": [
       "<Figure size 800x800 with 1 Axes>"
      ]
     },
     "metadata": {},
     "output_type": "display_data"
    }
   ],
   "source": [
    "#Ploteamos para ver una mejor representacion\n",
    "plt.subplots(figsize=(8,8))\n",
    "plt.plot(rango_n,porcentajes_RF,color='red')\n",
    "plt.title(\"Porcentajes en Relación al Nro. Estimadores\",fontsize=20)\n",
    "plt.xlabel(\"Nro. Estimadores\",fontsize=15)\n",
    "plt.ylabel(\"Porcentaje\",fontsize=15)"
   ]
  },
  {
   "cell_type": "markdown",
   "metadata": {},
   "source": [
    "#### 3.2.1) Predicción Final"
   ]
  },
  {
   "cell_type": "code",
   "execution_count": 231,
   "metadata": {},
   "outputs": [],
   "source": [
    "RF = RandomForestClassifier(random_state=0, n_jobs=-1, n_estimators=450, oob_score=True,max_features='log2',min_samples_split=50,criterion='entropy',class_weight='balanced_subsample')"
   ]
  },
  {
   "cell_type": "code",
   "execution_count": 232,
   "metadata": {},
   "outputs": [
    {
     "data": {
      "text/plain": [
       "RandomForestClassifier(class_weight='balanced_subsample', criterion='entropy',\n",
       "                       max_features='log2', min_samples_split=50,\n",
       "                       n_estimators=450, n_jobs=-1, oob_score=True,\n",
       "                       random_state=0)"
      ]
     },
     "execution_count": 232,
     "metadata": {},
     "output_type": "execute_result"
    }
   ],
   "source": [
    "RF.fit(datos_train,target_train)"
   ]
  },
  {
   "cell_type": "code",
   "execution_count": 233,
   "metadata": {},
   "outputs": [],
   "source": [
    "prediccion_test_RF = RF.predict(test_final)"
   ]
  },
  {
   "cell_type": "code",
   "execution_count": 234,
   "metadata": {},
   "outputs": [
    {
     "data": {
      "text/html": [
       "<div>\n",
       "<style scoped>\n",
       "    .dataframe tbody tr th:only-of-type {\n",
       "        vertical-align: middle;\n",
       "    }\n",
       "\n",
       "    .dataframe tbody tr th {\n",
       "        vertical-align: top;\n",
       "    }\n",
       "\n",
       "    .dataframe thead th {\n",
       "        text-align: right;\n",
       "    }\n",
       "</style>\n",
       "<table border=\"1\" class=\"dataframe\">\n",
       "  <thead>\n",
       "    <tr style=\"text-align: right;\">\n",
       "      <th></th>\n",
       "      <th>target</th>\n",
       "    </tr>\n",
       "    <tr>\n",
       "      <th>id</th>\n",
       "      <th></th>\n",
       "    </tr>\n",
       "  </thead>\n",
       "  <tbody>\n",
       "    <tr>\n",
       "      <th>0</th>\n",
       "      <td>0</td>\n",
       "    </tr>\n",
       "    <tr>\n",
       "      <th>2</th>\n",
       "      <td>1</td>\n",
       "    </tr>\n",
       "    <tr>\n",
       "      <th>3</th>\n",
       "      <td>1</td>\n",
       "    </tr>\n",
       "    <tr>\n",
       "      <th>9</th>\n",
       "      <td>1</td>\n",
       "    </tr>\n",
       "    <tr>\n",
       "      <th>11</th>\n",
       "      <td>1</td>\n",
       "    </tr>\n",
       "  </tbody>\n",
       "</table>\n",
       "</div>"
      ],
      "text/plain": [
       "    target\n",
       "id        \n",
       "0        0\n",
       "2        1\n",
       "3        1\n",
       "9        1\n",
       "11       1"
      ]
     },
     "execution_count": 234,
     "metadata": {},
     "output_type": "execute_result"
    }
   ],
   "source": [
    "entregable_RF=IDS.copy()\n",
    "entregable_RF['target']=prediccion_test_RF\n",
    "entregable_RF.set_index('id',inplace=True)\n",
    "entregable_RF.head()"
   ]
  },
  {
   "cell_type": "code",
   "execution_count": 243,
   "metadata": {},
   "outputs": [],
   "source": [
    "entregable_RF.to_csv('Resultados\\RF_Count_68.csv')"
   ]
  },
  {
   "cell_type": "markdown",
   "metadata": {},
   "source": [
    " "
   ]
  },
  {
   "cell_type": "markdown",
   "metadata": {},
   "source": [
    " "
   ]
  },
  {
   "cell_type": "markdown",
   "metadata": {},
   "source": [
    "### 3.3) Naive Bayes"
   ]
  },
  {
   "cell_type": "code",
   "execution_count": 239,
   "metadata": {},
   "outputs": [],
   "source": [
    "gnb = GaussianNB()"
   ]
  },
  {
   "cell_type": "code",
   "execution_count": 240,
   "metadata": {},
   "outputs": [
    {
     "data": {
      "text/plain": [
       "GaussianNB()"
      ]
     },
     "execution_count": 240,
     "metadata": {},
     "output_type": "execute_result"
    }
   ],
   "source": [
    "gnb.fit(datos_train,target_train)"
   ]
  },
  {
   "cell_type": "code",
   "execution_count": 241,
   "metadata": {},
   "outputs": [
    {
     "name": "stdout",
     "output_type": "stream",
     "text": [
      "Porcentaje: 63.03%\n"
     ]
    }
   ],
   "source": [
    "prediccion_gnb = gnb.predict(datos_test)\n",
    "\n",
    "print('Porcentaje: {0:.2f}%'.format(accuracy_score(target_test,prediccion_gnb)*100))"
   ]
  },
  {
   "cell_type": "code",
   "execution_count": 242,
   "metadata": {},
   "outputs": [],
   "source": [
    "prediccion_test_gnb = gnb.predict(test_final)"
   ]
  },
  {
   "cell_type": "code",
   "execution_count": 244,
   "metadata": {},
   "outputs": [
    {
     "data": {
      "text/html": [
       "<div>\n",
       "<style scoped>\n",
       "    .dataframe tbody tr th:only-of-type {\n",
       "        vertical-align: middle;\n",
       "    }\n",
       "\n",
       "    .dataframe tbody tr th {\n",
       "        vertical-align: top;\n",
       "    }\n",
       "\n",
       "    .dataframe thead th {\n",
       "        text-align: right;\n",
       "    }\n",
       "</style>\n",
       "<table border=\"1\" class=\"dataframe\">\n",
       "  <thead>\n",
       "    <tr style=\"text-align: right;\">\n",
       "      <th></th>\n",
       "      <th>target</th>\n",
       "    </tr>\n",
       "    <tr>\n",
       "      <th>id</th>\n",
       "      <th></th>\n",
       "    </tr>\n",
       "  </thead>\n",
       "  <tbody>\n",
       "    <tr>\n",
       "      <th>0</th>\n",
       "      <td>1</td>\n",
       "    </tr>\n",
       "    <tr>\n",
       "      <th>2</th>\n",
       "      <td>1</td>\n",
       "    </tr>\n",
       "    <tr>\n",
       "      <th>3</th>\n",
       "      <td>1</td>\n",
       "    </tr>\n",
       "    <tr>\n",
       "      <th>9</th>\n",
       "      <td>1</td>\n",
       "    </tr>\n",
       "    <tr>\n",
       "      <th>11</th>\n",
       "      <td>1</td>\n",
       "    </tr>\n",
       "  </tbody>\n",
       "</table>\n",
       "</div>"
      ],
      "text/plain": [
       "    target\n",
       "id        \n",
       "0        1\n",
       "2        1\n",
       "3        1\n",
       "9        1\n",
       "11       1"
      ]
     },
     "execution_count": 244,
     "metadata": {},
     "output_type": "execute_result"
    }
   ],
   "source": [
    "entregable_gnb=IDS.copy()\n",
    "entregable_gnb['target']=prediccion_test_gnb\n",
    "entregable_gnb.set_index('id',inplace=True)\n",
    "entregable_gnb.head()"
   ]
  },
  {
   "cell_type": "code",
   "execution_count": 245,
   "metadata": {},
   "outputs": [],
   "source": [
    "entregable_gnb.to_csv('Resultados/NaiveBayes_Count_2.csv')"
   ]
  },
  {
   "cell_type": "markdown",
   "metadata": {},
   "source": [
    "  "
   ]
  },
  {
   "cell_type": "markdown",
   "metadata": {},
   "source": [
    " "
   ]
  },
  {
   "cell_type": "markdown",
   "metadata": {},
   "source": [
    "### 3.4) Logistic Regression"
   ]
  },
  {
   "cell_type": "markdown",
   "metadata": {},
   "source": [
    "#### 3.4.1) Combinación de Hiper Parámetros"
   ]
  },
  {
   "cell_type": "markdown",
   "metadata": {},
   "source": [
    "##### 3.4.1.1) L2 Lbfgs"
   ]
  },
  {
   "cell_type": "code",
   "execution_count": 246,
   "metadata": {},
   "outputs": [],
   "source": [
    "LogReg_l2_lbfgs = LogisticRegression(penalty='l2',class_weight='dict',solver='lbfgs' )"
   ]
  },
  {
   "cell_type": "code",
   "execution_count": 247,
   "metadata": {},
   "outputs": [
    {
     "name": "stderr",
     "output_type": "stream",
     "text": [
      "C:\\ProgramData\\Anaconda3\\lib\\site-packages\\sklearn\\linear_model\\_logistic.py:762: ConvergenceWarning: lbfgs failed to converge (status=1):\n",
      "STOP: TOTAL NO. of ITERATIONS REACHED LIMIT.\n",
      "\n",
      "Increase the number of iterations (max_iter) or scale the data as shown in:\n",
      "    https://scikit-learn.org/stable/modules/preprocessing.html\n",
      "Please also refer to the documentation for alternative solver options:\n",
      "    https://scikit-learn.org/stable/modules/linear_model.html#logistic-regression\n",
      "  n_iter_i = _check_optimize_result(\n"
     ]
    },
    {
     "data": {
      "text/plain": [
       "LogisticRegression(class_weight='dict')"
      ]
     },
     "execution_count": 247,
     "metadata": {},
     "output_type": "execute_result"
    }
   ],
   "source": [
    "LogReg_l2_lbfgs.fit(datos_train_std,target_train)"
   ]
  },
  {
   "cell_type": "code",
   "execution_count": 248,
   "metadata": {},
   "outputs": [
    {
     "name": "stdout",
     "output_type": "stream",
     "text": [
      "Porcentaje: 75.29%\n"
     ]
    }
   ],
   "source": [
    "prediccion_LogReg_l2_lbfgs = LogReg_l2_lbfgs.predict(datos_test_std)\n",
    "\n",
    "print('Porcentaje: {0:.2f}%'.format(accuracy_score(target_test,prediccion_LogReg_l2_lbfgs)*100))"
   ]
  },
  {
   "cell_type": "markdown",
   "metadata": {},
   "source": [
    "##### 3.4.1.2) L2 Newton-Cg"
   ]
  },
  {
   "cell_type": "code",
   "execution_count": 249,
   "metadata": {},
   "outputs": [],
   "source": [
    "LogReg_l2_newton = LogisticRegression(penalty='l2',class_weight='dict',solver='newton-cg' )"
   ]
  },
  {
   "cell_type": "code",
   "execution_count": 250,
   "metadata": {},
   "outputs": [
    {
     "data": {
      "text/plain": [
       "LogisticRegression(class_weight='dict', solver='newton-cg')"
      ]
     },
     "execution_count": 250,
     "metadata": {},
     "output_type": "execute_result"
    }
   ],
   "source": [
    "LogReg_l2_newton.fit(datos_train_std,target_train)"
   ]
  },
  {
   "cell_type": "code",
   "execution_count": 251,
   "metadata": {},
   "outputs": [
    {
     "name": "stdout",
     "output_type": "stream",
     "text": [
      "Porcentaje: 75.29%\n"
     ]
    }
   ],
   "source": [
    "prediccion_LogReg_l2_newton = LogReg_l2_newton.predict(datos_test_std)\n",
    "\n",
    "print('Porcentaje: {0:.2f}%'.format(accuracy_score(target_test,prediccion_LogReg_l2_newton)*100))"
   ]
  },
  {
   "cell_type": "markdown",
   "metadata": {},
   "source": [
    "##### 3.4.1.3) L2 Liblinear"
   ]
  },
  {
   "cell_type": "code",
   "execution_count": 252,
   "metadata": {},
   "outputs": [],
   "source": [
    "LogReg_l2_liblinear = LogisticRegression(penalty='l2',class_weight='balanced',solver='liblinear' )"
   ]
  },
  {
   "cell_type": "code",
   "execution_count": 253,
   "metadata": {},
   "outputs": [
    {
     "data": {
      "text/plain": [
       "LogisticRegression(class_weight='balanced', solver='liblinear')"
      ]
     },
     "execution_count": 253,
     "metadata": {},
     "output_type": "execute_result"
    }
   ],
   "source": [
    "LogReg_l2_liblinear.fit(datos_train_std,target_train)"
   ]
  },
  {
   "cell_type": "code",
   "execution_count": 254,
   "metadata": {},
   "outputs": [
    {
     "name": "stdout",
     "output_type": "stream",
     "text": [
      "Porcentaje: 74.97%\n"
     ]
    }
   ],
   "source": [
    "prediccion_LogReg_l2_liblinear = LogReg_l2_liblinear.predict(datos_test_std)\n",
    "\n",
    "print('Porcentaje: {0:.2f}%'.format(accuracy_score(target_test,prediccion_LogReg_l2_liblinear)*100))"
   ]
  },
  {
   "cell_type": "markdown",
   "metadata": {},
   "source": [
    "##### 3.4.1.4) L2 Saga"
   ]
  },
  {
   "cell_type": "code",
   "execution_count": 255,
   "metadata": {},
   "outputs": [],
   "source": [
    "LogReg_l2_saga = LogisticRegression(penalty='l2',class_weight='balanced',solver='saga' )"
   ]
  },
  {
   "cell_type": "code",
   "execution_count": 256,
   "metadata": {},
   "outputs": [
    {
     "name": "stderr",
     "output_type": "stream",
     "text": [
      "C:\\ProgramData\\Anaconda3\\lib\\site-packages\\sklearn\\linear_model\\_sag.py:329: ConvergenceWarning: The max_iter was reached which means the coef_ did not converge\n",
      "  warnings.warn(\"The max_iter was reached which means \"\n"
     ]
    },
    {
     "data": {
      "text/plain": [
       "LogisticRegression(class_weight='balanced', solver='saga')"
      ]
     },
     "execution_count": 256,
     "metadata": {},
     "output_type": "execute_result"
    }
   ],
   "source": [
    "LogReg_l2_saga.fit(datos_train_std,target_train)"
   ]
  },
  {
   "cell_type": "code",
   "execution_count": 257,
   "metadata": {},
   "outputs": [
    {
     "name": "stdout",
     "output_type": "stream",
     "text": [
      "Porcentaje: 77.28%\n"
     ]
    }
   ],
   "source": [
    "prediccion_LogReg_l2_saga = LogReg_l2_saga.predict(datos_test_std)\n",
    "\n",
    "print('Porcentaje: {0:.2f}%'.format(accuracy_score(target_test,prediccion_LogReg_l2_saga)*100))"
   ]
  },
  {
   "cell_type": "markdown",
   "metadata": {},
   "source": [
    "##### 3.4.1.5) L1 Liblinear"
   ]
  },
  {
   "cell_type": "code",
   "execution_count": 258,
   "metadata": {},
   "outputs": [],
   "source": [
    "LogReg_l1_liblinear = LogisticRegression(penalty='l1',class_weight='balanced',solver='liblinear' )"
   ]
  },
  {
   "cell_type": "code",
   "execution_count": 259,
   "metadata": {},
   "outputs": [
    {
     "data": {
      "text/plain": [
       "LogisticRegression(class_weight='balanced', penalty='l1', solver='liblinear')"
      ]
     },
     "execution_count": 259,
     "metadata": {},
     "output_type": "execute_result"
    }
   ],
   "source": [
    "LogReg_l1_liblinear.fit(datos_train_std,target_train)"
   ]
  },
  {
   "cell_type": "code",
   "execution_count": 260,
   "metadata": {},
   "outputs": [
    {
     "name": "stdout",
     "output_type": "stream",
     "text": [
      "Porcentaje: 75.89%\n"
     ]
    }
   ],
   "source": [
    "prediccion_LogReg_l1_liblinear = LogReg_l1_liblinear.predict(datos_test_std)\n",
    "\n",
    "print('Porcentaje: {0:.2f}%'.format(accuracy_score(target_test,prediccion_LogReg_l1_liblinear)*100))"
   ]
  },
  {
   "cell_type": "markdown",
   "metadata": {},
   "source": [
    "##### 3.4.1.6) L1 Saga"
   ]
  },
  {
   "cell_type": "code",
   "execution_count": 261,
   "metadata": {},
   "outputs": [],
   "source": [
    "LogReg_l1_saga = LogisticRegression(penalty='l1',class_weight='balanced',solver='saga' )"
   ]
  },
  {
   "cell_type": "code",
   "execution_count": 262,
   "metadata": {},
   "outputs": [
    {
     "name": "stderr",
     "output_type": "stream",
     "text": [
      "C:\\ProgramData\\Anaconda3\\lib\\site-packages\\sklearn\\linear_model\\_sag.py:329: ConvergenceWarning: The max_iter was reached which means the coef_ did not converge\n",
      "  warnings.warn(\"The max_iter was reached which means \"\n"
     ]
    },
    {
     "data": {
      "text/plain": [
       "LogisticRegression(class_weight='balanced', penalty='l1', solver='saga')"
      ]
     },
     "execution_count": 262,
     "metadata": {},
     "output_type": "execute_result"
    }
   ],
   "source": [
    "LogReg_l1_saga.fit(datos_train_std,target_train)"
   ]
  },
  {
   "cell_type": "code",
   "execution_count": 263,
   "metadata": {},
   "outputs": [
    {
     "name": "stdout",
     "output_type": "stream",
     "text": [
      "Porcentaje: 77.52%\n"
     ]
    }
   ],
   "source": [
    "prediccion_LogReg_l1_saga = LogReg_l1_saga.predict(datos_test_std)\n",
    "\n",
    "print('Porcentaje: {0:.2f}%'.format(accuracy_score(target_test,prediccion_LogReg_l1_saga)*100))"
   ]
  },
  {
   "cell_type": "markdown",
   "metadata": {},
   "source": [
    "#### 3.4.2) Predicción final"
   ]
  },
  {
   "cell_type": "code",
   "execution_count": 264,
   "metadata": {},
   "outputs": [],
   "source": [
    "LogReg = LogisticRegression(penalty='l1',class_weight='balanced',solver='saga' )"
   ]
  },
  {
   "cell_type": "code",
   "execution_count": 265,
   "metadata": {},
   "outputs": [
    {
     "name": "stderr",
     "output_type": "stream",
     "text": [
      "C:\\ProgramData\\Anaconda3\\lib\\site-packages\\sklearn\\linear_model\\_sag.py:329: ConvergenceWarning: The max_iter was reached which means the coef_ did not converge\n",
      "  warnings.warn(\"The max_iter was reached which means \"\n"
     ]
    },
    {
     "data": {
      "text/plain": [
       "LogisticRegression(class_weight='balanced', penalty='l1', solver='saga')"
      ]
     },
     "execution_count": 265,
     "metadata": {},
     "output_type": "execute_result"
    }
   ],
   "source": [
    "LogReg.fit(datos_train_std,target_train)"
   ]
  },
  {
   "cell_type": "code",
   "execution_count": 266,
   "metadata": {},
   "outputs": [],
   "source": [
    "prediccion_test_LogReg = LogReg.predict(test_std)"
   ]
  },
  {
   "cell_type": "code",
   "execution_count": 267,
   "metadata": {},
   "outputs": [
    {
     "data": {
      "text/html": [
       "<div>\n",
       "<style scoped>\n",
       "    .dataframe tbody tr th:only-of-type {\n",
       "        vertical-align: middle;\n",
       "    }\n",
       "\n",
       "    .dataframe tbody tr th {\n",
       "        vertical-align: top;\n",
       "    }\n",
       "\n",
       "    .dataframe thead th {\n",
       "        text-align: right;\n",
       "    }\n",
       "</style>\n",
       "<table border=\"1\" class=\"dataframe\">\n",
       "  <thead>\n",
       "    <tr style=\"text-align: right;\">\n",
       "      <th></th>\n",
       "      <th>target</th>\n",
       "    </tr>\n",
       "    <tr>\n",
       "      <th>id</th>\n",
       "      <th></th>\n",
       "    </tr>\n",
       "  </thead>\n",
       "  <tbody>\n",
       "    <tr>\n",
       "      <th>0</th>\n",
       "      <td>0</td>\n",
       "    </tr>\n",
       "    <tr>\n",
       "      <th>2</th>\n",
       "      <td>1</td>\n",
       "    </tr>\n",
       "    <tr>\n",
       "      <th>3</th>\n",
       "      <td>1</td>\n",
       "    </tr>\n",
       "    <tr>\n",
       "      <th>9</th>\n",
       "      <td>1</td>\n",
       "    </tr>\n",
       "    <tr>\n",
       "      <th>11</th>\n",
       "      <td>1</td>\n",
       "    </tr>\n",
       "  </tbody>\n",
       "</table>\n",
       "</div>"
      ],
      "text/plain": [
       "    target\n",
       "id        \n",
       "0        0\n",
       "2        1\n",
       "3        1\n",
       "9        1\n",
       "11       1"
      ]
     },
     "execution_count": 267,
     "metadata": {},
     "output_type": "execute_result"
    }
   ],
   "source": [
    "entregable_LogReg=IDS.copy()\n",
    "entregable_LogReg['target']=prediccion_test_LogReg\n",
    "entregable_LogReg.set_index('id',inplace=True)\n",
    "entregable_LogReg.head()"
   ]
  },
  {
   "cell_type": "code",
   "execution_count": 268,
   "metadata": {},
   "outputs": [],
   "source": [
    "entregable_LogReg.to_csv('Resultados/LogReg_Count_2.csv')"
   ]
  },
  {
   "cell_type": "markdown",
   "metadata": {},
   "source": [
    " "
   ]
  },
  {
   "cell_type": "markdown",
   "metadata": {},
   "source": [
    " "
   ]
  },
  {
   "cell_type": "markdown",
   "metadata": {},
   "source": [
    "### 3.5) SVM"
   ]
  },
  {
   "cell_type": "code",
   "execution_count": 269,
   "metadata": {
    "scrolled": false
   },
   "outputs": [
    {
     "name": "stderr",
     "output_type": "stream",
     "text": [
      "C:\\ProgramData\\Anaconda3\\lib\\site-packages\\sklearn\\svm\\_base.py:976: ConvergenceWarning: Liblinear failed to converge, increase the number of iterations.\n",
      "  warnings.warn(\"Liblinear failed to converge, increase \"\n"
     ]
    },
    {
     "name": "stdout",
     "output_type": "stream",
     "text": [
      "Nro Iteraciones = 100 - Porcentaje: 72.26%\n"
     ]
    },
    {
     "name": "stderr",
     "output_type": "stream",
     "text": [
      "C:\\ProgramData\\Anaconda3\\lib\\site-packages\\sklearn\\svm\\_base.py:976: ConvergenceWarning: Liblinear failed to converge, increase the number of iterations.\n",
      "  warnings.warn(\"Liblinear failed to converge, increase \"\n"
     ]
    },
    {
     "name": "stdout",
     "output_type": "stream",
     "text": [
      "Nro Iteraciones = 150 - Porcentaje: 71.87%\n"
     ]
    },
    {
     "name": "stderr",
     "output_type": "stream",
     "text": [
      "C:\\ProgramData\\Anaconda3\\lib\\site-packages\\sklearn\\svm\\_base.py:976: ConvergenceWarning: Liblinear failed to converge, increase the number of iterations.\n",
      "  warnings.warn(\"Liblinear failed to converge, increase \"\n"
     ]
    },
    {
     "name": "stdout",
     "output_type": "stream",
     "text": [
      "Nro Iteraciones = 200 - Porcentaje: 71.51%\n"
     ]
    },
    {
     "name": "stderr",
     "output_type": "stream",
     "text": [
      "C:\\ProgramData\\Anaconda3\\lib\\site-packages\\sklearn\\svm\\_base.py:976: ConvergenceWarning: Liblinear failed to converge, increase the number of iterations.\n",
      "  warnings.warn(\"Liblinear failed to converge, increase \"\n"
     ]
    },
    {
     "name": "stdout",
     "output_type": "stream",
     "text": [
      "Nro Iteraciones = 250 - Porcentaje: 71.67%\n"
     ]
    },
    {
     "name": "stderr",
     "output_type": "stream",
     "text": [
      "C:\\ProgramData\\Anaconda3\\lib\\site-packages\\sklearn\\svm\\_base.py:976: ConvergenceWarning: Liblinear failed to converge, increase the number of iterations.\n",
      "  warnings.warn(\"Liblinear failed to converge, increase \"\n"
     ]
    },
    {
     "name": "stdout",
     "output_type": "stream",
     "text": [
      "Nro Iteraciones = 300 - Porcentaje: 71.19%\n"
     ]
    },
    {
     "name": "stderr",
     "output_type": "stream",
     "text": [
      "C:\\ProgramData\\Anaconda3\\lib\\site-packages\\sklearn\\svm\\_base.py:976: ConvergenceWarning: Liblinear failed to converge, increase the number of iterations.\n",
      "  warnings.warn(\"Liblinear failed to converge, increase \"\n"
     ]
    },
    {
     "name": "stdout",
     "output_type": "stream",
     "text": [
      "Nro Iteraciones = 350 - Porcentaje: 71.27%\n"
     ]
    },
    {
     "name": "stderr",
     "output_type": "stream",
     "text": [
      "C:\\ProgramData\\Anaconda3\\lib\\site-packages\\sklearn\\svm\\_base.py:976: ConvergenceWarning: Liblinear failed to converge, increase the number of iterations.\n",
      "  warnings.warn(\"Liblinear failed to converge, increase \"\n"
     ]
    },
    {
     "name": "stdout",
     "output_type": "stream",
     "text": [
      "Nro Iteraciones = 400 - Porcentaje: 71.19%\n"
     ]
    },
    {
     "name": "stderr",
     "output_type": "stream",
     "text": [
      "C:\\ProgramData\\Anaconda3\\lib\\site-packages\\sklearn\\svm\\_base.py:976: ConvergenceWarning: Liblinear failed to converge, increase the number of iterations.\n",
      "  warnings.warn(\"Liblinear failed to converge, increase \"\n"
     ]
    },
    {
     "name": "stdout",
     "output_type": "stream",
     "text": [
      "Nro Iteraciones = 450 - Porcentaje: 71.35%\n"
     ]
    },
    {
     "name": "stderr",
     "output_type": "stream",
     "text": [
      "C:\\ProgramData\\Anaconda3\\lib\\site-packages\\sklearn\\svm\\_base.py:976: ConvergenceWarning: Liblinear failed to converge, increase the number of iterations.\n",
      "  warnings.warn(\"Liblinear failed to converge, increase \"\n"
     ]
    },
    {
     "name": "stdout",
     "output_type": "stream",
     "text": [
      "Nro Iteraciones = 500 - Porcentaje: 71.63%\n"
     ]
    },
    {
     "name": "stderr",
     "output_type": "stream",
     "text": [
      "C:\\ProgramData\\Anaconda3\\lib\\site-packages\\sklearn\\svm\\_base.py:976: ConvergenceWarning: Liblinear failed to converge, increase the number of iterations.\n",
      "  warnings.warn(\"Liblinear failed to converge, increase \"\n"
     ]
    },
    {
     "name": "stdout",
     "output_type": "stream",
     "text": [
      "Nro Iteraciones = 550 - Porcentaje: 71.51%\n"
     ]
    },
    {
     "name": "stderr",
     "output_type": "stream",
     "text": [
      "C:\\ProgramData\\Anaconda3\\lib\\site-packages\\sklearn\\svm\\_base.py:976: ConvergenceWarning: Liblinear failed to converge, increase the number of iterations.\n",
      "  warnings.warn(\"Liblinear failed to converge, increase \"\n"
     ]
    },
    {
     "name": "stdout",
     "output_type": "stream",
     "text": [
      "Nro Iteraciones = 600 - Porcentaje: 71.59%\n"
     ]
    },
    {
     "name": "stderr",
     "output_type": "stream",
     "text": [
      "C:\\ProgramData\\Anaconda3\\lib\\site-packages\\sklearn\\svm\\_base.py:976: ConvergenceWarning: Liblinear failed to converge, increase the number of iterations.\n",
      "  warnings.warn(\"Liblinear failed to converge, increase \"\n"
     ]
    },
    {
     "name": "stdout",
     "output_type": "stream",
     "text": [
      "Nro Iteraciones = 650 - Porcentaje: 71.07%\n"
     ]
    },
    {
     "name": "stderr",
     "output_type": "stream",
     "text": [
      "C:\\ProgramData\\Anaconda3\\lib\\site-packages\\sklearn\\svm\\_base.py:976: ConvergenceWarning: Liblinear failed to converge, increase the number of iterations.\n",
      "  warnings.warn(\"Liblinear failed to converge, increase \"\n"
     ]
    },
    {
     "name": "stdout",
     "output_type": "stream",
     "text": [
      "Nro Iteraciones = 700 - Porcentaje: 70.87%\n"
     ]
    },
    {
     "name": "stderr",
     "output_type": "stream",
     "text": [
      "C:\\ProgramData\\Anaconda3\\lib\\site-packages\\sklearn\\svm\\_base.py:976: ConvergenceWarning: Liblinear failed to converge, increase the number of iterations.\n",
      "  warnings.warn(\"Liblinear failed to converge, increase \"\n"
     ]
    },
    {
     "name": "stdout",
     "output_type": "stream",
     "text": [
      "Nro Iteraciones = 750 - Porcentaje: 70.99%\n"
     ]
    },
    {
     "name": "stderr",
     "output_type": "stream",
     "text": [
      "C:\\ProgramData\\Anaconda3\\lib\\site-packages\\sklearn\\svm\\_base.py:976: ConvergenceWarning: Liblinear failed to converge, increase the number of iterations.\n",
      "  warnings.warn(\"Liblinear failed to converge, increase \"\n"
     ]
    },
    {
     "name": "stdout",
     "output_type": "stream",
     "text": [
      "Nro Iteraciones = 800 - Porcentaje: 70.43%\n"
     ]
    },
    {
     "name": "stderr",
     "output_type": "stream",
     "text": [
      "C:\\ProgramData\\Anaconda3\\lib\\site-packages\\sklearn\\svm\\_base.py:976: ConvergenceWarning: Liblinear failed to converge, increase the number of iterations.\n",
      "  warnings.warn(\"Liblinear failed to converge, increase \"\n"
     ]
    },
    {
     "name": "stdout",
     "output_type": "stream",
     "text": [
      "Nro Iteraciones = 850 - Porcentaje: 70.91%\n"
     ]
    },
    {
     "name": "stderr",
     "output_type": "stream",
     "text": [
      "C:\\ProgramData\\Anaconda3\\lib\\site-packages\\sklearn\\svm\\_base.py:976: ConvergenceWarning: Liblinear failed to converge, increase the number of iterations.\n",
      "  warnings.warn(\"Liblinear failed to converge, increase \"\n"
     ]
    },
    {
     "name": "stdout",
     "output_type": "stream",
     "text": [
      "Nro Iteraciones = 900 - Porcentaje: 70.79%\n",
      "Nro Iteraciones = 950 - Porcentaje: 70.55%\n"
     ]
    },
    {
     "name": "stderr",
     "output_type": "stream",
     "text": [
      "C:\\ProgramData\\Anaconda3\\lib\\site-packages\\sklearn\\svm\\_base.py:976: ConvergenceWarning: Liblinear failed to converge, increase the number of iterations.\n",
      "  warnings.warn(\"Liblinear failed to converge, increase \"\n"
     ]
    }
   ],
   "source": [
    "#Busco el valor de K que nos de el mejor porcentaje\n",
    "rango_iteraciones = range(100, 1000, 50)\n",
    "porcentajes_svm=[]\n",
    "\n",
    "for iteraciones in rango_iteraciones:\n",
    "    SVM = svm.LinearSVC(penalty='l2',random_state=0,max_iter=iteraciones,C=1.2)\n",
    "    SVM.fit(datos_train_std,target_train)\n",
    "    prediccion_SVM_validacion=SVM.predict(datos_test_std)\n",
    "    porcentaje=(accuracy_score(target_test,prediccion_SVM_validacion)*100)\n",
    "\n",
    "    print('Nro Iteraciones =',iteraciones,'- Porcentaje: {0:.2f}%'.format(porcentaje))\n",
    "    porcentajes_svm.append(porcentaje)"
   ]
  },
  {
   "cell_type": "code",
   "execution_count": 270,
   "metadata": {},
   "outputs": [
    {
     "data": {
      "text/plain": [
       "Text(0, 0.5, 'Porcentaje')"
      ]
     },
     "execution_count": 270,
     "metadata": {},
     "output_type": "execute_result"
    },
    {
     "data": {
      "image/png": "[encoded data removed]",
      "text/plain": [
       "<Figure size 800x800 with 1 Axes>"
      ]
     },
     "metadata": {},
     "output_type": "display_data"
    }
   ],
   "source": [
    "#Ploteamos para ver una mejor representacion\n",
    "plt.subplots(figsize=(8,8))\n",
    "plt.plot(rango_iteraciones,porcentajes_svm,color='brown')\n",
    "plt.title(\"Porcentajes en Relación al Valor de Iteraciones\",fontsize=20)\n",
    "plt.xlabel(\"Nro de Iteraciones\",fontsize=15)\n",
    "plt.ylabel(\"Porcentaje\",fontsize=15)"
   ]
  },
  {
   "cell_type": "markdown",
   "metadata": {},
   "source": [
    "#### 3.5.1) Prediccion Final"
   ]
  },
  {
   "cell_type": "code",
   "execution_count": 271,
   "metadata": {},
   "outputs": [],
   "source": [
    "SVM = svm.LinearSVC(penalty='l2',random_state=0,max_iter=100,C=1.2)"
   ]
  },
  {
   "cell_type": "code",
   "execution_count": 273,
   "metadata": {},
   "outputs": [
    {
     "name": "stderr",
     "output_type": "stream",
     "text": [
      "C:\\ProgramData\\Anaconda3\\lib\\site-packages\\sklearn\\svm\\_base.py:976: ConvergenceWarning: Liblinear failed to converge, increase the number of iterations.\n",
      "  warnings.warn(\"Liblinear failed to converge, increase \"\n"
     ]
    },
    {
     "data": {
      "text/plain": [
       "LinearSVC(C=1.2, max_iter=100, random_state=0)"
      ]
     },
     "execution_count": 273,
     "metadata": {},
     "output_type": "execute_result"
    }
   ],
   "source": [
    "SVM.fit(datos_train_std,target_train)"
   ]
  },
  {
   "cell_type": "code",
   "execution_count": 274,
   "metadata": {},
   "outputs": [],
   "source": [
    "prediccion_test_SVM = SVM.predict(test_std)"
   ]
  },
  {
   "cell_type": "code",
   "execution_count": 275,
   "metadata": {},
   "outputs": [
    {
     "data": {
      "text/html": [
       "<div>\n",
       "<style scoped>\n",
       "    .dataframe tbody tr th:only-of-type {\n",
       "        vertical-align: middle;\n",
       "    }\n",
       "\n",
       "    .dataframe tbody tr th {\n",
       "        vertical-align: top;\n",
       "    }\n",
       "\n",
       "    .dataframe thead th {\n",
       "        text-align: right;\n",
       "    }\n",
       "</style>\n",
       "<table border=\"1\" class=\"dataframe\">\n",
       "  <thead>\n",
       "    <tr style=\"text-align: right;\">\n",
       "      <th></th>\n",
       "      <th>target</th>\n",
       "    </tr>\n",
       "    <tr>\n",
       "      <th>id</th>\n",
       "      <th></th>\n",
       "    </tr>\n",
       "  </thead>\n",
       "  <tbody>\n",
       "    <tr>\n",
       "      <th>0</th>\n",
       "      <td>0</td>\n",
       "    </tr>\n",
       "    <tr>\n",
       "      <th>2</th>\n",
       "      <td>0</td>\n",
       "    </tr>\n",
       "    <tr>\n",
       "      <th>3</th>\n",
       "      <td>1</td>\n",
       "    </tr>\n",
       "    <tr>\n",
       "      <th>9</th>\n",
       "      <td>1</td>\n",
       "    </tr>\n",
       "    <tr>\n",
       "      <th>11</th>\n",
       "      <td>1</td>\n",
       "    </tr>\n",
       "  </tbody>\n",
       "</table>\n",
       "</div>"
      ],
      "text/plain": [
       "    target\n",
       "id        \n",
       "0        0\n",
       "2        0\n",
       "3        1\n",
       "9        1\n",
       "11       1"
      ]
     },
     "execution_count": 275,
     "metadata": {},
     "output_type": "execute_result"
    }
   ],
   "source": [
    "entregable_SVM=IDS.copy()\n",
    "entregable_SVM['target']=prediccion_test_SVM\n",
    "entregable_SVM.set_index('id',inplace=True)\n",
    "entregable_SVM.head()"
   ]
  },
  {
   "cell_type": "code",
   "execution_count": 276,
   "metadata": {},
   "outputs": [],
   "source": [
    "entregable_SVM.to_csv('Resultados/SVM_Count_2.csv')"
   ]
  },
  {
   "cell_type": "markdown",
   "metadata": {},
   "source": [
    " "
   ]
  },
  {
   "cell_type": "markdown",
   "metadata": {},
   "source": [
    " "
   ]
  },
  {
   "cell_type": "markdown",
   "metadata": {},
   "source": [
    "### 3.6) Multi Layer Perceptron"
   ]
  },
  {
   "cell_type": "markdown",
   "metadata": {},
   "source": [
    "#### 3.6.1) Solver"
   ]
  },
  {
   "cell_type": "markdown",
   "metadata": {},
   "source": [
    "##### 3.6.1.1) Lbfgs"
   ]
  },
  {
   "cell_type": "code",
   "execution_count": 277,
   "metadata": {},
   "outputs": [
    {
     "name": "stdout",
     "output_type": "stream",
     "text": [
      "Porcentaje: 76.08%\n"
     ]
    }
   ],
   "source": [
    "MLP_lbfgs = MLPClassifier(solver='lbfgs',random_state=0)\n",
    "MLP_lbfgs.fit(datos_train_std,target_train)\n",
    "\n",
    "prediccion_MLP_lbfgs = MLP_lbfgs.predict(datos_test_std)\n",
    "\n",
    "print('Porcentaje: {0:.2f}%'.format(accuracy_score(target_test,prediccion_MLP_lbfgs)*100))"
   ]
  },
  {
   "cell_type": "markdown",
   "metadata": {},
   "source": [
    "##### 3.6.1.2) Sgd"
   ]
  },
  {
   "cell_type": "code",
   "execution_count": 278,
   "metadata": {},
   "outputs": [
    {
     "name": "stdout",
     "output_type": "stream",
     "text": [
      "Porcentaje: 77.12%\n"
     ]
    },
    {
     "name": "stderr",
     "output_type": "stream",
     "text": [
      "C:\\ProgramData\\Anaconda3\\lib\\site-packages\\sklearn\\neural_network\\_multilayer_perceptron.py:582: ConvergenceWarning: Stochastic Optimizer: Maximum iterations (200) reached and the optimization hasn't converged yet.\n",
      "  warnings.warn(\n"
     ]
    }
   ],
   "source": [
    "MLP_sgd = MLPClassifier(solver='sgd',random_state=1)\n",
    "MLP_sgd.fit(datos_train_std,target_train)\n",
    "\n",
    "prediccion_MLP_sgd = MLP_sgd.predict(datos_test_std)\n",
    "\n",
    "print('Porcentaje: {0:.2f}%'.format(accuracy_score(target_test,prediccion_MLP_sgd)*100))"
   ]
  },
  {
   "cell_type": "markdown",
   "metadata": {},
   "source": [
    "##### 3.6.1.3) Adam"
   ]
  },
  {
   "cell_type": "code",
   "execution_count": 279,
   "metadata": {},
   "outputs": [
    {
     "name": "stdout",
     "output_type": "stream",
     "text": [
      "Porcentaje: 77.20%\n"
     ]
    }
   ],
   "source": [
    "MLP_adam = MLPClassifier(solver='adam',random_state=1)\n",
    "MLP_adam.fit(datos_train_std,target_train)\n",
    "\n",
    "prediccion_MLP_adam = MLP_adam.predict(datos_test_std)\n",
    "\n",
    "print('Porcentaje: {0:.2f}%'.format(accuracy_score(target_test,prediccion_MLP_adam)*100))"
   ]
  },
  {
   "cell_type": "markdown",
   "metadata": {},
   "source": [
    "#### 3.6.2) Activation"
   ]
  },
  {
   "cell_type": "markdown",
   "metadata": {},
   "source": [
    "##### 3.6.2.1) Identity"
   ]
  },
  {
   "cell_type": "code",
   "execution_count": 280,
   "metadata": {},
   "outputs": [
    {
     "name": "stdout",
     "output_type": "stream",
     "text": [
      "Porcentaje: 76.08%\n"
     ]
    },
    {
     "name": "stderr",
     "output_type": "stream",
     "text": [
      "C:\\ProgramData\\Anaconda3\\lib\\site-packages\\sklearn\\neural_network\\_multilayer_perceptron.py:582: ConvergenceWarning: Stochastic Optimizer: Maximum iterations (200) reached and the optimization hasn't converged yet.\n",
      "  warnings.warn(\n"
     ]
    }
   ],
   "source": [
    "MLP_identity = MLPClassifier(solver='sgd',activation='identity',random_state=0)\n",
    "MLP_identity.fit(datos_train_std,target_train)\n",
    "\n",
    "prediccion_MLP_identity = MLP_identity.predict(datos_test_std)\n",
    "\n",
    "print('Porcentaje: {0:.2f}%'.format(accuracy_score(target_test,prediccion_MLP_identity)*100))"
   ]
  },
  {
   "cell_type": "markdown",
   "metadata": {},
   "source": [
    "##### 3.6.2.2) Logistic"
   ]
  },
  {
   "cell_type": "code",
   "execution_count": 281,
   "metadata": {},
   "outputs": [
    {
     "name": "stdout",
     "output_type": "stream",
     "text": [
      "Porcentaje: 77.84%\n"
     ]
    },
    {
     "name": "stderr",
     "output_type": "stream",
     "text": [
      "C:\\ProgramData\\Anaconda3\\lib\\site-packages\\sklearn\\neural_network\\_multilayer_perceptron.py:582: ConvergenceWarning: Stochastic Optimizer: Maximum iterations (200) reached and the optimization hasn't converged yet.\n",
      "  warnings.warn(\n"
     ]
    }
   ],
   "source": [
    "MLP_logistic = MLPClassifier(solver='sgd',activation='logistic',random_state=0)\n",
    "MLP_logistic.fit(datos_train_std,target_train)\n",
    "\n",
    "prediccion_MLP_logistic = MLP_logistic.predict(datos_test_std)\n",
    "\n",
    "print('Porcentaje: {0:.2f}%'.format(accuracy_score(target_test,prediccion_MLP_logistic)*100))"
   ]
  },
  {
   "cell_type": "markdown",
   "metadata": {},
   "source": [
    "##### 3.6.2.3) Tanh"
   ]
  },
  {
   "cell_type": "code",
   "execution_count": 282,
   "metadata": {},
   "outputs": [
    {
     "name": "stdout",
     "output_type": "stream",
     "text": [
      "Porcentaje: 77.24%\n"
     ]
    },
    {
     "name": "stderr",
     "output_type": "stream",
     "text": [
      "C:\\ProgramData\\Anaconda3\\lib\\site-packages\\sklearn\\neural_network\\_multilayer_perceptron.py:582: ConvergenceWarning: Stochastic Optimizer: Maximum iterations (200) reached and the optimization hasn't converged yet.\n",
      "  warnings.warn(\n"
     ]
    }
   ],
   "source": [
    "MLP_tanh = MLPClassifier(solver='sgd',activation='tanh',random_state=0)\n",
    "MLP_tanh.fit(datos_train_std,target_train)\n",
    "\n",
    "prediccion_MLP_tanh = MLP_tanh.predict(datos_test_std)\n",
    "\n",
    "print('Porcentaje: {0:.2f}%'.format(accuracy_score(target_test,prediccion_MLP_tanh)*100))"
   ]
  },
  {
   "cell_type": "markdown",
   "metadata": {},
   "source": [
    "##### 3.6.2.4) Relu"
   ]
  },
  {
   "cell_type": "code",
   "execution_count": 283,
   "metadata": {},
   "outputs": [
    {
     "name": "stdout",
     "output_type": "stream",
     "text": [
      "Porcentaje: 76.08%\n"
     ]
    },
    {
     "name": "stderr",
     "output_type": "stream",
     "text": [
      "C:\\ProgramData\\Anaconda3\\lib\\site-packages\\sklearn\\neural_network\\_multilayer_perceptron.py:582: ConvergenceWarning: Stochastic Optimizer: Maximum iterations (200) reached and the optimization hasn't converged yet.\n",
      "  warnings.warn(\n"
     ]
    }
   ],
   "source": [
    "MLP_relu = MLPClassifier(solver='sgd',activation='relu',random_state=0)\n",
    "MLP_relu.fit(datos_train_std,target_train)\n",
    "\n",
    "prediccion_MLP_relu = MLP_identity.predict(datos_test_std)\n",
    "\n",
    "print('Porcentaje: {0:.2f}%'.format(accuracy_score(target_test,prediccion_MLP_relu)*100))"
   ]
  },
  {
   "cell_type": "markdown",
   "metadata": {},
   "source": [
    "#### 3.6.3) Max Iter"
   ]
  },
  {
   "cell_type": "code",
   "execution_count": 284,
   "metadata": {},
   "outputs": [
    {
     "name": "stderr",
     "output_type": "stream",
     "text": [
      "C:\\ProgramData\\Anaconda3\\lib\\site-packages\\sklearn\\neural_network\\_multilayer_perceptron.py:582: ConvergenceWarning: Stochastic Optimizer: Maximum iterations (100) reached and the optimization hasn't converged yet.\n",
      "  warnings.warn(\n"
     ]
    },
    {
     "name": "stdout",
     "output_type": "stream",
     "text": [
      "Nro Iteraciones = 100 - Porcentaje: 78.83%\n"
     ]
    },
    {
     "name": "stderr",
     "output_type": "stream",
     "text": [
      "C:\\ProgramData\\Anaconda3\\lib\\site-packages\\sklearn\\neural_network\\_multilayer_perceptron.py:582: ConvergenceWarning: Stochastic Optimizer: Maximum iterations (150) reached and the optimization hasn't converged yet.\n",
      "  warnings.warn(\n"
     ]
    },
    {
     "name": "stdout",
     "output_type": "stream",
     "text": [
      "Nro Iteraciones = 150 - Porcentaje: 78.19%\n"
     ]
    },
    {
     "name": "stderr",
     "output_type": "stream",
     "text": [
      "C:\\ProgramData\\Anaconda3\\lib\\site-packages\\sklearn\\neural_network\\_multilayer_perceptron.py:582: ConvergenceWarning: Stochastic Optimizer: Maximum iterations (200) reached and the optimization hasn't converged yet.\n",
      "  warnings.warn(\n"
     ]
    },
    {
     "name": "stdout",
     "output_type": "stream",
     "text": [
      "Nro Iteraciones = 200 - Porcentaje: 77.84%\n"
     ]
    },
    {
     "name": "stderr",
     "output_type": "stream",
     "text": [
      "C:\\ProgramData\\Anaconda3\\lib\\site-packages\\sklearn\\neural_network\\_multilayer_perceptron.py:582: ConvergenceWarning: Stochastic Optimizer: Maximum iterations (250) reached and the optimization hasn't converged yet.\n",
      "  warnings.warn(\n"
     ]
    },
    {
     "name": "stdout",
     "output_type": "stream",
     "text": [
      "Nro Iteraciones = 250 - Porcentaje: 77.12%\n"
     ]
    },
    {
     "name": "stderr",
     "output_type": "stream",
     "text": [
      "C:\\ProgramData\\Anaconda3\\lib\\site-packages\\sklearn\\neural_network\\_multilayer_perceptron.py:582: ConvergenceWarning: Stochastic Optimizer: Maximum iterations (300) reached and the optimization hasn't converged yet.\n",
      "  warnings.warn(\n"
     ]
    },
    {
     "name": "stdout",
     "output_type": "stream",
     "text": [
      "Nro Iteraciones = 300 - Porcentaje: 76.80%\n"
     ]
    },
    {
     "name": "stderr",
     "output_type": "stream",
     "text": [
      "C:\\ProgramData\\Anaconda3\\lib\\site-packages\\sklearn\\neural_network\\_multilayer_perceptron.py:582: ConvergenceWarning: Stochastic Optimizer: Maximum iterations (350) reached and the optimization hasn't converged yet.\n",
      "  warnings.warn(\n"
     ]
    },
    {
     "name": "stdout",
     "output_type": "stream",
     "text": [
      "Nro Iteraciones = 350 - Porcentaje: 76.80%\n"
     ]
    },
    {
     "name": "stderr",
     "output_type": "stream",
     "text": [
      "C:\\ProgramData\\Anaconda3\\lib\\site-packages\\sklearn\\neural_network\\_multilayer_perceptron.py:582: ConvergenceWarning: Stochastic Optimizer: Maximum iterations (400) reached and the optimization hasn't converged yet.\n",
      "  warnings.warn(\n"
     ]
    },
    {
     "name": "stdout",
     "output_type": "stream",
     "text": [
      "Nro Iteraciones = 400 - Porcentaje: 76.64%\n",
      "Nro Iteraciones = 450 - Porcentaje: 76.60%\n"
     ]
    },
    {
     "name": "stderr",
     "output_type": "stream",
     "text": [
      "C:\\ProgramData\\Anaconda3\\lib\\site-packages\\sklearn\\neural_network\\_multilayer_perceptron.py:582: ConvergenceWarning: Stochastic Optimizer: Maximum iterations (450) reached and the optimization hasn't converged yet.\n",
      "  warnings.warn(\n"
     ]
    }
   ],
   "source": [
    "#Busco el valor de K que nos de el mejor porcentaje\n",
    "rango_iteraciones_MLP = range(100, 500, 50)\n",
    "porcentajes_MLP=[]\n",
    "\n",
    "for iteraciones in rango_iteraciones_MLP:\n",
    "    MLP = MLPClassifier(solver='sgd',activation='logistic',random_state=0,max_iter=iteraciones)\n",
    "    MLP.fit(datos_train_std,target_train)\n",
    "    prediccion_MLP_validacion=MLP.predict(datos_test_std)\n",
    "    porcentaje=(accuracy_score(target_test,prediccion_MLP_validacion)*100)\n",
    "\n",
    "    print('Nro Iteraciones =',iteraciones,'- Porcentaje: {0:.2f}%'.format(porcentaje))\n",
    "    porcentajes_MLP.append(porcentaje)"
   ]
  },
  {
   "cell_type": "code",
   "execution_count": 285,
   "metadata": {},
   "outputs": [
    {
     "data": {
      "text/plain": [
       "Text(0, 0.5, 'Porcentaje')"
      ]
     },
     "execution_count": 285,
     "metadata": {},
     "output_type": "execute_result"
    },
    {
     "data": {
      "image/png": "[encoded data removed]",
      "text/plain": [
       "<Figure size 800x800 with 1 Axes>"
      ]
     },
     "metadata": {},
     "output_type": "display_data"
    }
   ],
   "source": [
    "#Ploteamos para ver una mejor representacion\n",
    "plt.subplots(figsize=(8,8))\n",
    "plt.plot(rango_iteraciones_MLP,porcentajes_MLP,color='blue')\n",
    "plt.title(\"Porcentajes en Relación al Valor de Iteraciones\",fontsize=20)\n",
    "plt.xlabel(\"Nro de Iteraciones\",fontsize=15)\n",
    "plt.ylabel(\"Porcentaje\",fontsize=15)"
   ]
  },
  {
   "cell_type": "markdown",
   "metadata": {},
   "source": [
    "#### 3.6.4) Prediccion Final"
   ]
  },
  {
   "cell_type": "code",
   "execution_count": 286,
   "metadata": {},
   "outputs": [],
   "source": [
    "MLP = MLPClassifier(solver='sgd',activation='logistic',random_state=0,max_iter=100)"
   ]
  },
  {
   "cell_type": "code",
   "execution_count": 287,
   "metadata": {},
   "outputs": [
    {
     "name": "stderr",
     "output_type": "stream",
     "text": [
      "C:\\ProgramData\\Anaconda3\\lib\\site-packages\\sklearn\\neural_network\\_multilayer_perceptron.py:582: ConvergenceWarning: Stochastic Optimizer: Maximum iterations (100) reached and the optimization hasn't converged yet.\n",
      "  warnings.warn(\n"
     ]
    },
    {
     "data": {
      "text/plain": [
       "MLPClassifier(activation='logistic', max_iter=100, random_state=0, solver='sgd')"
      ]
     },
     "execution_count": 287,
     "metadata": {},
     "output_type": "execute_result"
    }
   ],
   "source": [
    "MLP.fit(datos_train_std,target_train)"
   ]
  },
  {
   "cell_type": "code",
   "execution_count": 288,
   "metadata": {},
   "outputs": [],
   "source": [
    "prediccion_test_MLP = MLP.predict(test_std)"
   ]
  },
  {
   "cell_type": "code",
   "execution_count": 289,
   "metadata": {},
   "outputs": [
    {
     "data": {
      "text/html": [
       "<div>\n",
       "<style scoped>\n",
       "    .dataframe tbody tr th:only-of-type {\n",
       "        vertical-align: middle;\n",
       "    }\n",
       "\n",
       "    .dataframe tbody tr th {\n",
       "        vertical-align: top;\n",
       "    }\n",
       "\n",
       "    .dataframe thead th {\n",
       "        text-align: right;\n",
       "    }\n",
       "</style>\n",
       "<table border=\"1\" class=\"dataframe\">\n",
       "  <thead>\n",
       "    <tr style=\"text-align: right;\">\n",
       "      <th></th>\n",
       "      <th>target</th>\n",
       "    </tr>\n",
       "    <tr>\n",
       "      <th>id</th>\n",
       "      <th></th>\n",
       "    </tr>\n",
       "  </thead>\n",
       "  <tbody>\n",
       "    <tr>\n",
       "      <th>0</th>\n",
       "      <td>0</td>\n",
       "    </tr>\n",
       "    <tr>\n",
       "      <th>2</th>\n",
       "      <td>0</td>\n",
       "    </tr>\n",
       "    <tr>\n",
       "      <th>3</th>\n",
       "      <td>1</td>\n",
       "    </tr>\n",
       "    <tr>\n",
       "      <th>9</th>\n",
       "      <td>1</td>\n",
       "    </tr>\n",
       "    <tr>\n",
       "      <th>11</th>\n",
       "      <td>1</td>\n",
       "    </tr>\n",
       "  </tbody>\n",
       "</table>\n",
       "</div>"
      ],
      "text/plain": [
       "    target\n",
       "id        \n",
       "0        0\n",
       "2        0\n",
       "3        1\n",
       "9        1\n",
       "11       1"
      ]
     },
     "execution_count": 289,
     "metadata": {},
     "output_type": "execute_result"
    }
   ],
   "source": [
    "entregable_MLP=IDS.copy()\n",
    "entregable_MLP['target']=prediccion_test_MLP\n",
    "entregable_MLP.set_index('id',inplace=True)\n",
    "entregable_MLP.head()"
   ]
  },
  {
   "cell_type": "code",
   "execution_count": 290,
   "metadata": {},
   "outputs": [],
   "source": [
    "#entregable_MLP.to_csv('Resultados/MLP_Count_1.csv')"
   ]
  },
  {
   "cell_type": "markdown",
   "metadata": {},
   "source": [
    " "
   ]
  },
  {
   "cell_type": "markdown",
   "metadata": {},
   "source": [
    " "
   ]
  },
  {
   "cell_type": "markdown",
   "metadata": {},
   "source": [
    "### 3.7) KNN"
   ]
  },
  {
   "cell_type": "markdown",
   "metadata": {},
   "source": [
    "#### 3.7.1) Algoritmos"
   ]
  },
  {
   "cell_type": "markdown",
   "metadata": {},
   "source": [
    "##### 3.7.1.1) Ball Tree"
   ]
  },
  {
   "cell_type": "code",
   "execution_count": 291,
   "metadata": {},
   "outputs": [
    {
     "name": "stdout",
     "output_type": "stream",
     "text": [
      "Porcentaje: 72.07%\n"
     ]
    }
   ],
   "source": [
    "KNN_ball = KNeighborsClassifier(n_neighbors=5,algorithm='ball_tree',n_jobs=-1)\n",
    "KNN_ball.fit(datos_train_std,target_train)\n",
    "\n",
    "prediccion_KNN_ball = KNN_ball.predict(datos_test_std)\n",
    "\n",
    "print('Porcentaje: {0:.2f}%'.format(accuracy_score(target_test,prediccion_KNN_ball)*100))"
   ]
  },
  {
   "cell_type": "markdown",
   "metadata": {},
   "source": [
    "##### 3.7.1.2) KD Tree"
   ]
  },
  {
   "cell_type": "code",
   "execution_count": 292,
   "metadata": {},
   "outputs": [
    {
     "name": "stdout",
     "output_type": "stream",
     "text": [
      "Porcentaje: 72.07%\n"
     ]
    }
   ],
   "source": [
    "KNN_kd = KNeighborsClassifier(n_neighbors=5,algorithm='kd_tree',n_jobs=-1)\n",
    "KNN_kd.fit(datos_train_std,target_train)\n",
    "\n",
    "prediccion_KNN_kd = KNN_kd.predict(datos_test_std)\n",
    "\n",
    "print('Porcentaje: {0:.2f}%'.format(accuracy_score(target_test,prediccion_KNN_kd)*100))"
   ]
  },
  {
   "cell_type": "markdown",
   "metadata": {},
   "source": [
    "##### 3.7.1.3) Brute"
   ]
  },
  {
   "cell_type": "code",
   "execution_count": 293,
   "metadata": {},
   "outputs": [
    {
     "name": "stdout",
     "output_type": "stream",
     "text": [
      "Porcentaje: 72.03%\n"
     ]
    }
   ],
   "source": [
    "KNN_brute = KNeighborsClassifier(n_neighbors=5,algorithm='brute',n_jobs=-1)\n",
    "KNN_brute.fit(datos_train_std,target_train)\n",
    "\n",
    "prediccion_KNN_brute = KNN_brute.predict(datos_test_std)\n",
    "\n",
    "print('Porcentaje: {0:.2f}%'.format(accuracy_score(target_test,prediccion_KNN_brute)*100))"
   ]
  },
  {
   "cell_type": "markdown",
   "metadata": {},
   "source": [
    "#### 3.7.2) Valor de K"
   ]
  },
  {
   "cell_type": "code",
   "execution_count": 294,
   "metadata": {
    "scrolled": false
   },
   "outputs": [
    {
     "name": "stdout",
     "output_type": "stream",
     "text": [
      "K = 1 - Porcentaje: 68.25%\n",
      "K = 2 - Porcentaje: 72.18%\n",
      "K = 3 - Porcentaje: 70.99%\n",
      "K = 4 - Porcentaje: 71.83%\n",
      "K = 5 - Porcentaje: 72.07%\n",
      "K = 6 - Porcentaje: 69.24%\n",
      "K = 7 - Porcentaje: 70.27%\n",
      "K = 8 - Porcentaje: 67.77%\n",
      "K = 9 - Porcentaje: 68.72%\n",
      "K = 10 - Porcentaje: 66.61%\n",
      "K = 11 - Porcentaje: 67.05%\n",
      "K = 12 - Porcentaje: 65.66%\n",
      "K = 13 - Porcentaje: 65.90%\n",
      "K = 14 - Porcentaje: 64.50%\n"
     ]
    }
   ],
   "source": [
    "#Busco el valor de K que nos de el mejor porcentaje\n",
    "rango_k = range(1, 15)\n",
    "porcentajes_euclidean=[]\n",
    "\n",
    "for k in rango_k:\n",
    "    KNN = KNeighborsClassifier(n_neighbors=k,algorithm='kd_tree',metric='euclidean',n_jobs=-1)\n",
    "    KNN.fit(datos_train_std,target_train)\n",
    "    prediccion_KNN_validacion=KNN.predict(datos_test_std)\n",
    "    porcentaje=(accuracy_score(target_test,prediccion_KNN_validacion)*100)\n",
    "\n",
    "    print('K =',k,'- Porcentaje: {0:.2f}%'.format(porcentaje))\n",
    "    porcentajes_euclidean.append(porcentaje)"
   ]
  },
  {
   "cell_type": "code",
   "execution_count": 295,
   "metadata": {},
   "outputs": [
    {
     "name": "stdout",
     "output_type": "stream",
     "text": [
      "K = 1 - Porcentaje: 70.75%\n",
      "K = 2 - Porcentaje: 72.11%\n",
      "K = 3 - Porcentaje: 71.79%\n",
      "K = 4 - Porcentaje: 70.47%\n",
      "K = 5 - Porcentaje: 72.07%\n",
      "K = 6 - Porcentaje: 69.72%\n",
      "K = 7 - Porcentaje: 71.59%\n",
      "K = 8 - Porcentaje: 68.80%\n",
      "K = 9 - Porcentaje: 69.76%\n",
      "K = 10 - Porcentaje: 67.33%\n",
      "K = 11 - Porcentaje: 68.40%\n",
      "K = 12 - Porcentaje: 66.65%\n",
      "K = 13 - Porcentaje: 67.29%\n",
      "K = 14 - Porcentaje: 65.62%\n"
     ]
    }
   ],
   "source": [
    "#Busco el valor de K que nos de el mejor porcentaje\n",
    "rango_k = range(1, 15)\n",
    "porcentajes_manhattan=[]\n",
    "\n",
    "for k in rango_k:\n",
    "    KNN = KNeighborsClassifier(n_neighbors=k,algorithm='kd_tree',metric='manhattan',n_jobs=-1)\n",
    "    KNN.fit(datos_train_std,target_train)\n",
    "    prediccion_KNN_validacion=KNN.predict(datos_test_std)\n",
    "    porcentaje=(accuracy_score(target_test,prediccion_KNN_validacion)*100)\n",
    "\n",
    "    print('K =',k,'- Porcentaje: {0:.2f}%'.format(porcentaje))\n",
    "    porcentajes_manhattan.append(porcentaje)"
   ]
  },
  {
   "cell_type": "code",
   "execution_count": 296,
   "metadata": {},
   "outputs": [
    {
     "name": "stdout",
     "output_type": "stream",
     "text": [
      "K = 1 - Porcentaje: 64.42%\n",
      "K = 2 - Porcentaje: 63.79%\n",
      "K = 3 - Porcentaje: 60.05%\n",
      "K = 4 - Porcentaje: 60.92%\n",
      "K = 5 - Porcentaje: 59.69%\n",
      "K = 6 - Porcentaje: 60.21%\n",
      "K = 7 - Porcentaje: 58.22%\n",
      "K = 8 - Porcentaje: 57.74%\n",
      "K = 9 - Porcentaje: 58.06%\n",
      "K = 10 - Porcentaje: 58.81%\n",
      "K = 11 - Porcentaje: 57.58%\n",
      "K = 12 - Porcentaje: 58.69%\n",
      "K = 13 - Porcentaje: 56.86%\n",
      "K = 14 - Porcentaje: 58.02%\n"
     ]
    }
   ],
   "source": [
    "#Busco el valor de K que nos de el mejor porcentaje\n",
    "rango_k = range(1, 15)\n",
    "porcentajes_chebyshev=[]\n",
    "\n",
    "for k in rango_k:\n",
    "    KNN = KNeighborsClassifier(n_neighbors=k,algorithm='kd_tree',metric='chebyshev',n_jobs=-1)\n",
    "    KNN.fit(datos_train_std,target_train)\n",
    "    prediccion_KNN_validacion=KNN.predict(datos_test_std)\n",
    "    porcentaje=(accuracy_score(target_test,prediccion_KNN_validacion)*100)\n",
    "\n",
    "    print('K =',k,'- Porcentaje: {0:.2f}%'.format(porcentaje))\n",
    "    porcentajes_chebyshev.append(porcentaje)"
   ]
  },
  {
   "cell_type": "code",
   "execution_count": 297,
   "metadata": {
    "scrolled": false
   },
   "outputs": [
    {
     "data": {
      "image/png": "[encoded data removed]",
      "text/plain": [
       "<Figure size 800x800 with 1 Axes>"
      ]
     },
     "metadata": {},
     "output_type": "display_data"
    }
   ],
   "source": [
    "#Ploteamos para ver una mejor representacion\n",
    "plt.subplots(figsize=(8,8))\n",
    "plt.plot(rango_k,porcentajes_euclidean,color='tomato')\n",
    "plt.plot(rango_k,porcentajes_manhattan,color='green')\n",
    "plt.plot(rango_k,porcentajes_chebyshev,color='royalblue')\n",
    "plt.title(\"Porcentajes en Relación al Valor de K según Metrica\",fontsize=20)\n",
    "plt.xlabel(\"K\",fontsize=15)\n",
    "plt.ylabel(\"Porcentaje\",fontsize=15)\n",
    "leyenda=plt.legend(['Euclidean','Manhattan','Chebyshev'],fontsize=12,title='Medida',frameon=True,facecolor='white',edgecolor='black')\n",
    "leyenda.get_frame().set_linewidth(1.0)"
   ]
  },
  {
   "cell_type": "markdown",
   "metadata": {},
   "source": [
    "#### 3.7.3) Predicción Final"
   ]
  },
  {
   "cell_type": "code",
   "execution_count": 298,
   "metadata": {},
   "outputs": [],
   "source": [
    "KNN = KNeighborsClassifier(n_neighbors=1,algorithm='kd_tree',metric='manhattan',n_jobs=-1)"
   ]
  },
  {
   "cell_type": "code",
   "execution_count": 299,
   "metadata": {},
   "outputs": [
    {
     "data": {
      "text/plain": [
       "KNeighborsClassifier(algorithm='kd_tree', metric='manhattan', n_jobs=-1,\n",
       "                     n_neighbors=1)"
      ]
     },
     "execution_count": 299,
     "metadata": {},
     "output_type": "execute_result"
    }
   ],
   "source": [
    "KNN.fit(datos_train_std,target_train)"
   ]
  },
  {
   "cell_type": "code",
   "execution_count": 300,
   "metadata": {},
   "outputs": [],
   "source": [
    "prediccion_test_KNN = KNN.predict(test_std)"
   ]
  },
  {
   "cell_type": "code",
   "execution_count": 301,
   "metadata": {},
   "outputs": [
    {
     "data": {
      "text/html": [
       "<div>\n",
       "<style scoped>\n",
       "    .dataframe tbody tr th:only-of-type {\n",
       "        vertical-align: middle;\n",
       "    }\n",
       "\n",
       "    .dataframe tbody tr th {\n",
       "        vertical-align: top;\n",
       "    }\n",
       "\n",
       "    .dataframe thead th {\n",
       "        text-align: right;\n",
       "    }\n",
       "</style>\n",
       "<table border=\"1\" class=\"dataframe\">\n",
       "  <thead>\n",
       "    <tr style=\"text-align: right;\">\n",
       "      <th></th>\n",
       "      <th>target</th>\n",
       "    </tr>\n",
       "    <tr>\n",
       "      <th>id</th>\n",
       "      <th></th>\n",
       "    </tr>\n",
       "  </thead>\n",
       "  <tbody>\n",
       "    <tr>\n",
       "      <th>0</th>\n",
       "      <td>0</td>\n",
       "    </tr>\n",
       "    <tr>\n",
       "      <th>2</th>\n",
       "      <td>1</td>\n",
       "    </tr>\n",
       "    <tr>\n",
       "      <th>3</th>\n",
       "      <td>1</td>\n",
       "    </tr>\n",
       "    <tr>\n",
       "      <th>9</th>\n",
       "      <td>0</td>\n",
       "    </tr>\n",
       "    <tr>\n",
       "      <th>11</th>\n",
       "      <td>0</td>\n",
       "    </tr>\n",
       "  </tbody>\n",
       "</table>\n",
       "</div>"
      ],
      "text/plain": [
       "    target\n",
       "id        \n",
       "0        0\n",
       "2        1\n",
       "3        1\n",
       "9        0\n",
       "11       0"
      ]
     },
     "execution_count": 301,
     "metadata": {},
     "output_type": "execute_result"
    }
   ],
   "source": [
    "entregable_KNN=IDS.copy()\n",
    "entregable_KNN['target']=prediccion_test_KNN\n",
    "entregable_KNN.set_index('id',inplace=True)\n",
    "entregable_KNN.head()"
   ]
  },
  {
   "cell_type": "code",
   "execution_count": 302,
   "metadata": {},
   "outputs": [],
   "source": [
    "entregable_KNN.to_csv('Resultados/KNN_Count_2.csv')"
   ]
  },
  {
   "cell_type": "markdown",
   "metadata": {},
   "source": [
    " "
   ]
  },
  {
   "cell_type": "markdown",
   "metadata": {},
   "source": [
    " "
   ]
  },
  {
   "cell_type": "markdown",
   "metadata": {},
   "source": [
    "### 3.8) Árboles de Decisión"
   ]
  },
  {
   "cell_type": "markdown",
   "metadata": {},
   "source": [
    "#### 3.8.1) Splitter"
   ]
  },
  {
   "cell_type": "markdown",
   "metadata": {},
   "source": [
    "##### 3.8.1.1) Best"
   ]
  },
  {
   "cell_type": "code",
   "execution_count": 303,
   "metadata": {},
   "outputs": [
    {
     "name": "stdout",
     "output_type": "stream",
     "text": [
      "Porcentaje: 73.14%\n"
     ]
    }
   ],
   "source": [
    "tree_best = DecisionTreeClassifier(random_state=0,splitter='best')\n",
    "tree_best.fit(datos_train,target_train)\n",
    "\n",
    "prediccion_tree_best = tree_best.predict(datos_test)\n",
    "\n",
    "print('Porcentaje: {0:.2f}%'.format(accuracy_score(target_test,prediccion_tree_best)*100))"
   ]
  },
  {
   "cell_type": "markdown",
   "metadata": {},
   "source": [
    "##### 3.8.1.2) Random"
   ]
  },
  {
   "cell_type": "code",
   "execution_count": 304,
   "metadata": {},
   "outputs": [
    {
     "name": "stdout",
     "output_type": "stream",
     "text": [
      "Porcentaje: 72.22%\n"
     ]
    }
   ],
   "source": [
    "tree_random = DecisionTreeClassifier(random_state=0,splitter='random')\n",
    "tree_random.fit(datos_train,target_train)\n",
    "\n",
    "prediccion_tree_random = tree_random.predict(datos_test)\n",
    "\n",
    "print('Porcentaje: {0:.2f}%'.format(accuracy_score(target_test,prediccion_tree_random)*100))"
   ]
  },
  {
   "cell_type": "markdown",
   "metadata": {},
   "source": [
    "#### 3.8.2) Criterion"
   ]
  },
  {
   "cell_type": "markdown",
   "metadata": {},
   "source": [
    "##### 3.8.2.1) Gini"
   ]
  },
  {
   "cell_type": "code",
   "execution_count": 305,
   "metadata": {},
   "outputs": [
    {
     "name": "stdout",
     "output_type": "stream",
     "text": [
      "Porcentaje: 72.22%\n"
     ]
    }
   ],
   "source": [
    "tree_gini = DecisionTreeClassifier(random_state=0,criterion='gini',splitter='random')\n",
    "tree_gini.fit(datos_train,target_train)\n",
    "\n",
    "prediccion_tree_gini = tree_gini.predict(datos_test)\n",
    "\n",
    "print('Porcentaje: {0:.2f}%'.format(accuracy_score(target_test,prediccion_tree_gini)*100))"
   ]
  },
  {
   "cell_type": "markdown",
   "metadata": {},
   "source": [
    "##### 3.8.2.2) Entropy"
   ]
  },
  {
   "cell_type": "code",
   "execution_count": 306,
   "metadata": {},
   "outputs": [
    {
     "name": "stdout",
     "output_type": "stream",
     "text": [
      "Porcentaje: 72.58%\n"
     ]
    }
   ],
   "source": [
    "tree_entropy = DecisionTreeClassifier(random_state=0,criterion='entropy',splitter='random')\n",
    "tree_entropy.fit(datos_train,target_train)\n",
    "\n",
    "prediccion_tree_entropy = tree_entropy.predict(datos_test)\n",
    "\n",
    "print('Porcentaje: {0:.2f}%'.format(accuracy_score(target_test,prediccion_tree_entropy)*100))"
   ]
  },
  {
   "cell_type": "markdown",
   "metadata": {},
   "source": [
    "#### 3.8.3) Max Features"
   ]
  },
  {
   "cell_type": "markdown",
   "metadata": {},
   "source": [
    "##### 3.8.3.1) Sqrt"
   ]
  },
  {
   "cell_type": "code",
   "execution_count": 307,
   "metadata": {},
   "outputs": [
    {
     "name": "stdout",
     "output_type": "stream",
     "text": [
      "Porcentaje: 70.19%\n"
     ]
    }
   ],
   "source": [
    "tree_sqrt = DecisionTreeClassifier(random_state=0,criterion='gini',splitter='random',max_features='sqrt')\n",
    "tree_sqrt.fit(datos_train,target_train)\n",
    "\n",
    "prediccion_tree_sqrt = tree_sqrt.predict(datos_test)\n",
    "\n",
    "print('Porcentaje: {0:.2f}%'.format(accuracy_score(target_test,prediccion_tree_sqrt)*100))"
   ]
  },
  {
   "cell_type": "markdown",
   "metadata": {},
   "source": [
    "##### 3.8.3.1) Log2"
   ]
  },
  {
   "cell_type": "code",
   "execution_count": 308,
   "metadata": {},
   "outputs": [
    {
     "name": "stdout",
     "output_type": "stream",
     "text": [
      "Porcentaje: 65.22%\n"
     ]
    }
   ],
   "source": [
    "tree_log2 = DecisionTreeClassifier(random_state=0,criterion='entropy',splitter='random',max_features='log2')\n",
    "tree_log2.fit(datos_train,target_train)\n",
    "\n",
    "prediccion_tree_log2 = tree_log2.predict(datos_test)\n",
    "\n",
    "print('Porcentaje: {0:.2f}%'.format(accuracy_score(target_test,prediccion_tree_log2)*100))"
   ]
  },
  {
   "cell_type": "markdown",
   "metadata": {},
   "source": [
    "#### 3.8.4) Prediccion Final"
   ]
  },
  {
   "cell_type": "code",
   "execution_count": 309,
   "metadata": {},
   "outputs": [],
   "source": [
    "tree = DecisionTreeClassifier(random_state=0,criterion='entropy',splitter='random')"
   ]
  },
  {
   "cell_type": "code",
   "execution_count": 310,
   "metadata": {},
   "outputs": [
    {
     "data": {
      "text/plain": [
       "DecisionTreeClassifier(criterion='entropy', random_state=0, splitter='random')"
      ]
     },
     "execution_count": 310,
     "metadata": {},
     "output_type": "execute_result"
    }
   ],
   "source": [
    "tree.fit(datos_train,target_train)"
   ]
  },
  {
   "cell_type": "code",
   "execution_count": 311,
   "metadata": {},
   "outputs": [],
   "source": [
    "prediccion_test_tree = tree.predict(test_final)"
   ]
  },
  {
   "cell_type": "code",
   "execution_count": 220,
   "metadata": {},
   "outputs": [
    {
     "data": {
      "text/html": [
       "<div>\n",
       "<style scoped>\n",
       "    .dataframe tbody tr th:only-of-type {\n",
       "        vertical-align: middle;\n",
       "    }\n",
       "\n",
       "    .dataframe tbody tr th {\n",
       "        vertical-align: top;\n",
       "    }\n",
       "\n",
       "    .dataframe thead th {\n",
       "        text-align: right;\n",
       "    }\n",
       "</style>\n",
       "<table border=\"1\" class=\"dataframe\">\n",
       "  <thead>\n",
       "    <tr style=\"text-align: right;\">\n",
       "      <th></th>\n",
       "      <th>0</th>\n",
       "      <th>1</th>\n",
       "      <th>2</th>\n",
       "      <th>3</th>\n",
       "      <th>4</th>\n",
       "      <th>5</th>\n",
       "      <th>6</th>\n",
       "      <th>7</th>\n",
       "      <th>8</th>\n",
       "      <th>9</th>\n",
       "      <th>...</th>\n",
       "      <th>guardian</th>\n",
       "      <th>claytonbryant</th>\n",
       "      <th>realmandyrain</th>\n",
       "      <th>zak_bagans</th>\n",
       "      <th>accionempresa</th>\n",
       "      <th>wocowae</th>\n",
       "      <th>narendramodi</th>\n",
       "      <th>rohnertparkdps</th>\n",
       "      <th>spencers</th>\n",
       "      <th>target</th>\n",
       "    </tr>\n",
       "  </thead>\n",
       "  <tbody>\n",
       "    <tr>\n",
       "      <th>0</th>\n",
       "      <td>0</td>\n",
       "      <td>0</td>\n",
       "      <td>0</td>\n",
       "      <td>0</td>\n",
       "      <td>0</td>\n",
       "      <td>0</td>\n",
       "      <td>0</td>\n",
       "      <td>0</td>\n",
       "      <td>0</td>\n",
       "      <td>0</td>\n",
       "      <td>...</td>\n",
       "      <td>False</td>\n",
       "      <td>False</td>\n",
       "      <td>False</td>\n",
       "      <td>False</td>\n",
       "      <td>False</td>\n",
       "      <td>False</td>\n",
       "      <td>False</td>\n",
       "      <td>False</td>\n",
       "      <td>False</td>\n",
       "      <td>0</td>\n",
       "    </tr>\n",
       "    <tr>\n",
       "      <th>1</th>\n",
       "      <td>0</td>\n",
       "      <td>0</td>\n",
       "      <td>0</td>\n",
       "      <td>0</td>\n",
       "      <td>0</td>\n",
       "      <td>0</td>\n",
       "      <td>0</td>\n",
       "      <td>0</td>\n",
       "      <td>0</td>\n",
       "      <td>0</td>\n",
       "      <td>...</td>\n",
       "      <td>False</td>\n",
       "      <td>False</td>\n",
       "      <td>False</td>\n",
       "      <td>False</td>\n",
       "      <td>False</td>\n",
       "      <td>False</td>\n",
       "      <td>False</td>\n",
       "      <td>False</td>\n",
       "      <td>False</td>\n",
       "      <td>1</td>\n",
       "    </tr>\n",
       "    <tr>\n",
       "      <th>2</th>\n",
       "      <td>0</td>\n",
       "      <td>0</td>\n",
       "      <td>0</td>\n",
       "      <td>0</td>\n",
       "      <td>0</td>\n",
       "      <td>0</td>\n",
       "      <td>0</td>\n",
       "      <td>0</td>\n",
       "      <td>0</td>\n",
       "      <td>0</td>\n",
       "      <td>...</td>\n",
       "      <td>False</td>\n",
       "      <td>False</td>\n",
       "      <td>False</td>\n",
       "      <td>False</td>\n",
       "      <td>False</td>\n",
       "      <td>False</td>\n",
       "      <td>False</td>\n",
       "      <td>False</td>\n",
       "      <td>False</td>\n",
       "      <td>1</td>\n",
       "    </tr>\n",
       "    <tr>\n",
       "      <th>3</th>\n",
       "      <td>0</td>\n",
       "      <td>0</td>\n",
       "      <td>0</td>\n",
       "      <td>0</td>\n",
       "      <td>0</td>\n",
       "      <td>0</td>\n",
       "      <td>0</td>\n",
       "      <td>0</td>\n",
       "      <td>0</td>\n",
       "      <td>0</td>\n",
       "      <td>...</td>\n",
       "      <td>False</td>\n",
       "      <td>False</td>\n",
       "      <td>False</td>\n",
       "      <td>False</td>\n",
       "      <td>False</td>\n",
       "      <td>False</td>\n",
       "      <td>False</td>\n",
       "      <td>False</td>\n",
       "      <td>False</td>\n",
       "      <td>1</td>\n",
       "    </tr>\n",
       "    <tr>\n",
       "      <th>4</th>\n",
       "      <td>0</td>\n",
       "      <td>0</td>\n",
       "      <td>0</td>\n",
       "      <td>0</td>\n",
       "      <td>0</td>\n",
       "      <td>0</td>\n",
       "      <td>0</td>\n",
       "      <td>0</td>\n",
       "      <td>0</td>\n",
       "      <td>0</td>\n",
       "      <td>...</td>\n",
       "      <td>False</td>\n",
       "      <td>False</td>\n",
       "      <td>False</td>\n",
       "      <td>False</td>\n",
       "      <td>False</td>\n",
       "      <td>False</td>\n",
       "      <td>False</td>\n",
       "      <td>False</td>\n",
       "      <td>False</td>\n",
       "      <td>1</td>\n",
       "    </tr>\n",
       "  </tbody>\n",
       "</table>\n",
       "<p>5 rows × 6837 columns</p>\n",
       "</div>"
      ],
      "text/plain": [
       "   0  1  2  3  4  5  6  7  8  9  ...  guardian  claytonbryant  realmandyrain  \\\n",
       "0  0  0  0  0  0  0  0  0  0  0  ...     False          False          False   \n",
       "1  0  0  0  0  0  0  0  0  0  0  ...     False          False          False   \n",
       "2  0  0  0  0  0  0  0  0  0  0  ...     False          False          False   \n",
       "3  0  0  0  0  0  0  0  0  0  0  ...     False          False          False   \n",
       "4  0  0  0  0  0  0  0  0  0  0  ...     False          False          False   \n",
       "\n",
       "   zak_bagans  accionempresa  wocowae  narendramodi  rohnertparkdps  spencers  \\\n",
       "0       False          False    False         False           False     False   \n",
       "1       False          False    False         False           False     False   \n",
       "2       False          False    False         False           False     False   \n",
       "3       False          False    False         False           False     False   \n",
       "4       False          False    False         False           False     False   \n",
       "\n",
       "   target  \n",
       "0       0  \n",
       "1       1  \n",
       "2       1  \n",
       "3       1  \n",
       "4       1  \n",
       "\n",
       "[5 rows x 6837 columns]"
      ]
     },
     "execution_count": 220,
     "metadata": {},
     "output_type": "execute_result"
    }
   ],
   "source": [
    "entregable_tree=IDS.copy()\n",
    "entregable_tree['target']=prediccion_test_tree\n",
    "entregable_tree.set_index('id',inplace=True)\n",
    "entregable_tree.head()"
   ]
  },
  {
   "cell_type": "code",
   "execution_count": 312,
   "metadata": {},
   "outputs": [],
   "source": [
    "entregable_tree.to_csv('Resultados/ArbolDecision_Count_2.csv')"
   ]
  },
  {
   "cell_type": "markdown",
   "metadata": {},
   "source": [
    " "
   ]
  },
  {
   "cell_type": "markdown",
   "metadata": {},
   "source": [
    " "
   ]
  },
  {
   "cell_type": "markdown",
   "metadata": {},
   "source": [
    "### 3.9) Ada Boosting"
   ]
  },
  {
   "cell_type": "code",
   "execution_count": 313,
   "metadata": {},
   "outputs": [
    {
     "name": "stdout",
     "output_type": "stream",
     "text": [
      "Nro Iteraciones = 100 - Porcentaje: 77.52%\n",
      "Nro Iteraciones = 150 - Porcentaje: 78.07%\n",
      "Nro Iteraciones = 200 - Porcentaje: 78.19%\n",
      "Nro Iteraciones = 250 - Porcentaje: 79.27%\n",
      "Nro Iteraciones = 300 - Porcentaje: 79.27%\n",
      "Nro Iteraciones = 350 - Porcentaje: 78.79%\n",
      "Nro Iteraciones = 400 - Porcentaje: 78.87%\n",
      "Nro Iteraciones = 450 - Porcentaje: 79.23%\n"
     ]
    }
   ],
   "source": [
    "#Busco el valor de K que nos de el mejor porcentaje\n",
    "rango_iteraciones_ada = range(100, 500, 50)\n",
    "porcentajes_ada=[]\n",
    "\n",
    "for iteraciones in rango_iteraciones_ada:\n",
    "    ada = AdaBoostClassifier(n_estimators=iteraciones, random_state=0)\n",
    "    ada.fit(datos_train_std,target_train)\n",
    "    prediccion_ada_validacion=ada.predict(datos_test_std)\n",
    "    porcentaje=(accuracy_score(target_test,prediccion_ada_validacion)*100)\n",
    "\n",
    "    print('Nro Iteraciones =',iteraciones,'- Porcentaje: {0:.2f}%'.format(porcentaje))\n",
    "    porcentajes_ada.append(porcentaje)"
   ]
  },
  {
   "cell_type": "code",
   "execution_count": 314,
   "metadata": {},
   "outputs": [
    {
     "data": {
      "text/plain": [
       "Text(0, 0.5, 'Porcentaje')"
      ]
     },
     "execution_count": 314,
     "metadata": {},
     "output_type": "execute_result"
    },
    {
     "data": {
      "image/png": "[encoded data removed]",
      "text/plain": [
       "<Figure size 800x800 with 1 Axes>"
      ]
     },
     "metadata": {},
     "output_type": "display_data"
    }
   ],
   "source": [
    "#Ploteamos para ver una mejor representacion\n",
    "plt.subplots(figsize=(8,8))\n",
    "plt.plot(rango_iteraciones_ada,porcentajes_ada,color='green')\n",
    "plt.title(\"Porcentajes en Relación la maxima cantidad de Iteraciones\",fontsize=20)\n",
    "plt.xlabel(\"Nro de Iteraciones\",fontsize=15)\n",
    "plt.ylabel(\"Porcentaje\",fontsize=15)"
   ]
  },
  {
   "cell_type": "markdown",
   "metadata": {},
   "source": [
    "#### 3.9.1) Predicción Final"
   ]
  },
  {
   "cell_type": "code",
   "execution_count": 315,
   "metadata": {},
   "outputs": [],
   "source": [
    "ada = AdaBoostClassifier(n_estimators=200, random_state=0)"
   ]
  },
  {
   "cell_type": "code",
   "execution_count": 316,
   "metadata": {},
   "outputs": [
    {
     "data": {
      "text/plain": [
       "AdaBoostClassifier(n_estimators=200, random_state=0)"
      ]
     },
     "execution_count": 316,
     "metadata": {},
     "output_type": "execute_result"
    }
   ],
   "source": [
    "ada.fit(datos_train_std,target_train)"
   ]
  },
  {
   "cell_type": "code",
   "execution_count": 317,
   "metadata": {},
   "outputs": [],
   "source": [
    "prediccion_test_ada = ada.predict(test_final)"
   ]
  },
  {
   "cell_type": "code",
   "execution_count": 319,
   "metadata": {
    "scrolled": true
   },
   "outputs": [
    {
     "data": {
      "text/html": [
       "<div>\n",
       "<style scoped>\n",
       "    .dataframe tbody tr th:only-of-type {\n",
       "        vertical-align: middle;\n",
       "    }\n",
       "\n",
       "    .dataframe tbody tr th {\n",
       "        vertical-align: top;\n",
       "    }\n",
       "\n",
       "    .dataframe thead th {\n",
       "        text-align: right;\n",
       "    }\n",
       "</style>\n",
       "<table border=\"1\" class=\"dataframe\">\n",
       "  <thead>\n",
       "    <tr style=\"text-align: right;\">\n",
       "      <th></th>\n",
       "      <th>target</th>\n",
       "    </tr>\n",
       "    <tr>\n",
       "      <th>id</th>\n",
       "      <th></th>\n",
       "    </tr>\n",
       "  </thead>\n",
       "  <tbody>\n",
       "    <tr>\n",
       "      <th>0</th>\n",
       "      <td>0</td>\n",
       "    </tr>\n",
       "    <tr>\n",
       "      <th>2</th>\n",
       "      <td>0</td>\n",
       "    </tr>\n",
       "    <tr>\n",
       "      <th>3</th>\n",
       "      <td>0</td>\n",
       "    </tr>\n",
       "    <tr>\n",
       "      <th>9</th>\n",
       "      <td>0</td>\n",
       "    </tr>\n",
       "    <tr>\n",
       "      <th>11</th>\n",
       "      <td>0</td>\n",
       "    </tr>\n",
       "  </tbody>\n",
       "</table>\n",
       "</div>"
      ],
      "text/plain": [
       "    target\n",
       "id        \n",
       "0        0\n",
       "2        0\n",
       "3        0\n",
       "9        0\n",
       "11       0"
      ]
     },
     "execution_count": 319,
     "metadata": {},
     "output_type": "execute_result"
    }
   ],
   "source": [
    "entregable_ada=IDS.copy()\n",
    "entregable_ada['target']=prediccion_test_ada\n",
    "entregable_ada.set_index('id',inplace=True)\n",
    "entregable_ada.head()"
   ]
  },
  {
   "cell_type": "code",
   "execution_count": 320,
   "metadata": {},
   "outputs": [],
   "source": [
    "entregable_ada.to_csv('Resultados/AdaBoosting_Count_2.csv')"
   ]
  },
  {
   "cell_type": "markdown",
   "metadata": {},
   "source": [
    " "
   ]
  },
  {
   "cell_type": "markdown",
   "metadata": {},
   "source": [
    " "
   ]
  },
  {
   "cell_type": "markdown",
   "metadata": {},
   "source": [
    "### 3.11) Bagging Random Forest"
   ]
  },
  {
   "cell_type": "code",
   "execution_count": 321,
   "metadata": {},
   "outputs": [],
   "source": [
    "bagging_RF = BaggingClassifier(base_estimator=RandomForestClassifier(random_state=0, n_jobs=-1, n_estimators=450, oob_score=True,max_features='log2',min_samples_split=50,criterion='entropy',class_weight='balanced_subsample'),n_estimators=200,random_state=0)"
   ]
  },
  {
   "cell_type": "code",
   "execution_count": 322,
   "metadata": {},
   "outputs": [
    {
     "data": {
      "text/plain": [
       "BaggingClassifier(base_estimator=RandomForestClassifier(class_weight='balanced_subsample',\n",
       "                                                        criterion='entropy',\n",
       "                                                        max_features='log2',\n",
       "                                                        min_samples_split=50,\n",
       "                                                        n_estimators=450,\n",
       "                                                        n_jobs=-1,\n",
       "                                                        oob_score=True,\n",
       "                                                        random_state=0),\n",
       "                  n_estimators=200, random_state=0)"
      ]
     },
     "execution_count": 322,
     "metadata": {},
     "output_type": "execute_result"
    }
   ],
   "source": [
    "bagging_RF.fit(datos_train,target_train)"
   ]
  },
  {
   "cell_type": "code",
   "execution_count": 323,
   "metadata": {},
   "outputs": [
    {
     "name": "stdout",
     "output_type": "stream",
     "text": [
      "Porcentaje: 81.97%\n"
     ]
    }
   ],
   "source": [
    "prediccion_bagging_RF = bagging_RF.predict(datos_test)\n",
    "\n",
    "print('Porcentaje: {0:.2f}%'.format(accuracy_score(target_test,prediccion_bagging_RF)*100))"
   ]
  },
  {
   "cell_type": "code",
   "execution_count": 324,
   "metadata": {},
   "outputs": [],
   "source": [
    "prediccion_test_bagging_RF = bagging_RF.predict(test_final)"
   ]
  },
  {
   "cell_type": "code",
   "execution_count": 325,
   "metadata": {},
   "outputs": [
    {
     "data": {
      "text/html": [
       "<div>\n",
       "<style scoped>\n",
       "    .dataframe tbody tr th:only-of-type {\n",
       "        vertical-align: middle;\n",
       "    }\n",
       "\n",
       "    .dataframe tbody tr th {\n",
       "        vertical-align: top;\n",
       "    }\n",
       "\n",
       "    .dataframe thead th {\n",
       "        text-align: right;\n",
       "    }\n",
       "</style>\n",
       "<table border=\"1\" class=\"dataframe\">\n",
       "  <thead>\n",
       "    <tr style=\"text-align: right;\">\n",
       "      <th></th>\n",
       "      <th>target</th>\n",
       "    </tr>\n",
       "    <tr>\n",
       "      <th>id</th>\n",
       "      <th></th>\n",
       "    </tr>\n",
       "  </thead>\n",
       "  <tbody>\n",
       "    <tr>\n",
       "      <th>0</th>\n",
       "      <td>0</td>\n",
       "    </tr>\n",
       "    <tr>\n",
       "      <th>2</th>\n",
       "      <td>1</td>\n",
       "    </tr>\n",
       "    <tr>\n",
       "      <th>3</th>\n",
       "      <td>1</td>\n",
       "    </tr>\n",
       "    <tr>\n",
       "      <th>9</th>\n",
       "      <td>1</td>\n",
       "    </tr>\n",
       "    <tr>\n",
       "      <th>11</th>\n",
       "      <td>1</td>\n",
       "    </tr>\n",
       "  </tbody>\n",
       "</table>\n",
       "</div>"
      ],
      "text/plain": [
       "    target\n",
       "id        \n",
       "0        0\n",
       "2        1\n",
       "3        1\n",
       "9        1\n",
       "11       1"
      ]
     },
     "execution_count": 325,
     "metadata": {},
     "output_type": "execute_result"
    }
   ],
   "source": [
    "entregable_bagging_RF=IDS.copy()\n",
    "entregable_bagging_RF['target']=prediccion_test_bagging_RF\n",
    "entregable_bagging_RF.set_index('id',inplace=True)\n",
    "entregable_bagging_RF.head()"
   ]
  },
  {
   "cell_type": "code",
   "execution_count": 326,
   "metadata": {},
   "outputs": [],
   "source": [
    "entregable_bagging_RF.to_csv('Resultados/Bagging_RF_Count_2.csv')"
   ]
  },
  {
   "cell_type": "markdown",
   "metadata": {},
   "source": [
    " "
   ]
  },
  {
   "cell_type": "markdown",
   "metadata": {},
   "source": [
    " "
   ]
  },
  {
   "cell_type": "markdown",
   "metadata": {},
   "source": [
    "### 3.12) Voting Classifier"
   ]
  },
  {
   "cell_type": "code",
   "execution_count": 327,
   "metadata": {},
   "outputs": [],
   "source": [
    "RF1 = RandomForestClassifier(random_state=0, n_jobs=-1, n_estimators=450, oob_score=True,max_features='log2',min_samples_split=50,criterion='entropy',class_weight='balanced_subsample')\n",
    "RF2 = RandomForestClassifier(random_state=0, n_jobs=-1, n_estimators=550, oob_score=True,max_features='log2',min_samples_split=50,criterion='entropy',class_weight='balanced_subsample')\n",
    "RF3 = RandomForestClassifier(random_state=0, n_jobs=-1, n_estimators=650, oob_score=True,max_features='log2',min_samples_split=50,criterion='entropy',class_weight='balanced_subsample')"
   ]
  },
  {
   "cell_type": "code",
   "execution_count": 328,
   "metadata": {},
   "outputs": [],
   "source": [
    "voting = VotingClassifier(estimators=[('rf1', RF1), ('rf2', RF2), ('rf3', RF3)],voting='hard')"
   ]
  },
  {
   "cell_type": "code",
   "execution_count": 329,
   "metadata": {},
   "outputs": [
    {
     "data": {
      "text/plain": [
       "VotingClassifier(estimators=[('rf1',\n",
       "                              RandomForestClassifier(class_weight='balanced_subsample',\n",
       "                                                     criterion='entropy',\n",
       "                                                     max_features='log2',\n",
       "                                                     min_samples_split=50,\n",
       "                                                     n_estimators=450,\n",
       "                                                     n_jobs=-1, oob_score=True,\n",
       "                                                     random_state=0)),\n",
       "                             ('rf2',\n",
       "                              RandomForestClassifier(class_weight='balanced_subsample',\n",
       "                                                     criterion='entropy',\n",
       "                                                     max_features='log2',\n",
       "                                                     min_samples_split=50,\n",
       "                                                     n_estimators=550,\n",
       "                                                     n_jobs=-1, oob_score=True,\n",
       "                                                     random_state=0)),\n",
       "                             ('rf3',\n",
       "                              RandomForestClassifier(class_weight='balanced_subsample',\n",
       "                                                     criterion='entropy',\n",
       "                                                     max_features='log2',\n",
       "                                                     min_samples_split=50,\n",
       "                                                     n_estimators=650,\n",
       "                                                     n_jobs=-1, oob_score=True,\n",
       "                                                     random_state=0))])"
      ]
     },
     "execution_count": 329,
     "metadata": {},
     "output_type": "execute_result"
    }
   ],
   "source": [
    "voting.fit(datos_train,target_train)"
   ]
  },
  {
   "cell_type": "code",
   "execution_count": 330,
   "metadata": {},
   "outputs": [
    {
     "name": "stdout",
     "output_type": "stream",
     "text": [
      "Porcentaje: 82.69%\n"
     ]
    }
   ],
   "source": [
    "prediccion_voting = voting.predict(datos_test)\n",
    "\n",
    "print('Porcentaje: {0:.2f}%'.format(accuracy_score(target_test,prediccion_voting)*100))"
   ]
  },
  {
   "cell_type": "code",
   "execution_count": 331,
   "metadata": {},
   "outputs": [],
   "source": [
    "prediccion_test_voting = voting.predict(test_final)"
   ]
  },
  {
   "cell_type": "code",
   "execution_count": 332,
   "metadata": {},
   "outputs": [
    {
     "data": {
      "text/html": [
       "<div>\n",
       "<style scoped>\n",
       "    .dataframe tbody tr th:only-of-type {\n",
       "        vertical-align: middle;\n",
       "    }\n",
       "\n",
       "    .dataframe tbody tr th {\n",
       "        vertical-align: top;\n",
       "    }\n",
       "\n",
       "    .dataframe thead th {\n",
       "        text-align: right;\n",
       "    }\n",
       "</style>\n",
       "<table border=\"1\" class=\"dataframe\">\n",
       "  <thead>\n",
       "    <tr style=\"text-align: right;\">\n",
       "      <th></th>\n",
       "      <th>target</th>\n",
       "    </tr>\n",
       "    <tr>\n",
       "      <th>id</th>\n",
       "      <th></th>\n",
       "    </tr>\n",
       "  </thead>\n",
       "  <tbody>\n",
       "    <tr>\n",
       "      <th>0</th>\n",
       "      <td>0</td>\n",
       "    </tr>\n",
       "    <tr>\n",
       "      <th>2</th>\n",
       "      <td>1</td>\n",
       "    </tr>\n",
       "    <tr>\n",
       "      <th>3</th>\n",
       "      <td>1</td>\n",
       "    </tr>\n",
       "    <tr>\n",
       "      <th>9</th>\n",
       "      <td>1</td>\n",
       "    </tr>\n",
       "    <tr>\n",
       "      <th>11</th>\n",
       "      <td>1</td>\n",
       "    </tr>\n",
       "  </tbody>\n",
       "</table>\n",
       "</div>"
      ],
      "text/plain": [
       "    target\n",
       "id        \n",
       "0        0\n",
       "2        1\n",
       "3        1\n",
       "9        1\n",
       "11       1"
      ]
     },
     "execution_count": 332,
     "metadata": {},
     "output_type": "execute_result"
    }
   ],
   "source": [
    "entregable_voting=IDS.copy()\n",
    "entregable_voting['target']=prediccion_test_voting\n",
    "entregable_voting.set_index('id',inplace=True)\n",
    "entregable_voting.head()"
   ]
  },
  {
   "cell_type": "code",
   "execution_count": 333,
   "metadata": {},
   "outputs": [],
   "source": [
    "entregable_voting.to_csv('Resultados/Voting_Count_3.csv')"
   ]
  },
  {
   "cell_type": "markdown",
   "metadata": {},
   "source": [
    " "
   ]
  },
  {
   "cell_type": "markdown",
   "metadata": {},
   "source": [
    " "
   ]
  },
  {
   "cell_type": "markdown",
   "metadata": {},
   "source": [
    "### 3.13) CatBoosting"
   ]
  },
  {
   "cell_type": "code",
   "execution_count": 334,
   "metadata": {},
   "outputs": [],
   "source": [
    "cat_boosting = CatBoostClassifier(custom_loss=['Accuracy'],random_seed=42,logging_level='Silent')"
   ]
  },
  {
   "cell_type": "code",
   "execution_count": 335,
   "metadata": {},
   "outputs": [
    {
     "data": {
      "text/plain": [
       "<catboost.core.CatBoostClassifier at 0x21cddef3520>"
      ]
     },
     "execution_count": 335,
     "metadata": {},
     "output_type": "execute_result"
    }
   ],
   "source": [
    "cat_boosting.fit(datos_train,target_train)"
   ]
  },
  {
   "cell_type": "code",
   "execution_count": 336,
   "metadata": {},
   "outputs": [
    {
     "name": "stdout",
     "output_type": "stream",
     "text": [
      "Porcentaje: 80.22%\n"
     ]
    }
   ],
   "source": [
    "prediccion_cat_boosting = cat_boosting.predict(datos_test)\n",
    "\n",
    "print('Porcentaje: {0:.2f}%'.format(accuracy_score(target_test,prediccion_cat_boosting)*100))"
   ]
  },
  {
   "cell_type": "code",
   "execution_count": 337,
   "metadata": {},
   "outputs": [],
   "source": [
    "prediccion_test_cat_boosting = cat_boosting.predict(test_final)"
   ]
  },
  {
   "cell_type": "code",
   "execution_count": 338,
   "metadata": {},
   "outputs": [
    {
     "data": {
      "text/html": [
       "<div>\n",
       "<style scoped>\n",
       "    .dataframe tbody tr th:only-of-type {\n",
       "        vertical-align: middle;\n",
       "    }\n",
       "\n",
       "    .dataframe tbody tr th {\n",
       "        vertical-align: top;\n",
       "    }\n",
       "\n",
       "    .dataframe thead th {\n",
       "        text-align: right;\n",
       "    }\n",
       "</style>\n",
       "<table border=\"1\" class=\"dataframe\">\n",
       "  <thead>\n",
       "    <tr style=\"text-align: right;\">\n",
       "      <th></th>\n",
       "      <th>target</th>\n",
       "    </tr>\n",
       "    <tr>\n",
       "      <th>id</th>\n",
       "      <th></th>\n",
       "    </tr>\n",
       "  </thead>\n",
       "  <tbody>\n",
       "    <tr>\n",
       "      <th>0</th>\n",
       "      <td>0</td>\n",
       "    </tr>\n",
       "    <tr>\n",
       "      <th>2</th>\n",
       "      <td>1</td>\n",
       "    </tr>\n",
       "    <tr>\n",
       "      <th>3</th>\n",
       "      <td>1</td>\n",
       "    </tr>\n",
       "    <tr>\n",
       "      <th>9</th>\n",
       "      <td>1</td>\n",
       "    </tr>\n",
       "    <tr>\n",
       "      <th>11</th>\n",
       "      <td>1</td>\n",
       "    </tr>\n",
       "  </tbody>\n",
       "</table>\n",
       "</div>"
      ],
      "text/plain": [
       "    target\n",
       "id        \n",
       "0        0\n",
       "2        1\n",
       "3        1\n",
       "9        1\n",
       "11       1"
      ]
     },
     "execution_count": 338,
     "metadata": {},
     "output_type": "execute_result"
    }
   ],
   "source": [
    "entregable_cat_boosting=IDS.copy()\n",
    "entregable_cat_boosting['target']=prediccion_test_cat_boosting\n",
    "entregable_cat_boosting.set_index('id',inplace=True)\n",
    "entregable_cat_boosting.head()"
   ]
  },
  {
   "cell_type": "code",
   "execution_count": 339,
   "metadata": {},
   "outputs": [],
   "source": [
    "entregable_cat_boosting.to_csv('Resultados/Catboosting_Count_1.csv')"
   ]
  }
 ],
 "metadata": {
  "kernelspec": {
   "display_name": "Python 3",
   "language": "python",
   "name": "python3"
  },
  "language_info": {
   "codemirror_mode": {
    "name": "ipython",
    "version": 3
   },
   "file_extension": ".py",
   "mimetype": "text/x-python",
   "name": "python",
   "nbconvert_exporter": "python",
   "pygments_lexer": "ipython3",
   "version": "3.8.3"
  }
 },
 "nbformat": 4,
 "nbformat_minor": 4
}
